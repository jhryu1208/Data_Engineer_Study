{
 "cells": [
  {
   "cell_type": "markdown",
   "metadata": {},
   "source": [
    "## [ 계정과 스키마 ]\n",
    "\n",
    "---\n",
    "### Schema\n",
    "\n",
    "- Schema(스키마) : <b>스키마 오브젝트</b>들의 집합\n",
    "- Schema Obeject(스키마 오브젝트) : <b> 테이블, 뷰, 인덱스</b>와 같은 구조를 포함하는 논리적인 데이터 저장 구조를 가진 객체\n",
    "\n",
    "\n",
    "- 하나의 스키마는 데이터베이스 user에 의해 소유된다.\n",
    "- user를 생성할때 스키마도 따라 생성되며, 하나의 user는 1개 이상의 스키마를 소유할 수 있다.\n",
    "- 다른 스키마안에 있는 오브젝트는 이름이 같아도 다른 오브젝트로 취급한다.  \n",
    "  >  ex)  \n",
    "  >  A user의 A schema( SCHOOL테이블 / JOB테이블 )  \n",
    "  >  B user의 B schema( SCHOOL테이블 / JOB테이블 )  \n",
    "  >  -> A schema의 SCHOOL테이블과 JOB테이블 ≠ B schema의 SCHOOL테이블과 JOB테이블\n",
    "\n",
    "### User\n",
    "\n",
    "- 계정 정보는 '데이터 딕셔너리'에 저장되므로, 일반 데이터를 백업하는 것처럼 백업할 수 없다.\n",
    "- 계정을 생성할때 사용했던 DDL문을 백업해두거나 DDL문을 추출해야한다."
   ]
  }
 ],
 "metadata": {
  "kernelspec": {
   "display_name": "Python 3",
   "language": "python",
   "name": "python3"
  },
  "language_info": {
   "codemirror_mode": {
    "name": "ipython",
    "version": 3
   },
   "file_extension": ".py",
   "mimetype": "text/x-python",
   "name": "python",
   "nbconvert_exporter": "python",
   "pygments_lexer": "ipython3",
   "version": "3.7.7"
  }
 },
 "nbformat": 4,
 "nbformat_minor": 4
}
