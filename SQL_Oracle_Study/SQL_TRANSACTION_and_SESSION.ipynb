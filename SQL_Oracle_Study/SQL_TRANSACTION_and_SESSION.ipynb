{
 "cells": [
  {
   "cell_type": "markdown",
   "metadata": {},
   "source": [
    "## [ 트랜잭션 제어와 세션]\n",
    "---\n",
    "### [ 1. 하나의 단위로 데이터를 처리하는 트랜잭션 ]\n",
    "#### (1) `트랜잭션(transaction)`이란?\n",
    "- 더 이상 분할할 수 없는 ☑(최소 수행 단위)를 뜻하며  \n",
    "계좌 이체와 같이 하나의 작업 또는 밀접하게 연관된 작업을 수행하기 위해  \n",
    "☑(한 개 이상의 데이터 조작 명령어(DML)로 이루어진다.)\n",
    "\n",
    "\n",
    "- 트랜잭션은 하나의 트랜잭션 내에 있는 여러 명령어를 한 번에 수행하여 작업을 완료하거나 아예 모두 수행하지 않는 상태, 즉 모든 작업을 취소한다.\n",
    "\n",
    "\n",
    "- 트랜잭션을 제어하기 위해 사용하는 명령어를 `TCL(Transaction Control Language)`라고 한다.\n",
    "\n",
    "\n",
    "- 트랜잭션은 SCOTT같은 데이터베이스 계정을 통해 접속하는 동시에 시작된다.  \n",
    "트랜잭션이 종료되기 전까지 여러 SQL문을 실행하고  \n",
    "☑(트랜잭션을 제어하는 명령(TCL)을 실행할 때 기존 트랜잭션이 끝난다.)  \n",
    "그 후 새로운 트랜잭션이 다시 시작한다."
   ]
  },
  {
   "cell_type": "markdown",
   "metadata": {},
   "source": [
    "---\n",
    "### [ 2. 트랜잭션을 제어하는 명령어 ]\n",
    "- 트랜잭션 제어 명령어 :  \n",
    "데이터 조작 상태를 '모든 명령어가 정상적으로 수행 완료된 상태'  \n",
    "또는 '모든 명령어가 수행되지 않아 취소된 상태' 중 하나로 유도하는 명령어이다.\n",
    "\n",
    "\n",
    "- 수행에 앞서 트랜잭션 제어 명령어를 사용하는 DEPT_TCL 테이블을 만든다."
   ]
  },
  {
   "cell_type": "code",
   "execution_count": null,
   "metadata": {},
   "outputs": [],
   "source": [
    "--- 11-1\n",
    "CREATE TABLE DEPT_TCL\n",
    "    AS SELECT * FROM DEPT;\n",
    "\n",
    "SELECT * FROM DEPT_TCL;"
   ]
  },
  {
   "cell_type": "markdown",
   "metadata": {},
   "source": [
    "결과 : DEPT 테이블이 복사됨\n",
    "\n",
    "![2(1)](https://user-images.githubusercontent.com/53929665/94340959-d36d6180-0040-11eb-8009-8e1c8086171c.JPG)"
   ]
  },
  {
   "cell_type": "markdown",
   "metadata": {},
   "source": [
    "- DEPT_TCL 테이블에 데이터를 입력/수정/삭제 하기"
   ]
  },
  {
   "cell_type": "code",
   "execution_count": null,
   "metadata": {},
   "outputs": [],
   "source": [
    "--- 11-2\n",
    "INSERT INTO DEPT_TCL VALUES (50, 'DATABASE', 'SEOUL');\n",
    "\n",
    "UPDATE DEPT_TCL SET LOC = 'BUSAN' WHERE DEPTNO=40;\n",
    "\n",
    "DELETE FROM DEPT_TCL WHERE DNAME = 'RESEARCH';\n",
    "\n",
    "SELECT * FROM DEPT_TCL;"
   ]
  },
  {
   "cell_type": "markdown",
   "metadata": {},
   "source": [
    "결과 :  \n",
    "50번 부서가 새로 추가되었고 40번 부서의 LOC열이 BUSAN으로 수정되었으며 20번 부서는 삭제되었다.\n",
    "\n",
    "![2(2)](https://user-images.githubusercontent.com/53929665/94340961-d49e8e80-0040-11eb-893b-9f13e0bccd17.JPG)"
   ]
  },
  {
   "attachments": {},
   "cell_type": "markdown",
   "metadata": {},
   "source": [
    "#### (1) 트랜잭션을 취소하고 싶을 때는 ROLLBACK\n",
    "- ☑(위의 수행에서 실행한 세 개의 데이터 조작어는 중간에 별다른 작업이 없었다면 하나의 트랜잭션에 속해 있을 것이다.)\n",
    "- 만약, 이 모든 작업의 수행을 취소하고 싶다면 `ROLLBACK`명령어를 사용한다.\n",
    "    - `ROLLBACK`은 현재 트랜잭션에 포함된 데이터 조작 관련 명령어의 수행을 모두 취소한다."
   ]
  },
  {
   "cell_type": "code",
   "execution_count": null,
   "metadata": {},
   "outputs": [],
   "source": [
    "--- 11-3\n",
    "ROLLBACK;\n",
    "\n",
    "SELECT * FROM DEPT_TCL;"
   ]
  },
  {
   "cell_type": "markdown",
   "metadata": {},
   "source": [
    "결과 : 앞에서 실행한 데이터 조작 관련 명령어 실행이 모두 취소되었다.\n",
    "\n",
    "![2-1](https://user-images.githubusercontent.com/53929665/94340962-d49e8e80-0040-11eb-8a4c-47997f766b8e.JPG)"
   ]
  },
  {
   "cell_type": "markdown",
   "metadata": {},
   "source": [
    "#### (2) 트랜잭션을 영원히 반영하고 싶을 때는 COMMIT\n",
    "- `COMMIT`명령어 : `ROLLBACK`과 달리 지금까지 수행한 트랜잭션 명령어를 데이터베이스에 영구히 반영하고 싶을 때 사용한다.\n",
    "\n",
    "<br>\n",
    "\n",
    "- `COMMIT` 수행에 앞서 다시 DEPT_TCL 테이블에 데이터 입력/수정/삭제하기"
   ]
  },
  {
   "cell_type": "code",
   "execution_count": null,
   "metadata": {},
   "outputs": [],
   "source": [
    "--- 11-4\n",
    "INSERT INTO DEPT_TCL VALUES (50, 'NETWORK', 'SEOUL');\n",
    "\n",
    "UPDATE DEPT_TCL SET LOC = 'BUSAN' WHERE DEPTNO=20;\n",
    "\n",
    "DELETE FROM DEPT_TCL WHERE DEPTNO = 40;\n",
    "\n",
    "SELECT * FROM DEPT_TCL;"
   ]
  },
  {
   "cell_type": "markdown",
   "metadata": {},
   "source": [
    "결과 :\n",
    "\n",
    "![2-2(1)](https://user-images.githubusercontent.com/53929665/94340964-d5372500-0040-11eb-992b-4699169fa349.JPG)"
   ]
  },
  {
   "cell_type": "markdown",
   "metadata": {},
   "source": [
    "- `COMMIT`으로 명령어 반영하기"
   ]
  },
  {
   "cell_type": "code",
   "execution_count": null,
   "metadata": {},
   "outputs": [],
   "source": [
    "--- 11-5\n",
    "COMMIT;"
   ]
  },
  {
   "cell_type": "markdown",
   "metadata": {},
   "source": [
    "결과 :\n",
    "- 이 시점부터 앞서 실행한 명령어는 취소가 불가능하다.\n",
    "- 그러므로 `COMMIT`은 트랜잭션 작업이 정상적으로 수행되었다고 확신할 때 사용해야 한다.\n",
    "- `COMMIT`으로 실행한 내용의 반영은 되돌릴 수 없으므로 정말 신중하게 진행해야한다.\n",
    "\n",
    "![2-2(2)](https://user-images.githubusercontent.com/53929665/94340965-d5372500-0040-11eb-80ff-9360e2a26aa4.JPG)\n"
   ]
  },
  {
   "cell_type": "markdown",
   "metadata": {},
   "source": [
    "---\n",
    "### [ 3. 세션과 읽기 일관성의 의미 ]"
   ]
  },
  {
   "cell_type": "markdown",
   "metadata": {},
   "source": [
    "#### (1) 세션이란?\n",
    "- 세션(session)\n",
    "\n",
    "    - 일반적 의미 : 어떤 활동을 위한 시간이나 기간\n",
    "    - 오라클에서의 의미 : 데이터베이스 접속을 시작 ~ 접속을 종료하기 까지의 전체 수행 시간을 의미\n",
    "        \n",
    "        \n",
    "- 따라서,  \n",
    "세션이 여러 개 = 현재 오라클 데이터 베이스에 접속하여 사용 중인 연결이 여러 개 있다  \n",
    "ex) 토드를 사용하여 SCOTT계정 사용, SQL PLUS에서 SCOTT으로 접속 = 세션 2개\n",
    "\n",
    "\n",
    "- 또한,  \n",
    "`트랜잭션`은 데이터 조작 명령어가 모인 하나의 작업 단위를 뜻하며  \n",
    "`세션` 내부에는 ☑(하나 이상의 트랜잭션이 존재한다.)"
   ]
  },
  {
   "cell_type": "markdown",
   "metadata": {},
   "source": [
    "#### (2) 읽기 일관성의 중요성\n",
    "- 데이터베이스는 보통 여러 곳(여러 사용자, 여러 응용 프로그램)에서 동시에 접근하여 데이터를 관리/사용하는 것이 목적이므로 대부분 수많은 세션이 동시에 연결되어 있다. \n",
    "\n",
    "\n",
    "- `읽기 일관성(Read Consistency)` :  \n",
    "어떤 특정 세션에서 테이블의 데이터를 변경 중일 때  \n",
    "그 외 다른 세션에서는 데이터의 변경이 확정되기 전까지 변경 사항을 알 필요가 없으므로,  \n",
    "데이터를 변경 중인 세션을 제외한 나머지 세션에서는  \n",
    "☑(현재 진행 중인 변경과 무관한 본래의 데이터를 보여 주는 특성을 의미한다.)\n",
    "\n",
    "\n",
    "- 수행에 앞서,  \n",
    "토드를 사용한 세션을 세션A / SQLPLUS를 사용한 세션을 세션B라 지정한다.\n",
    "\n",
    "\n",
    "![3(1)](https://user-images.githubusercontent.com/53929665/94341484-ab7ffd00-0044-11eb-948c-a4ed5901f9f9.JPG)"
   ]
  },
  {
   "cell_type": "markdown",
   "metadata": {},
   "source": [
    "- 세션 A에서 `DELETE`문을 사용하여 50번 부서 데이터를 삭제한 후에  \n",
    "각 세션에서 DEPT_TCL 테이블을 조회했을 경우 결과는 다음과 같다."
   ]
  },
  {
   "cell_type": "markdown",
   "metadata": {},
   "source": [
    "결과 :\n",
    "- 세션 A에서는 50번 부서가 삭제된 상태로 DEPT_TCL테이블이 조회되지만\n",
    "- 세션 B에서는 50번 부서가 아직 삭제되지 않은 상태, 즉 변경이 일어나기 전 상태로 출력된다.\n",
    "\n",
    "\n",
    "![3(2)](https://user-images.githubusercontent.com/53929665/94341486-acb12a00-0044-11eb-9bba-4e62fe348491.JPG)"
   ]
  },
  {
   "cell_type": "markdown",
   "metadata": {},
   "source": [
    "- 이 결과는 세션 A에서 실행한 `DELETE`문의 결과가 데이터베이스에 완벽하게 반영되지 않았기 때문이다.  \n",
    "즉, `COMMIT`되지 않았다는 이야기이다.  \n",
    "\n",
    "\n",
    "- 실행한 `DELETE`문의 실행 결과가 데이터베이스에 영구히 반영되기 전까지  \n",
    "`DELETE`를 실행한 세션A를 제외한 다른 세션에서는 50번 부서 데이터의 변화를 확인할 수 없다.  \n",
    "따라서, 50번 부서의 삭제를 확인할 수 있는 것은 세션A뿐이다.\n",
    "\n",
    "\n",
    "- 마지막으로, `COMMIT`했을 때 다음과 같이  \n",
    "세션 B에서도 50번 부서가 삭제된 채 조회되는 것을 확인할 수 있다.\n",
    "\n",
    "\n",
    "\n",
    "![3(3)](https://user-images.githubusercontent.com/53929665/94341488-acb12a00-0044-11eb-85e6-e28c4cc928c5.JPG)\n",
    "\n",
    "\n",
    "- 데이터를 직접 변경 중인 해당 세션을 제외한 모든 세션은 다른 세션의 데이터 변경과 상관없이 이미 확정된 데이터만 검색됨으로써 `읽기 일관성`을 보장할 수 있다."
   ]
  },
  {
   "cell_type": "markdown",
   "metadata": {},
   "source": [
    "---\n",
    "### [ 4. 수정 중인 데이터 접근을 막는 LOCK ]\n",
    "#### (1) LOCK이란?\n",
    "- `LOCK` :  \n",
    "특정 세션에서 조작 중인 데이터는 트랜잭션이 완료(COMMIT, ROLLBACK)되기 전까지  \n",
    "다른 세션에서 조작할 수 없는 상태  \n",
    "즉, ☑(조작 중인 데이터를 다른 세션은 조작할 수 없도록 접근을 보류시키는 것)\n"
   ]
  },
  {
   "cell_type": "markdown",
   "metadata": {},
   "source": [
    "#### (2) LOCK 개념\n",
    "- 세션 A에서 `UPDATE`문을 사용하여 데이터를 변경"
   ]
  },
  {
   "cell_type": "markdown",
   "metadata": {},
   "source": [
    "결과 :\n",
    "- 앞의 세션 때와 마찬가지로 `UPDATE`문을 실행하고 있는 세션 A에서는 30번 부서의 LOC가 SEOUL로 변경되었지만  \n",
    "`COMMIT`되지 않은 상태이므로 세션 B에서는 30번 부서에 변화가 없다.\n",
    "\n",
    "![4-2(1)](https://user-images.githubusercontent.com/53929665/94341850-c2741e80-0047-11eb-95f4-de37db092225.JPG)"
   ]
  },
  {
   "cell_type": "markdown",
   "metadata": {},
   "source": [
    "- 위의 상태에서 세션 B의 30번 부서(세션 A가 변경 중인)에 `UPDATE`문을 실행하면 다음과 같다."
   ]
  },
  {
   "cell_type": "markdown",
   "metadata": {},
   "source": [
    "결과 :\n",
    "- 실행하면 다음과 같이 아무런 동작이 일어나지 않는다.\n",
    "\n",
    "![4-2(2)](https://user-images.githubusercontent.com/53929665/94341852-c30cb500-0047-11eb-9aa1-836228d3cfbd.JPG)"
   ]
  },
  {
   "cell_type": "markdown",
   "metadata": {},
   "source": [
    "- 왜냐하면, 세션 A에서 DEPT_TCL테이블의 30번 부서 데이터를 먼저 조작하고 있기 때문이다.\n",
    "\n",
    "\n",
    "- 세션 A에서 `COMMIT`/`ROLLBACK`을 수행하기 전까지  \n",
    "30번 부서 행 데이터를 조작하려는 다른 세션은 위의 화면과 같이 작업을 대기하게 된다.  \n",
    "이렇게 특정 세션에서 데이터 조작이 완료될 때까지 다른 세션에서 해당 데이터 조작을 기다리는 현상을  \n",
    "`HANG(행)`이라고 지칭한다.\n",
    "\n",
    "\n",
    "- 따라서, 세션 A에서 `COMMIT`으로 데이터 변경을 확정하거나, `ROLLBACK`으로 실행을 취소해야만  \n",
    "30번 부서 데이터의 `LOCK`이 풀린다.  \n",
    "그리고, 데이터의 `LOCK`이 풀린 즉시 세션 B는 UPDATE 문을 실행한다.\n",
    "\n",
    "\n",
    "- 세션 A에서 `COMMIT`명령어를 실행해보면 세션 B에서는 다음과 같은 일이 일어난다."
   ]
  },
  {
   "cell_type": "markdown",
   "metadata": {},
   "source": [
    "결과 :\n",
    "- 세션 A에서 `COMMI`명령어를 실행하는 순간  \n",
    "세션 B의 `UPDATE`문이 실행된 것을 확인할 수 있다.\n",
    "![4-2(3)](https://user-images.githubusercontent.com/53929665/94341943-9a38ef80-0048-11eb-8488-e73a2f985f69.JPG)"
   ]
  },
  {
   "cell_type": "markdown",
   "metadata": {},
   "source": [
    "- 마지막으로, 각 세션에서 다시 DEPT_TCL테이블을 조회해보면 다음과 같다."
   ]
  },
  {
   "cell_type": "markdown",
   "metadata": {},
   "source": [
    "결과 :\n",
    "- 세션 A의 `LOCK`이 풀린 후 세션 B의 `UPDATE`문이 실행되었지만  \n",
    "아직 `COMMIT`을 하지 않은 상태이기 때문에  \n",
    "세션 B에서만 30번 부서의 DNAME 열이 DATABASE로 출력된다.\n",
    "![4-2(4)](https://user-images.githubusercontent.com/53929665/94341944-9b6a1c80-0048-11eb-8bb4-0d3650ce3850.JPG)"
   ]
  },
  {
   "cell_type": "markdown",
   "metadata": {},
   "source": [
    "- 따라서, 세션 B에서 `COMMIT`을 실행하면 세션 A에서도 다음과 같이 30번 부서의 DNAME이 변경된 것을 확인 할 수 있다.\n",
    "\n",
    "![4-2(5)](https://user-images.githubusercontent.com/53929665/94341999-fd2a8680-0048-11eb-8180-7b6da9d690a5.JPG)\n"
   ]
  },
  {
   "cell_type": "markdown",
   "metadata": {},
   "source": [
    "#### (3) LOCK 종류\n",
    "- `행 레벨 록(row level lock)` : 앞에서와 같이 특정 행 데이터만 `LOCK`이 발생하는 것\n",
    "\n",
    "\n",
    "- `테이블 레벨 록(table level lock)` :  \n",
    "위의 행 레벨 록과 달리 `WHERE`절을 지정하지 않고 데이터 테이블을 조작할 경우,  \n",
    "테이블에 저장되어 있는 전체 행이 `LOCK`상태가 된다.\n",
    "    - 하지만, 테이블 전체 행이 `LOCK`상태여도 `INSERT`문은 수행 가능하다.\n",
    "\n",
    "\n",
    "- ☑ 따라서, 자신이 실행해야 하는 데이터 조작 관련 SQL문을 통해 LOCK이 적용되는 데이터의 범위가 크거나,  \n",
    "오랜 시간 동안 작업이 진행되어야 한다면 반드시 함께 일하는 개발자들에게 작업 중임을  \n",
    "미리 알리고 양해를 구하는 센스를 발휘해야한다."
   ]
  }
 ],
 "metadata": {
  "kernelspec": {
   "display_name": "Python 3",
   "language": "python",
   "name": "python3"
  },
  "language_info": {
   "codemirror_mode": {
    "name": "ipython",
    "version": 3
   },
   "file_extension": ".py",
   "mimetype": "text/x-python",
   "name": "python",
   "nbconvert_exporter": "python",
   "pygments_lexer": "ipython3",
   "version": "3.7.7"
  }
 },
 "nbformat": 4,
 "nbformat_minor": 4
}
