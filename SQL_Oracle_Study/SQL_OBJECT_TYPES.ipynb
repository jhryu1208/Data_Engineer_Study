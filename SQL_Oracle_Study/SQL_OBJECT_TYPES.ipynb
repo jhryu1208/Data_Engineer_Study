{
 "cells": [
  {
   "cell_type": "markdown",
   "metadata": {},
   "source": [
    "## [ 객체 종류 ]\n",
    "---\n",
    "### [ 1. 데이터를 저장한 데이터 사전 ]\n",
    "#### (1) 데이터 사전이란?\n",
    "- 오라클 데이터 베이스 테이블\n",
    "    - `사용자 테이블(user table)` : 데이터베이스를 통해 관리할 데이터를 저장하는 테이블  \n",
    "    ex) EMP, DEPT, SALGRADE 테이블\n",
    "    - `데이터 사전(data dictionary/base table)` : 데이터베이스를 구성하고 운영하는 데 필요한 모든 정보를 저장하는 특수한 테이블로 데이터베이스가 생성되는 시점에 자동으로 만들어진다.\n",
    "    \n",
    "\n",
    "- `데이터 사전`\n",
    "    - 데이터베이스 메모리/성능/사용자/권한/객체 등 오라클 데이터 베이스 운영에 중요한 데이터가 보관되어있다.  만약 이 데이터에 문제가 발생한다면 오라클 데이터베이스 사용이 불가능해질 수도 있다.\n",
    "    - 위의 이유에 의해서,  \n",
    "    오라클 데이터베이스는 사용자가 데이터 사전 정보에 직접 접근하거나 작업하는 것을 허용하지 않는다.\n",
    "    - 그대신,  \n",
    "    ☑(데이터 사전 뷰(data dictionary view)를 제공하여 `SELECT`문으로 정보 열람을 할 수 있다.)\n",
    "    \n",
    "\n",
    "- 데이터 사전 뷰는 용도에 따라 이름 앞에 다음과 같은 접두어를 지정하여 분류한다.\n",
    "\n",
    "    - `USER_XXXX` : 현재 데이터베이스에 접속한 사용자가 소유한 객체 정보\n",
    "    - `ALL_XXXX` : 현재 데이터베이스에 접속한 사용자가 소유한 객체 혹은 다른 사용자가 소유한 객체 중 사용 허가를 받은 객체, 즉 사용 가능한 모든 객체 정보\n",
    "    - `DBA_XXXX` : 데이터베이스 관리를 위한 정보(데이터 베이스 관리 권한을 가진 `SYSTEM`,`SYS` 사용자만 열람가능)\n",
    "    - `V$_XXXX` : 데이터베이스 성능 관련 정보(X$_XXXX 테이블의 뷰)\n",
    "    \n",
    "    \n",
    "- `사용 가능한 데이터 사전`을 알고 싶다면 다음과 같이 `DICTIONARY` 혹은 `DICT`를 조회한다.\n",
    "    - 종류가 상당히 많기에 자주 사용하는 몇 개 정도만 알아 두고 그 밖의 것들은 필요할때 찾아 사용한다."
   ]
  },
  {
   "cell_type": "code",
   "execution_count": null,
   "metadata": {},
   "outputs": [],
   "source": [
    "--- 13-1\n",
    "SELECT * FROM DICT;\n",
    "\n",
    "--- 13-2\n",
    "SELECT * FROM DICTIONARY;"
   ]
  },
  {
   "cell_type": "markdown",
   "metadata": {},
   "source": [
    "결과 :\n",
    "![1](https://user-images.githubusercontent.com/53929665/94428887-730b2b00-01cc-11eb-8a54-853dbb8dec4a.JPG)"
   ]
  },
  {
   "cell_type": "markdown",
   "metadata": {},
   "source": [
    "#### (2) USER_접두어를 가진 데이터 사전\n",
    "- `USER_`접두어로 시작하는 이름의 데이터 사전에는 현재 오라클에 접속해 있는 사용자가 소유한 객체 정보가 보관되어있다.  \n",
    "ex) SCOTT 계정이 소유하는 테이블 정보는 USER_TABLES를 사용한다.\n",
    "\n",
    "\n",
    "- SCOTT 계정이 소유하고 있는 객체 정보를 살펴보면 다음과 같다.\n",
    "    - `USER_`다음에 TABLE이 아닌 TABLES 즉 복수형인 것을 눈여겨 봐야한다."
   ]
  },
  {
   "cell_type": "code",
   "execution_count": null,
   "metadata": {},
   "outputs": [],
   "source": [
    "--- 13-3\n",
    "SELECT TABLE_NAME\n",
    "    FROM USER_TABLES;"
   ]
  },
  {
   "cell_type": "markdown",
   "metadata": {},
   "source": [
    "결과 :\n",
    "\n",
    "![1-2](https://user-images.githubusercontent.com/53929665/94428891-73a3c180-01cc-11eb-90ee-db61b0173094.JPG)"
   ]
  },
  {
   "cell_type": "markdown",
   "metadata": {},
   "source": [
    "#### (3) ALL_접두어를 가진 데이터 사전\n",
    "- `ALL_`접두어를 가진 데이터 사전은 오라클 데이터베이스에 접속해 있는 사용자가 소유한 객체 및  \n",
    "다른 사용자가 소유한 객체 중 사용이 허락되어 있는 객체 정보를 가지고 있다.  \n",
    "ex) SCOTT계정으로 접속하여 ALL_TABLES를 조회하면 SCOTT계정이 사용할 수 있는 테이블 정보를 모두 보여준다.\n",
    "\n",
    "\n",
    "- SCOTT계정이 사용할 수 있는 객체 정보를 살펴보면 다음과 같다.\n",
    "    - `ALL_`접두어의 데이터 사전 역시 뒤에 객체를 명시할 떄 복수형을 사용한다."
   ]
  },
  {
   "cell_type": "code",
   "execution_count": null,
   "metadata": {},
   "outputs": [],
   "source": [
    "--- 13-4\n",
    "SELECT OWNER, TABLE_NAME\n",
    "    FROM ALL_TABLES;"
   ]
  },
  {
   "cell_type": "markdown",
   "metadata": {},
   "source": [
    "결과 :\n",
    "\n",
    "![1-3](https://user-images.githubusercontent.com/53929665/94428893-743c5800-01cc-11eb-9f09-c7f0fc3f8047.JPG)"
   ]
  },
  {
   "cell_type": "markdown",
   "metadata": {},
   "source": [
    "- 위의 과정에서, `ALL_TABLES`에는 USER_TABLES와 달리 `OWNER` 열이 하나 더 있다.  \n",
    "해당 열은 테이블을 소유한 사용자를 명시한다.  \n",
    "ex) DUAL테이블은 SYS계정 소유이고 SCOTT계정은 테이블의 사용을 허가받은 것\n",
    "\n",
    "\n",
    "- `OWNER`열 이외의 열은 `USER_TABLES`, `ALL_TABLES` 모두 동일한 열 구조를 가진다.\n",
    "    - 참조 : docs.oracle.com/cd/B28359_01/server.111/b28320/statviews_2105.htm#REFRN20286\n",
    "\n",
    "|열 이름|자료형|NULL 여부|설명|\n",
    "|:-------|:------|:---------|:----|\n",
    "|OWNER|VARCHAR2(30)|NOT NULL|테이블을 소유한 사용자(☑`ALL_TABLES`에만 존재)|\n",
    "|TABLE_NAME|VARCHAR(30)|NOT NULL|테이블 이름|\n",
    "|TABLESPACE_NAME|VARCHAR(30)|    |테이블 스페이스 이름|\n",
    "|NUM_ROWS|NUMBER|    |테이블에 저장된 행 수|\n"
   ]
  },
  {
   "cell_type": "markdown",
   "metadata": {},
   "source": [
    "#### (4) DBA_접두어를 가진 데이터 사전\n",
    "- `DBA_`접두어를 가진 데이터 사전은 데이터베이스 관리 권한을 가진 사용자만 조회할 수 있다.\n",
    "\n",
    "\n",
    "- SCOTT계정으로 DBA_접두어를 사용했을 경우 다음과 같은 에러가 발생한다."
   ]
  },
  {
   "cell_type": "code",
   "execution_count": null,
   "metadata": {},
   "outputs": [],
   "source": [
    "--- 13-5\n",
    "SELECT * FROM DB_TABLES;"
   ]
  },
  {
   "cell_type": "markdown",
   "metadata": {},
   "source": [
    "결과 :\n",
    "\n",
    "![1-4](https://user-images.githubusercontent.com/53929665/94428894-74d4ee80-01cc-11eb-8ad1-e351571d4c6e.JPG)"
   ]
  },
  {
   "cell_type": "markdown",
   "metadata": {},
   "source": [
    "- 하지만, `SYSTEM`사용자에서 접속하면 `DBA_TABLES`가 다음과 같이 조회가 가능하다."
   ]
  },
  {
   "cell_type": "code",
   "execution_count": null,
   "metadata": {},
   "outputs": [],
   "source": [
    "--- 13-6\n",
    "SELECT * FROM DBA_TABLES;"
   ]
  },
  {
   "cell_type": "markdown",
   "metadata": {},
   "source": [
    "결과 :\n",
    "![1-4(2)](https://user-images.githubusercontent.com/53929665/94429839-ed887a80-01cd-11eb-9809-1250fabb2acd.JPG)\n"
   ]
  },
  {
   "cell_type": "markdown",
   "metadata": {},
   "source": [
    "#### (4-1) `DBA_USERS`로 사용자 정보 살펴보기\n",
    "- 오라클 데이터베이스에 등록된 사용자 정보는 `DBA_USERS`에 있다.  \n",
    "SCOTT 사용자 정보를 보려면 `USERNAME`열을 `WHERE`조건으로 지정하여 사용하면된다."
   ]
  },
  {
   "cell_type": "code",
   "execution_count": null,
   "metadata": {},
   "outputs": [],
   "source": [
    "--- 13-7\n",
    "SELECT *\n",
    "  FROM DBA_USERS\n",
    " WHERE USERNAME = 'SCOTT';"
   ]
  },
  {
   "cell_type": "markdown",
   "metadata": {},
   "source": [
    "결과 :\n",
    "![1-4-1](https://user-images.githubusercontent.com/53929665/94429818-e3ff1280-01cd-11eb-88ed-62ea5d7ba1b0.JPG)\n"
   ]
  },
  {
   "cell_type": "markdown",
   "metadata": {},
   "source": [
    "---\n",
    "### [ 2. 더 빠른 검색을 위한 인덱스 ]\n",
    "#### (1) 인덱스란?\n",
    "- `INDEX(인덱스)` :  \n",
    "오라클 데이터베이스에서 데이터 검색 성능의 향상을 위해 테이블 열에 사용하는 객체  \n",
    "즉, 테이블에 보관된 특정 열 데이터의 주소, 다시 말해 위치 정보를 책 페이지처럼 목록으로 만들어 놓은 것이다.\n",
    "\n",
    "\n",
    "- 인덱스 사용 여부에 따라 데이터 검색 방식을 `Table Full Scan`, `Index Scan`으로 구분한다.\n",
    "    - `Table Full Scan` : 테이블 데이터를 처음부터 끝까지 검색하여 원하는 데이터를 찾는 방식\n",
    "    - `Index Scan` : 인덱스를 통해 데이터를 찾는 방식\n",
    "    \n",
    "    \n",
    "- 인덱스도 오라클 데이터베이스 객체이기에 소유 사용자와 권한이 존재한다.\n",
    "    - SCOTT계정으로 접속하여 현재 SCOTT 소유의 인덱스 정보를 열람할 때  \n",
    "    `USER_INDEXES`, `USER_IND_COLUMNS`와 같은 데이터 사전을 사용한다.\n",
    "    \n",
    "\n",
    "#### (1-1)SCOTT 계정이 소유한 인덱스 정보 알아보기"
   ]
  },
  {
   "cell_type": "code",
   "execution_count": null,
   "metadata": {},
   "outputs": [],
   "source": [
    "--- 13-8\n",
    "SELECT *\n",
    "    FROM USER_INDEXES;"
   ]
  },
  {
   "cell_type": "markdown",
   "metadata": {},
   "source": [
    "결과 :"
   ]
  },
  {
   "cell_type": "markdown",
   "metadata": {},
   "source": [
    "#### (1-2) SCOTT 계정이 소유한 인덱스 컬럼 정보 알아보기"
   ]
  },
  {
   "cell_type": "code",
   "execution_count": null,
   "metadata": {},
   "outputs": [],
   "source": [
    "--- 13-9\n",
    "SELECT *\n",
    "    FROM USER_IND_COLUMNS;"
   ]
  },
  {
   "cell_type": "markdown",
   "metadata": {},
   "source": [
    "결과 :"
   ]
  },
  {
   "cell_type": "markdown",
   "metadata": {},
   "source": [
    "> (1-1)과 (1-2)를 통해서  \n",
    "> EMP테이블의 EMPNO열, DEPT테이블의 DPETNO열에 인덱스가 이미 생성되어 있음을 확인할 수가 있다.  \n",
    "> TABLE_NAME 열에서 인덱스가 속한 테이블을 확인 가능하고,  \n",
    "> INDEX_NAME 열에서 인덱스를 지정한 열을 확인 가능하다.  "
   ]
  },
  {
   "cell_type": "markdown",
   "metadata": {},
   "source": [
    "> 인덱스는 사용자가 직접 특정 테이블의 열에 지정할 수도 있지만  \n",
    "> 열이 `기본키(Primary Key)` 또는 `고유키(Unique Key)`일 경우에 자동으로 생성된다."
   ]
  },
  {
   "cell_type": "markdown",
   "metadata": {},
   "source": [
    "#### (2) 인덱스 생성\n",
    "- 오라클 데이터베이스에서 자동으로 생성해 주는 인덱스 외에  \n",
    "사용자가 직접 인덱스를 만들 때는 `CREATE`문을 사용한다.\n",
    "\n",
    "\n",
    "- 기본형식\n",
    "```SQL\n",
    "CREATE INDEX 인덱스 이름\n",
    "    ON 테이블 이름(열 이름1 ASC or DESC,\n",
    "                   열 이름2 ASC or DESC,\n",
    "                   ...                    );\n",
    "```"
   ]
  },
  {
   "cell_type": "markdown",
   "metadata": {},
   "source": [
    "\n",
    "- ex) EMP 테이블의 SAL 열에 인덱스 생성하기"
   ]
  },
  {
   "cell_type": "code",
   "execution_count": null,
   "metadata": {},
   "outputs": [],
   "source": [
    "--- 13-10\n",
    "CREATE INDEX IDX_EMP_SAL\n",
    "    ON EMP(SAL);"
   ]
  },
  {
   "cell_type": "code",
   "execution_count": null,
   "metadata": {},
   "outputs": [],
   "source": [
    "--- 13-11\n",
    "SELECT * FROM USER_IND_COLUMNS;"
   ]
  },
  {
   "cell_type": "markdown",
   "metadata": {},
   "source": [
    "결과 : IDX_EMP_SAL 인덱스가 생성된 것을 확인 할 수 있다.\n",
    "- 정렬 옵션을 지정하지 않으면 기본값인 오름차순(`ASC`)로 지정된다."
   ]
  },
  {
   "cell_type": "markdown",
   "metadata": {},
   "source": [
    "#### (3) 인덱스 삭제\n",
    "- 인덱스 삭제는 `DROP`명령어를 사용한다.\n",
    "\n",
    "\n",
    "- 기본형태\n",
    "```SQL\n",
    "DROP INDEX 인덱스 이름;\n",
    "```"
   ]
  },
  {
   "cell_type": "markdown",
   "metadata": {},
   "source": [
    "- ex) EMP 테이블의 SAL열에 생성한 IDX_EMP_SAL 삭제하기"
   ]
  },
  {
   "cell_type": "code",
   "execution_count": null,
   "metadata": {},
   "outputs": [],
   "source": [
    "--- 13-12\n",
    "DROP INDEX IDX_EMP_SAL;"
   ]
  },
  {
   "cell_type": "code",
   "execution_count": null,
   "metadata": {},
   "outputs": [],
   "source": [
    "--- 13-13\n",
    "SELECT * FROM USER_IND_COLUMNS;"
   ]
  },
  {
   "cell_type": "markdown",
   "metadata": {},
   "source": [
    "결과 : IDX_EMP_SAL 인덱스가 삭제된 것을 확인 할 수 있다."
   ]
  },
  {
   "cell_type": "markdown",
   "metadata": {},
   "source": [
    "---\n",
    "### [ 3. 테이블처럼 사용하는 뷰 ]\n",
    "#### (1) 뷰란?\n",
    "- `뷰(view)` : 하나 이상의 테이블을 조회하는 `SELECT`문을 저장한 객체  \n",
    "- SELECT문의 FROM절에 사용하면 특정 테이블을 조회하는 것과 같은 효과를 얻을 수 있다.\n",
    "\n",
    "\n",
    "- 뷰와 서브쿼리 비교\n",
    "    - 뷰를 사용할 경우\n",
    "      \n",
    "      ```SQL\n",
    "        SELECT *\n",
    "            FROM VW_EMP20;\n",
    "        ```\n",
    "        \n",
    "    - 서브쿼리를 사용할 경우\n",
    "        \n",
    "        ```SQL\n",
    "        SELECT *\n",
    "            FROM(SELECT EMPNO, ENAME, JOB, DEPTNO\n",
    "                     FROM EMP\n",
    "                 WHERE DEPTNO = 20);\n",
    "        ```"
   ]
  },
  {
   "cell_type": "markdown",
   "metadata": {},
   "source": [
    "#### (2) 뷰의 사용 목적(편리성)\n",
    "- 편리성 : SELECT문의 복잡도를 완화하기 위해 (위의 뷰와 서브쿼리 비교에서 확인가능)\n",
    "- 보안성 : 테이블의 특정 열을 노출하고 싶지 않을 경우"
   ]
  },
  {
   "cell_type": "markdown",
   "metadata": {},
   "source": [
    "#### (3) 뷰의 사용 목적(보안성)\n",
    "- 아무에게나 노출하기 예민한 데이터(ex. 급여, 추가 수당, 주민등록번호)등이 열람 테이블에 있을 경우,  \n",
    "데이터 보안에 위협이 될 수 있으므로 주의해야 한다.  \n",
    "따라서, 테이블의 일부 데이터 또는 조인이나 여러 함수 등으로 가공을 거친 데이터만  \n",
    "SELECT하는 뷰 열람 권한을 제공하는 것이 불필요한 데이터 노출을 막아준다."
   ]
  },
  {
   "cell_type": "markdown",
   "metadata": {},
   "source": [
    "#### (4) 뷰 생성\n",
    "- `뷰`는 `CREATE`문으로 생성할 수 있다.\n",
    "    - SCOTT계정은 뷰 생성 권한이 없으므로 SYSTEM계정으로 접속한 후  \n",
    "    다음 명령어를 사용하여 SCOTT 계정에 권한을 부여해 주어야 한다.\n",
    "    ![4(1)](https://user-images.githubusercontent.com/53929665/94542833-3864c980-0284-11eb-9541-7281f474429c.JPG)\n",
    "\n",
    "- 기본형식\n",
    "```SQL\n",
    "CREATE [OR REPLACE] [FORCE : NOFORCE] VIEW 뷰 이름 (열 이름1, 열 이름2, ..)\n",
    "    AS (저장할 SELECT 문)\n",
    "[WITH CHECK OPTION [CONSTRAINT 제약 조건]]\n",
    "[WITH READ ONLY [CONSTRAINT 제약 조건]]\n",
    "```\n",
    "    - `WITH CHECK OPTION` : 지정한 제약 조건을 만족하는 테이블에 한해 DML 작업이 가능하도록 뷰 생성(선택)\n",
    "    - `WITH READ ONLY` : 뷰의 열람, 즉 SELECT만 가능하도록 뷰 생성(선택)"
   ]
  },
  {
   "cell_type": "markdown",
   "metadata": {},
   "source": [
    "#### (4-1) 뷰 생성 및 확인"
   ]
  },
  {
   "cell_type": "code",
   "execution_count": null,
   "metadata": {},
   "outputs": [],
   "source": [
    "--- 13-15\n",
    "CREATE VIEW VW_EMP20\n",
    "    AS (SELECT EMPNO, ENAME, JOB, DEPTNO\n",
    "        FROM EMP\n",
    "        WHERE DEPTNO = 20);"
   ]
  },
  {
   "cell_type": "code",
   "execution_count": null,
   "metadata": {},
   "outputs": [],
   "source": [
    "--- 13-16\n",
    "SELECT * FROM USER_VIEWS;"
   ]
  },
  {
   "cell_type": "markdown",
   "metadata": {},
   "source": [
    "결과 : VW_EMP20 뷰가 생성되었는지 확인하기 위해 USER_VIEWS 데이터 사전을 조회해보면 다음과 같다.\n",
    "\n",
    "![4-1(1)](https://user-images.githubusercontent.com/53929665/94547447-3c93e580-028a-11eb-992c-671b00d7f421.JPG)"
   ]
  },
  {
   "cell_type": "markdown",
   "metadata": {},
   "source": [
    "- 또한, `SQLPLUS`에서 USER_VIES를 조회하면 VW_EMP20 뷰에 저장된 SELECT문을 다음과 같이 확인할 수 있다.\n",
    "\n",
    "![4-1(2)](https://user-images.githubusercontent.com/53929665/94547448-3d2c7c00-028a-11eb-8832-4830195e8275.JPG)"
   ]
  },
  {
   "cell_type": "markdown",
   "metadata": {},
   "source": [
    "#### (5) 뷰 삭제\n",
    "- 뷰를 삭제할 때는 `DROP`문을 사용한다.\n",
    "- 뷰는 실제 데이터 아닌 SELECT문만 저장하므로 뷰를 삭제해도 테이블이나 데이터가 삭제되는 것은 아니다."
   ]
  },
  {
   "cell_type": "code",
   "execution_count": null,
   "metadata": {},
   "outputs": [],
   "source": [
    "--- 13-17\n",
    "DROP VIEW VW_EMP20;\n",
    "\n",
    "SELECT * FROM USER_VIEWS;"
   ]
  },
  {
   "cell_type": "markdown",
   "metadata": {},
   "source": [
    "결과 :\n",
    "\n",
    "![5(1)](https://user-images.githubusercontent.com/53929665/94547451-3d2c7c00-028a-11eb-9432-71356669c579.JPG)\n"
   ]
  },
  {
   "cell_type": "markdown",
   "metadata": {},
   "source": [
    "#### (6) 인라인 뷰를 사용한 TOP-N SQL문\n",
    "- CREATE문을 통해 객체로 만들어지는 뷰 외에  \n",
    "SQL문에서 일회성으로 만들어서 사용하는 뷰를 `인라인 뷰(inline view)`라고 한다.\n",
    "    - ex1) `SELECT`문에서 사용되는 서브쿼리\n",
    "    - ex2) `WITH`절에서 미리 이름을 정의해 두고 사용하는 SELECT문\n",
    "    \n",
    "#### (6-1) `ROWNUM`\n",
    "- `ROWNUM`\n",
    "    - 의사 열(pseudo column)이라 불리는 특수 열\n",
    "        - 의사 열 :  \n",
    "        데이터가 저장되는 실제 테이블에 존재하지 않지만,  \n",
    "        특정 목적을 위해 테이블에 저장되어 있는 열처럼 사용 가능한 열\n",
    "    - ROWNUM 열 데이터 번호는 저장된 행이 조회된 순서대로 매겨진 일련번호이다.\n",
    "        \n",
    "        \n",
    "        \n",
    "- 위의 `인라인 뷰`와 `ROWNUM`을 사용하면  \n",
    "`ORDER BY`절을 통해 정렬된 결과 중 최상위 몇 개 데이터만을 출력하는 것이 가능하다."
   ]
  },
  {
   "cell_type": "code",
   "execution_count": null,
   "metadata": {},
   "outputs": [],
   "source": [
    "--- 13-20\n",
    "SELECT ROWNUM, E.*\n",
    "    FROM EMP E;"
   ]
  },
  {
   "cell_type": "markdown",
   "metadata": {},
   "source": [
    "결과 : EMP테이블에 존재하지는 않지만 ROWNUM 열의 데이터가 숫자로 출력되고 있음을 확인할 수 있다.\n",
    "![6-1(1)](https://user-images.githubusercontent.com/53929665/94547452-3dc51280-028a-11eb-9bbb-99c174ba822f.JPG)"
   ]
  },
  {
   "cell_type": "markdown",
   "metadata": {},
   "source": [
    "- 위에서 ROWNUM은 EMP 테이블에 저장된 행이 조회된 순서이고,  \n",
    "`ORDER BY`절을 사용하여 내림차순 급여로 EMP 테이블을 다시 조회해보면 다음과 같다."
   ]
  },
  {
   "cell_type": "code",
   "execution_count": null,
   "metadata": {},
   "outputs": [],
   "source": [
    "--- 13-21\n",
    "SELECT ROWNUM, E.*\n",
    "    FROM EMP E\n",
    "    ORDER BY SAL DESC;"
   ]
  },
  {
   "cell_type": "markdown",
   "metadata": {},
   "source": [
    "결과 :\n",
    "- 데이터 급여 기준으로 내림차순 정렬했지만  \n",
    "ROWNUM은 앞에서 사용한 SELECT문의 행 번호와 같은 번호로 매겨져 있다.  \n",
    "왜냐하면, ROWNUM은 데이터를 하나씩 추가할 때 매겨지는 번호이기 때문이다.  \n",
    "즉, `ROWNUM`은 `ORDER BY`절을 통해 정렬해도 유지되는 특성이 있다.\n",
    "\n",
    "![6-1(2)](https://user-images.githubusercontent.com/53929665/94547454-3e5da900-028a-11eb-9b46-cd87e9117bca.JPG)"
   ]
  },
  {
   "cell_type": "markdown",
   "metadata": {},
   "source": [
    "#### (6-2) `ROWNUM` & `인라인 뷰` : TOP-N 추출하기\n",
    "- (6-1)에서 확인한 `ROWNUM`의 특성을 `인라인 뷰`에 적용하면  \n",
    "SELECT문의 결과 순번을 매겨서 출력할 수 있다."
   ]
  },
  {
   "cell_type": "code",
   "execution_count": null,
   "metadata": {},
   "outputs": [],
   "source": [
    "--- 13-22 인라인 뷰(서브쿼리 사용)\n",
    "SELECT ROWNUM, E.*\n",
    "    FROM(SELECT *\n",
    "            FROM EMP E\n",
    "            ORDER BY SAL DESC) E;"
   ]
  },
  {
   "cell_type": "code",
   "execution_count": null,
   "metadata": {},
   "outputs": [],
   "source": [
    "--- 13-23 인라인 뷰(WITH절 사용)\n",
    "WITH E AS (SELECT * FROM EMP ORDER BY SAL)\n",
    "SELECT ROWNUM, E.*\n",
    "    FROM E;"
   ]
  },
  {
   "cell_type": "markdown",
   "metadata": {},
   "source": [
    "결과 :  \n",
    "`ORDER BY`절로 정렬된 SELECT문의 데이터가 메인쿼리의 SELECT문에서 한 행씩 순서대로 ROWNUM이 매겨져  \n",
    "정렬된 순서 그대로 번호가 매겨진 것을 확인 할 수 있다.\n",
    "\n",
    "![6-2(1)](https://user-images.githubusercontent.com/53929665/94547456-3e5da900-028a-11eb-85e9-d01af58aaa4c.JPG)"
   ]
  },
  {
   "cell_type": "markdown",
   "metadata": {},
   "source": [
    "- 마지막으로, 급여가 높은 상위 세 명의 데이터만 출력하려면  \n",
    "`ROWNUM`을 `WHERE`절 조건으로 지정하면 된다."
   ]
  },
  {
   "cell_type": "code",
   "execution_count": null,
   "metadata": {},
   "outputs": [],
   "source": [
    "--- 13-24 인라인 뷰로 TOP-N 추출하기(서브쿼리 사용)\n",
    "SELECT ROWNUM, E.*\n",
    "    FROM(SELECT *\n",
    "            FROM EMP E\n",
    "            ORDER BY SAL DESC) E\n",
    "    WHERE ROWNUM <= 3;"
   ]
  },
  {
   "cell_type": "code",
   "execution_count": null,
   "metadata": {},
   "outputs": [],
   "source": [
    "--- 13-23 인라인 뷰로 TOP-N 추출하기(WITH절 사용)\n",
    "WITH E AS (SELECT * FROM EMP ORDER BY SAL)\n",
    "SELECT ROWNUM, E.*\n",
    "    FROM E\n",
    "    WHERE ROWNUM <= 3;"
   ]
  },
  {
   "cell_type": "markdown",
   "metadata": {},
   "source": [
    "결과 :\n",
    "\n",
    "![6-2(2)](https://user-images.githubusercontent.com/53929665/94547460-3ef63f80-028a-11eb-8a65-942ca23c4bf7.JPG)\n"
   ]
  },
  {
   "cell_type": "markdown",
   "metadata": {},
   "source": [
    "---\n",
    "### [ 4. 규칙에 따라 순번을 생성하는 시퀀스 ]\n",
    "#### (1) 시퀀스란?\n",
    "- `시퀀스(sequence)` : 오라클 데이터베이스에서 특정 규칙에 맞는 연속 숫자를 생성하는 객체\n",
    "- 더불어, 시퀀스는 단순히 번호 생성을 위한 객체이지만  \n",
    "지속적이고 효율적인 번호 생성이 가능하다."
   ]
  },
  {
   "cell_type": "markdown",
   "metadata": {},
   "source": [
    "#### (2) 시퀀스 생성\n",
    "- 시퀀스 역시 `CREATE`문으로 생성가능하며 다양한 옵션을 지정할 수 있다.\n",
    "```SQL\n",
    "CREATE SEQUENCE 시퀀스 이름    --- 1\n",
    "[INCREMENT BY n]               --- 2\n",
    "[START WITH n]                 --- 3\n",
    "[MAXVALUE n | NOMAXVALUE]      --- 4\n",
    "[MINVALUE n | NOMINVALUE]      --- 5\n",
    "[CYCLE | NOCYCLE]              --- 6\n",
    "[CACHE n | NOCACHE]            --- 7\n",
    "```\n",
    "    - ---1  \n",
    "    (필수) 생성할 시퀀스 이름 지정,  \n",
    "    (2~7)들을 지정하지 않을 경우 1부터 시작하여 1만큼 계속 증가는 시퀀스 생성\n",
    "    - ---2  \n",
    "    (선택) 시퀀스에서 생성할 번호의 증가 값(기본값은 1)\n",
    "    - ---3  \n",
    "    (선택) 시퀀스에서 생성할 번호의 시작 값(기본값은 1)\n",
    "    - ---4  \n",
    "    (선택) 시퀀스에서 생성할 번호의 최댓값 지정,  \n",
    "    최댓값은 `START WITH` 이상 `MINVALUE` 초과 값으로 지정,  \n",
    "    `NONMAXVLAUE`로 지정할 경우 오름차순이면 10^27, 내림차순일 경우 -1로 설정\n",
    "    - --5  \n",
    "    (선택) 시퀀스에서 생성할 번호의 최솟값 지정,\n",
    "    최솟값은 `START WITH` 이하 `MAXVALUE` 미만 값으로 지정,  \n",
    "    `NONMINVALUE`로 지정할 경우 오름차순이면 1, 내림차순이면 10^-26으로 설정\n",
    "    - --6  \n",
    "    (선택) 시퀀스에서 생성한 번호가 `MAXVALUE`에 도달할 경우  \n",
    "    `CYCLE`이면 `START WITH`에서 다시 시작,  \n",
    "    `NONCYCLE`이면 번호 생성이 중단\n",
    "    - --7  \n",
    "    (선택) 시퀀스가 생성할 번호를 메모리에 미리 할당해 놓은 수를 지정,  \n",
    "    `NOCACHE`는 미리 생성하지 않도록 설정,  \n",
    "    옵션을 모두 생략하면 기본값은 20"
   ]
  },
  {
   "cell_type": "markdown",
   "metadata": {},
   "source": [
    "- 예시)"
   ]
  },
  {
   "cell_type": "code",
   "execution_count": null,
   "metadata": {},
   "outputs": [],
   "source": [
    "--- 13-26 DEPT 테이블을 사용하여 DEPT_SEQUENCE 테이블 생성하기\n",
    "CREATE TABLE DEPT_SEQUENCE\n",
    "    AS SELECT * FROM DEPT\n",
    "    WHERE 1 <> 1;\n",
    "    \n",
    "SELECT * FROM DEPT_SEQUENCE;"
   ]
  },
  {
   "cell_type": "code",
   "execution_count": null,
   "metadata": {},
   "outputs": [],
   "source": [
    "--- 13-27 시퀀스 생성하기\n",
    "CREATE SEQUENCE SEQ_DEPT_SEQUENCE\n",
    "INCREMENT BY 10\n",
    "START WITH 10\n",
    "MAXVALUE 90\n",
    "MINVALUE 0\n",
    "NOCYCLE\n",
    "CACHE 2;"
   ]
  },
  {
   "cell_type": "code",
   "execution_count": null,
   "metadata": {},
   "outputs": [],
   "source": [
    "--- 생성한 시퀀스 확인하기\n",
    "SELECT *\n",
    "    FROM USER_SEQUENCES"
   ]
  },
  {
   "cell_type": "markdown",
   "metadata": {},
   "source": [
    "결과 :\n",
    "![찐4-2](https://user-images.githubusercontent.com/53929665/94564151-9902ff00-02a2-11eb-949f-2f2359603fc6.JPG)"
   ]
  },
  {
   "cell_type": "markdown",
   "metadata": {},
   "source": [
    "#### (3) 시퀀스 사용\n",
    "```SQL\n",
    "[시퀀스 이름.CURRVAL]\n",
    "[시퀀스 이름.NEXTVAL]\n",
    "```\n",
    "- `CURRVAL` : 해당 시퀀스의 현재 값 반환\n",
    "- `NEXTVAL` : 해당 시퀀스의 다음 값 반환"
   ]
  },
  {
   "cell_type": "code",
   "execution_count": null,
   "metadata": {},
   "outputs": [],
   "source": [
    "--- 13-29 NEXTVAL 사용하기\n",
    "\n",
    "INSERT INTO DEPT_SEQUENCE(DEPTNO, DNAME, LOC)\n",
    "    VALUES (SEQ_DEPT_SEQUENCE.NEXTVAL, 'DATABASE', 'SEOUL');\n",
    "\n",
    "SELECT * FROM DEPT_SEQUENCE ORDER BY DEPTNO;"
   ]
  },
  {
   "cell_type": "markdown",
   "metadata": {},
   "source": [
    "결과 : 시작 값(`START WITH`)가 10이므로 다음 숫자인 20이 부서 번호로 삽입되었다.\n",
    "\n",
    "![찐4-3(1)](https://user-images.githubusercontent.com/53929665/94564152-9902ff00-02a2-11eb-9ca9-5ad983457d79.JPG)"
   ]
  },
  {
   "cell_type": "code",
   "execution_count": null,
   "metadata": {},
   "outputs": [],
   "source": [
    "--- 13-30 CURRVAL 사용하기\n",
    "\n",
    "SELECT SEQ_DEPT_SEQUENCE.CURRVAL FROM DUAL;"
   ]
  },
  {
   "cell_type": "markdown",
   "metadata": {},
   "source": [
    "결과 : 해당 시퀀스의 현재 값인 20이 반환되었다.\n",
    "\n",
    "![찐4-3(2)](https://user-images.githubusercontent.com/53929665/94564153-999b9580-02a2-11eb-977d-cf4c76c73e59.JPG)"
   ]
  },
  {
   "cell_type": "code",
   "execution_count": null,
   "metadata": {},
   "outputs": [],
   "source": [
    "--- 13-31 NEXTVAL를 반복 사용하여 INSERT문 실행하기\n",
    "\n",
    "INSERT INTO DEPT_SEQUENCE(DEPTNO, DNAME, LOC)\n",
    "    VALUES (SEQ_DEPT_SEQUENCE.NEXTVAL, 'DATABASE', 'SEOUL');\n",
    "\n",
    "SELECT * FROM DEPT_SEQUENCE ORDER BY DEPTNO;"
   ]
  },
  {
   "cell_type": "markdown",
   "metadata": {},
   "source": [
    "결과 : 시퀀스 최댓값 90에 도달할 때까지 INSERT문이 실행되고 그 이후로는 번호를 더 생성하지 않는다.\n",
    "![찐 4-3(3)](https://user-images.githubusercontent.com/53929665/94564147-97d1d200-02a2-11eb-8b3e-0c58d804acaa.JPG)\n"
   ]
  },
  {
   "cell_type": "markdown",
   "metadata": {},
   "source": [
    "#### (4) 시퀀스 수정\n",
    "- `ALTER` 명령어로 시퀀스를 수정한다.\n",
    "- 시퀀스 수정은 아래와 같이 옵션을 재설정하는 데 사용한다. (단, `START WITH`값은 변경할 수 없다)\n",
    "```SQL\n",
    "ALTER SEQUENCE 시퀀스 이름\n",
    "[INCREMENT BY n]\n",
    "[MAXVALUE n | NOMAXVALUE]      \n",
    "[MINVALUE n | NOMINVALUE]     \n",
    "[CYCLE | NOCYCLE]              \n",
    "[CACHE n | NOCACHE]         \n",
    "```\n",
    "\n",
    "\n",
    "- 기존에 생성한 시퀀스인 SEQ_DEPT_SEQUENCE의 최댓값을 99, 증가 값을 3, 그리고 CYCLE옵션으로 수정하면 다음과같다."
   ]
  },
  {
   "cell_type": "code",
   "execution_count": null,
   "metadata": {},
   "outputs": [],
   "source": [
    "--- 13-32 시퀀스 옵션 수정하기\n",
    "\n",
    "ALTER SEQUENCE SEQ_DEPT_SEQUENCE\n",
    "INCREMENT BY 3\n",
    "MAXVALUE 99\n",
    "CYCLE;"
   ]
  },
  {
   "cell_type": "code",
   "execution_count": null,
   "metadata": {},
   "outputs": [],
   "source": [
    "--- 13-33 옵션을 수정한 시퀀스 조회하기\n",
    "\n",
    "SELECT * FROM USER_SEQUENCES;"
   ]
  },
  {
   "cell_type": "markdown",
   "metadata": {},
   "source": [
    "결과 :\n",
    "\n",
    "![찐4-4(1)](https://user-images.githubusercontent.com/53929665/94564154-999b9580-02a2-11eb-8aa5-c436d878b815.JPG)"
   ]
  },
  {
   "cell_type": "markdown",
   "metadata": {},
   "source": [
    "- 시퀀스 수정후 INSERT문을 반복 수행하면 다음과 같다."
   ]
  },
  {
   "cell_type": "code",
   "execution_count": null,
   "metadata": {},
   "outputs": [],
   "source": [
    "--- 13-34 수정한 시퀀스를 사용하여 INSERT문 반복 실행하기\n",
    "\n",
    "INSERT INTO DEPT_SEQUENCE (DEPTNO, DNAME, LOC)\n",
    "VALUES (SEQ_DEPT_SEQUENCE.NEXTVAL, 'NEW_DATABASE', 'SEOUL');\n",
    "\n",
    "SELECT * FROM DEPT_SEQUENCE ORDER BY DEPTNO;"
   ]
  },
  {
   "cell_type": "markdown",
   "metadata": {},
   "source": [
    "결과 :\n",
    "- DEPTNO 93 96 99 번호가 생성된 이후  \n",
    "`CYCLE`옵션으로 인해 최솟값이 0에서 다시 3씩 증가되는 것을 확인할 수 있다.\n",
    "\n",
    "\n",
    "- 또한, DEPTNO가 중복되는 것을 확인 할 수 있다.\n",
    "\n",
    "\n",
    "- (ㅠㅠ) 캡쳐본이 날아갔다...  \n",
    "기존의 데이터는 DEPTNO 90까지 설정되어있는데 여기서 추가로 93 96 99가 생성되고,  \n",
    "CYCLE로 인해 0 3 6 9 ... 가 생성되었다."
   ]
  },
  {
   "cell_type": "markdown",
   "metadata": {},
   "source": [
    "#### (5) 시퀀스 삭제\n",
    "- `DROP SEQUENCE`를 사용하면 시퀀스를 삭제할 수 있따."
   ]
  },
  {
   "cell_type": "code",
   "execution_count": null,
   "metadata": {},
   "outputs": [],
   "source": [
    "--- 13-35 시퀀스 삭제 후 확인하기\n",
    "\n",
    "DROP SEQUENCE SEQ_DEPT_SEQUENCE;\n",
    "\n",
    "SELECT * FROM USER_SEQUENCES;"
   ]
  },
  {
   "cell_type": "markdown",
   "metadata": {},
   "source": [
    "결과 : 생성한 SEQ_DEPT_SEQUENCE 시퀀스가 삭제되었다.\n",
    "\n",
    "- 하지만, 시퀀스를 INSERT한 DEPT_SEQUENCE 테이블내의 데이터는 삭제되지 않았다.\n",
    "\n",
    "![찐4-5](https://user-images.githubusercontent.com/53929665/94564156-9a342c00-02a2-11eb-985c-7cce0a17a454.JPG)\n"
   ]
  },
  {
   "cell_type": "markdown",
   "metadata": {},
   "source": [
    "---\n",
    "### [ 5. 공식 별칭을 지정하는 동의어 ]"
   ]
  },
  {
   "cell_type": "markdown",
   "metadata": {},
   "source": [
    "#### (1) 동의어란?\n",
    "- `동의어` : 테이블/뷰/시퀀스 등 객체 이름 대신 사용할 수 있는 다른 이름을 부여하는 객체이다.\n",
    "\n",
    "\n",
    "- 주로, 테이블 이름이 너무 길어 사용이 불편할 떄 좀더 간단하고  \n",
    "짧은 이름을 하나 더 만들어 주기 위해 사용한다.\n",
    "\n",
    "\n",
    "- 동의어를 만들기 위해서는 `CREATE`문을 사용하며 다음과 같이 작성한다.\n",
    "```SQL\n",
    "CREATE [PUBLIC] SYNONYM 동의어 이름\n",
    "FOR [사용자.][객체 이름];\n",
    "```\n",
    "    - `PUBLIC` :  \n",
    "    (선택) 동의어를 데이터베이스 내 모든 사용자가 사용할 수 있도록 설정.  \n",
    "    생략할 경우 동의어를 생성한 사용자만 가능\n",
    "    \n",
    "\n",
    "- `동의어`는 테이블 별칭과 유사하지만,  \n",
    "오라클 데이터베이스에 저장되는 객체이기 때문에 일회성이 아니라는 점에서 차이가 난다.\n",
    "\n",
    "\n",
    "> 동의어 생성 역시 권한을 따로 부여해야 하기 때문에  \n",
    "> 다음과 같이 SQLPLUS에서  \n",
    "> SYSTEM계정으로 접속하여 사용계정에 생성 권한을 부여해야 한다.  \n",
    "> 또한, PUBLIC SYNONYM 권한도 따로 부여해야한다."
   ]
  },
  {
   "cell_type": "markdown",
   "metadata": {},
   "source": [
    "#### (2) 동의어 생성\n",
    "- EMP 테이블에 동의어 E 생성하기"
   ]
  },
  {
   "cell_type": "code",
   "execution_count": null,
   "metadata": {},
   "outputs": [],
   "source": [
    "--- 13-38 EMP 테이블의 동의어 생성하기\n",
    "\n",
    "CREATE SYNONYM E\n",
    "    FOR EMP;"
   ]
  },
  {
   "cell_type": "markdown",
   "metadata": {},
   "source": [
    "- E 동의어로 SELECT 문을 실행하면 EMP 테이블의 데이터가 조회된다."
   ]
  },
  {
   "cell_type": "code",
   "execution_count": null,
   "metadata": {},
   "outputs": [],
   "source": [
    "--- 13-39 E 테이블 전체 내용 조회하기\n",
    "\n",
    "SELECT * FROM E;"
   ]
  },
  {
   "cell_type": "markdown",
   "metadata": {},
   "source": [
    "결과 :"
   ]
  },
  {
   "cell_type": "markdown",
   "metadata": {},
   "source": [
    "#### (3) 동의어 삭제\n",
    "- `DROP SYNONYM`을 사용하여 동의어를 삭제한다."
   ]
  },
  {
   "cell_type": "code",
   "execution_count": null,
   "metadata": {},
   "outputs": [],
   "source": [
    "--- 13-40 동의어 삭제하기\n",
    "\n",
    "DROP SYNONYM E;"
   ]
  },
  {
   "cell_type": "markdown",
   "metadata": {},
   "source": [
    "- 동의어를 삭제하면 E 동의어로 SELECT를 할 수 없지만  \n",
    "EMP 테이블 이름과 데이터에는 아무 영향을 주지 않는다."
   ]
  }
 ],
 "metadata": {
  "kernelspec": {
   "display_name": "Python 3",
   "language": "python",
   "name": "python3"
  },
  "language_info": {
   "codemirror_mode": {
    "name": "ipython",
    "version": 3
   },
   "file_extension": ".py",
   "mimetype": "text/x-python",
   "name": "python",
   "nbconvert_exporter": "python",
   "pygments_lexer": "ipython3",
   "version": "3.7.7"
  }
 },
 "nbformat": 4,
 "nbformat_minor": 4
}
