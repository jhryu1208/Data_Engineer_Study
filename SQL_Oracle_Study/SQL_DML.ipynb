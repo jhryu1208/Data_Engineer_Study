{
 "cells": [
  {
   "cell_type": "markdown",
   "metadata": {},
   "source": [
    "## [ SQL_DML ]\n",
    "---\n",
    "### [ 1. 테이블에 데이터 추가하기 ]\n",
    "\n",
    "#### (1) 테이블 생성하기\n",
    "`INSERT`문 : 특정 테이블에 데이터를 새로 추가할 때 사용한다."
   ]
  },
  {
   "cell_type": "markdown",
   "metadata": {},
   "source": [
    "#### (1-1) 테이블 복사\n",
    "- DEPT 테이블을 복사해서 DEPT_TEMP 테이블 만들기"
   ]
  },
  {
   "cell_type": "code",
   "execution_count": null,
   "metadata": {},
   "outputs": [],
   "source": [
    "--- 10-1\n",
    "CREATE TABLE DEPT_TEMP\n",
    "    AS SELECT * FROM DEPT;"
   ]
  },
  {
   "cell_type": "markdown",
   "metadata": {},
   "source": [
    "- DEPT_TEMP 테이블 전체 열 조회하기"
   ]
  },
  {
   "cell_type": "code",
   "execution_count": null,
   "metadata": {},
   "outputs": [],
   "source": [
    "--- 10-2\n",
    "SELECT * FROM DEPT_TEMP;"
   ]
  },
  {
   "cell_type": "markdown",
   "metadata": {},
   "source": [
    "결과 :\n",
    "- DEPT_TEMP 테이블은 기존 DEPT 테이블과 같은 열과 구성을 가진다.\n",
    "![1-1](https://user-images.githubusercontent.com/53929665/94154607-0d136080-feb9-11ea-97f4-b9da064521a2.JPG)"
   ]
  },
  {
   "cell_type": "markdown",
   "metadata": {},
   "source": [
    "#### (2) INSERT문 유의점\n",
    "#### (2-1) 테이블을 잘못 만들었을 때\n",
    "- 테이블을 잘못 만들었거나 지워야 할 경우에는 다음 명령어를 사용한다.\n",
    "```\n",
    "DROP TABLE 테이블 이름;\n",
    "```"
   ]
  },
  {
   "cell_type": "markdown",
   "metadata": {},
   "source": [
    "#### (2-2) 실습하는 중에 프로그램이 종료되었을 때\n",
    "- 만약 실습 도중 프로그램을 종료하면 경고 창이 나타날 것인데,  \n",
    "이 경우에 먼저 `[Commit]`을 클릭하고 끝내면 된다."
   ]
  },
  {
   "cell_type": "markdown",
   "metadata": {},
   "source": [
    "#### (3) 테이블에 데이터를 추가하는 INSERT 문\n",
    "- `INSERT` 문 기본형태\n",
    "```\n",
    "INSERT INTO 테이블 이름 [(열1, 열2, ..., 열N)]\n",
    "VALUES (열1에 들어갈 데이터, 열2에 들어갈 데이터, ..., 열N에 들어갈 데이터);\n",
    "```"
   ]
  },
  {
   "cell_type": "markdown",
   "metadata": {},
   "source": [
    "#### (3-1) `INSERT`문 사용하기\n",
    "- DEPT_TEMP 테이블에 데이터 추가하기"
   ]
  },
  {
   "cell_type": "code",
   "execution_count": null,
   "metadata": {},
   "outputs": [],
   "source": [
    "--- 10-3\n",
    "INSERT  INTO DEPT_TEMP (DEPTNO, DNAME, LOC)\n",
    "        VALUES (50, 'DATABASE', 'SEOUL');\n",
    "\n",
    "SELECT * FROM DEPT_TEMP;"
   ]
  },
  {
   "cell_type": "markdown",
   "metadata": {},
   "source": [
    "결과 :\n",
    "\n",
    "![1-3-1](https://user-images.githubusercontent.com/53929665/94154611-0e448d80-feb9-11ea-90c7-1467548b258e.JPG)"
   ]
  },
  {
   "cell_type": "markdown",
   "metadata": {},
   "source": [
    "#### (3-2) `INSERT`문 오류발생"
   ]
  },
  {
   "cell_type": "markdown",
   "metadata": {},
   "source": [
    "- 만약 `INSERT`문에서  \n",
    "지정한 열 개수와 각 열에 입력할 데이터 개수가 일치하지 않거나  \n",
    "자료형이 맞지 않는 경우  \n",
    "또는 열 길이를 초과하는 데이터를 지정하는 경우에는  \n",
    "`INSERT`문에 오류가 발생하여 실행되지 않으므로 주의해야한다."
   ]
  },
  {
   "cell_type": "markdown",
   "metadata": {},
   "source": [
    "#### (3-3) `INSERT`문으로 데이터 입력하기(열 지정을 생략할 때)\n",
    "- `INSERT`문에 지정하는 열은 생략할 수 있다.\n",
    "- 열 지정을 생략하면 해당 테이블을 만들 때 설정한  \n",
    "☑ (열 순서대로 모두 나열되어 있다고 가정하고 데이터를 작성해야 한다.)  \n",
    "(참고) `DESC`명령어를 이용하면 열의 순서를 쉽게 알아낼 수 있다."
   ]
  },
  {
   "cell_type": "code",
   "execution_count": null,
   "metadata": {},
   "outputs": [],
   "source": [
    "--- 10-4\n",
    "INSERT  INTO DEPT_TEMP\n",
    "        VALUES(60, 'NETWORK', 'BUSAN');\n",
    "        \n",
    "SELECT * FROM DEPT_TEMP;"
   ]
  },
  {
   "cell_type": "markdown",
   "metadata": {},
   "source": [
    "결과 :\n",
    "\n",
    "![1-3-3](https://user-images.githubusercontent.com/53929665/94154612-0e448d80-feb9-11ea-8976-c318e05bfc42.JPG)"
   ]
  },
  {
   "cell_type": "markdown",
   "metadata": {},
   "source": [
    "#### (4) 테이블에 NULL 데이터 입력하기\n",
    "- `INSERT`문으로 새로운 데이터를 추가할 때  \n",
    "특정 열에 들어갈 데이터가 확정되지 않았거나  \n",
    "굳이 넣을 필요가 없는 데이터인 경우에는 `NULL`을 사용한다.\n",
    "\n",
    "- `NULL`을 `INSERT`문에 지정하는 방법\n",
    "    - 1. `NULL의 명시적 입력` : NULL을 직접 명시적으로 입력해 주는 방법\n",
    "    - 2. `NULL의 암묵적 입력` :대상 열을 생략하여 암시적으로 NULL이 입력 되도록 유도하는 방식"
   ]
  },
  {
   "cell_type": "markdown",
   "metadata": {},
   "source": [
    "#### (4-1) `NULL`의 명시적 입력\n",
    "- 방법 1 : 아래와 같이 NULL을 직접 입력하여 NULL을 명시적으로 지정 (실무에서 선호)"
   ]
  },
  {
   "cell_type": "code",
   "execution_count": null,
   "metadata": {},
   "outputs": [],
   "source": [
    "--- 10-5\n",
    "INSERT  INTO DEPT_TEMP(DEPTNO, DNAME, LOC)\n",
    "        VALUES(70, 'WEB', NULL);\n",
    "\n",
    "SELECT * FROM DEPT_TEMP;"
   ]
  },
  {
   "cell_type": "markdown",
   "metadata": {},
   "source": [
    "결과 :\n",
    "\n",
    "![1-4-1(1)](https://user-images.githubusercontent.com/53929665/94154613-0edd2400-feb9-11ea-8bf4-fa4be774d016.JPG)"
   ]
  },
  {
   "cell_type": "markdown",
   "metadata": {},
   "source": [
    "- 방법 2 : 해당 열의 자료형이 ☑(문자열 또는 날짜형일 경우) 공백 문자열을 사용해서 NULL을 입력할 수 있다."
   ]
  },
  {
   "cell_type": "code",
   "execution_count": null,
   "metadata": {},
   "outputs": [],
   "source": [
    "--- 10-6\n",
    "INSERT  INTO DEPT_TEMP(DEPTNO, DNAME, LOC)\n",
    "        VALUES(80, 'MOBILE', '');\n",
    "\n",
    "SELECT * FROM DEPT_TEMP;"
   ]
  },
  {
   "cell_type": "markdown",
   "metadata": {},
   "source": [
    "결과 :\n",
    "\n",
    "![1-4-1(2)](https://user-images.githubusercontent.com/53929665/94154614-0edd2400-feb9-11ea-9821-c8a7feb0079d.JPG)"
   ]
  },
  {
   "cell_type": "markdown",
   "metadata": {},
   "source": [
    "#### (4-2) `NULL`의 암묵적 입력\n",
    "- `INSERT`문에 `NULL`이 들어가야할 ☑(열 이름을 아예 입력하지 않는다.)"
   ]
  },
  {
   "cell_type": "code",
   "execution_count": null,
   "metadata": {},
   "outputs": [],
   "source": [
    "--- 10-7\n",
    "INSERT  INTO DEPT_TEMP(DEPTNO, LOC)\n",
    "        VALUES(90, 'INCHEON');\n",
    "\n",
    "SELECT * FROM DEPT_TEMP;"
   ]
  },
  {
   "cell_type": "markdown",
   "metadata": {},
   "source": [
    "결과 :\n",
    "\n",
    "![1-4-2](https://user-images.githubusercontent.com/53929665/94154617-0f75ba80-feb9-11ea-9696-6b89e7ca3793.JPG)"
   ]
  },
  {
   "cell_type": "markdown",
   "metadata": {},
   "source": [
    "#### (5) 테이블에 날짜 데이터 입력하기\n",
    "- EMP 테이블의 열 구조만 복사해서 EMP_TEMP 테이블 만들기\n",
    "    - `WHERE`절 조건이 `1<>1`이기 때문에 각 행을 조건식에 대입한 결과 값은  \n",
    "    항상 FALSE가 되어 행이 만들어지지 않는다."
   ]
  },
  {
   "cell_type": "code",
   "execution_count": null,
   "metadata": {},
   "outputs": [],
   "source": [
    "--- 10-8\n",
    "CREATE  TABLE EMP_TEMP\n",
    "        AS SELECT *\n",
    "            FROM EMP\n",
    "            WHERE 1<>1;\n",
    "\n",
    "SELECT * FROM EMP_TEMP;"
   ]
  },
  {
   "cell_type": "markdown",
   "metadata": {},
   "source": [
    "결과 :\n",
    "\n",
    "![1-5(1)](https://user-images.githubusercontent.com/53929665/94154620-0f75ba80-feb9-11ea-9990-5ea9093a3589.JPG)"
   ]
  },
  {
   "cell_type": "markdown",
   "metadata": {},
   "source": [
    "- 복사한 EMP_TEMP 테이블의 HIREDATE열은 날짜 자료형 열이므로  \n",
    "날짜 데이터를 입력할 수 있다."
   ]
  },
  {
   "cell_type": "code",
   "execution_count": null,
   "metadata": {},
   "outputs": [],
   "source": [
    "--- 10-9\n",
    "INSERT  INTO EMP_TEMP(EMPNO, ENAME, JOB, MGR, HIREDATE, SAL, COMM, DEPTNO)\n",
    "            VALUES (9999, '류지현', 'ENGINEER', NULL, '2020/09/02', 3000, 1000, 10);\n",
    "\n",
    "SELECT * FROM EMP_TEMP;"
   ]
  },
  {
   "cell_type": "markdown",
   "metadata": {},
   "source": [
    "결과 :\n",
    "\n",
    "![1-5(2)](https://user-images.githubusercontent.com/53929665/94154621-100e5100-feb9-11ea-8147-a097468db5b7.JPG)"
   ]
  },
  {
   "cell_type": "markdown",
   "metadata": {},
   "source": [
    "- 위의 예제에서는 `INSERT`문에서 날짜 데이터를 `YYYY/MM/DD` 형식의 문자열 데이터로 입력했다.\n",
    "- 하지만, 다음과 같이 `YYYY-MM-DD`형식으로도 날짜 데이터를 입력할 수 있다."
   ]
  },
  {
   "cell_type": "code",
   "execution_count": null,
   "metadata": {},
   "outputs": [],
   "source": [
    "--- 10-10\n",
    "INSERT  INTO EMP_TEMP(EMPNO, ENAME, JOB, MGR, HIREDATE, SAL, COMM, DEPTNO)\n",
    "            VALUES (1111, '유지현', 'ENGINEER', 9999, '2020-09-02', 3000, NULL, 10);\n",
    "\n",
    "SELECT * FROM EMP_TEMP;"
   ]
  },
  {
   "cell_type": "markdown",
   "metadata": {},
   "source": [
    "결과 :\n",
    "\n",
    "![1-5(3)](https://user-images.githubusercontent.com/53929665/94154623-100e5100-feb9-11ea-9574-72b59c259dd9.JPG)"
   ]
  },
  {
   "cell_type": "markdown",
   "metadata": {},
   "source": [
    " #### (5-1) 날짜 데이터의 유의점\n",
    " - `년/월/일` 순서와 반대로 `일/월/년` 순서로 데이터를 입력하면 오류가 발생한다."
   ]
  },
  {
   "cell_type": "markdown",
   "metadata": {},
   "source": [
    "#### (5-2) `TO_DATE`함수를 사용하여 날짜 데이터 입력하기\n",
    "- (5-1)에서 언급한 오류는  \n",
    "오라클이 설치되어 있는 운영체제(OS)의 종류나 사용하는 기본 언어군에 따라 날짜 표기방식이 다르기 때문이다.\n",
    "- 따라서,  \n",
    "☑(날짜 데이터를 `INSERT`문으로 입력할 때는 날짜를 위에서 봤던거와 같이 입력하기보다  \n",
    "`TO_DATE`함수를 사용하는 것이 좋다.)"
   ]
  },
  {
   "cell_type": "code",
   "execution_count": null,
   "metadata": {},
   "outputs": [],
   "source": [
    "--- 10-12\n",
    "INSERT INTO EMP_TEMP(EMPNO, ENAME, JOB, MGR,\n",
    "                     HIREDATE,\n",
    "                     SAL, COMM, DEPTNO)\n",
    "            VALUES(2111, '익명이', 'MANAGER', 9999,\n",
    "                   TO_DATE('07/01/2001', 'DD/MM/YYYY'),\n",
    "                   4000, NULL, 20);\n",
    "\n",
    "SELECT * FROM EMP_TEMP;"
   ]
  },
  {
   "cell_type": "markdown",
   "metadata": {},
   "source": [
    "결과 :\n",
    "\n",
    "![1-5-2](https://user-images.githubusercontent.com/53929665/94154625-10a6e780-feb9-11ea-9ddf-7d5d808f02a7.JPG)"
   ]
  },
  {
   "cell_type": "markdown",
   "metadata": {},
   "source": [
    "#### (5-3) `SYSDATE`를 사용하여 날짜 데이터 입력하기\n",
    "- 현재 시점으로 날짜를 입력할 경우에는 다음과 같이 `SYSDATE`를 지정하여 간단히 처리할 수 있다."
   ]
  },
  {
   "cell_type": "code",
   "execution_count": null,
   "metadata": {},
   "outputs": [],
   "source": [
    "--- 10-13\n",
    "INSERT INTO EMP_TEMP(EMPNO, ENAME, JOB, MGR,\n",
    "                     HIREDATE,\n",
    "                     SAL, COMM, DEPTNO)\n",
    "             VALUES(3111, '익명이2', 'MANAGER', 9999, SYSDATE, 4000, NULL, 30);\n",
    " \n",
    "SELECT * FROM EMP_TEMP;"
   ]
  },
  {
   "cell_type": "markdown",
   "metadata": {},
   "source": [
    "결과 :\n",
    "\n",
    "![1-5-3](https://user-images.githubusercontent.com/53929665/94154628-10a6e780-feb9-11ea-921f-e489c0d456ad.JPG)"
   ]
  },
  {
   "cell_type": "markdown",
   "metadata": {},
   "source": [
    "#### (6) 서브쿼리를 사용하여 한 번에 여러 데이터 추가하기\n",
    "- `INSERT`문에 서브쿼리를 사용하면  \n",
    "☑(`SELECT`문으로 한 번에 여러 행의 데이터를 추가할 수 있다.)\n",
    "\n",
    "\n",
    "- 주의점!!\n",
    "    - `VALUES`절은 사용하지 않는다.\n",
    "    - 데이터가 추가되는 테이블의 열 개수와 서브쿼리의 열 개수가 일치해야 한다.\n",
    "    - 데이터가 추가되는 테이블의 자료형과 서브쿼리의 자료형이 일치해야 한다.\n",
    "    \n",
    "    \n",
    "- (참고) `MERGE`문을 이용하면 같은 열 구조를 가지는 여러 테이블 또는 서브쿼리의 결과 데이터를 한 테이블에 병합하여 추가할 수도 있다.\n",
    "    - `INSERT` : docs.oracle.com/cd/E11882_01/server.112/e41084/statements_9014.htm#SQLRF01604\n",
    "    - `MERGE` : docs.oralce.com/cd/E11882_01/server.112/e41084/statements_9016.htm#SQLRF01606\n",
    "\n",
    "#### (6-1) 서브쿼리로 여러 데이터 추가하기\n",
    "- EMP 테이블에서 SALGRADE 테이블을 참조하여 급여 등급이 1인 사원만을 EMP_TEMP 테이블에 넣는 방법"
   ]
  },
  {
   "cell_type": "code",
   "execution_count": null,
   "metadata": {},
   "outputs": [],
   "source": [
    "--- 10-14\n",
    "INSERT INTO EMP_TEMP(EMPNO, ENAME, JOB, MGR, HIREDATE, SAL, COMM, DEPTNO)\n",
    "            SELECT E.EMPNO, E.ENAME, E.JOB, E.MGR, E.HIREDATE, E.SAL, E.COMM, E.DEPTNO\n",
    "            FROM EMP E, SALGRADE S\n",
    "            WHERE E.SAL BETWEEN S.LOSAL AND S.HISAL\n",
    "            AND S.GRADE = 1;\n",
    "\n",
    "SELECT * FROM EMP_TEMP;"
   ]
  },
  {
   "cell_type": "markdown",
   "metadata": {},
   "source": [
    "결과 :\n",
    "\n",
    "![1-6-1](https://user-images.githubusercontent.com/53929665/94154632-113f7e00-feb9-11ea-9fde-c5c3cf00680d.JPG)"
   ]
  },
  {
   "cell_type": "markdown",
   "metadata": {},
   "source": [
    "---\n",
    "### [ 2. 테이블에 있는 데이터 수정하기 ]\n",
    "- `UPDATE`문 : 오라클에서 특정 테이블에 저장되어 있는 데이터 내용을 수정할 때 사용\n",
    "\n",
    "\n",
    "\n",
    "\n",
    "- 실습전 DEPT 테이블 복사"
   ]
  },
  {
   "cell_type": "code",
   "execution_count": null,
   "metadata": {},
   "outputs": [],
   "source": [
    "--- 10-15\n",
    "CREATE  TABLE DEPT_TEMP2\n",
    "        AS SELECT * FROM DEPT;\n",
    "        \n",
    "SELECT * FROM DEPT_TEMP2;"
   ]
  },
  {
   "cell_type": "markdown",
   "metadata": {},
   "source": [
    "결과 :\n",
    "\n",
    "![2](https://user-images.githubusercontent.com/53929665/94264395-96866980-ff71-11ea-8395-8d9722b6be1e.JPG)"
   ]
  },
  {
   "cell_type": "markdown",
   "metadata": {},
   "source": [
    "#### (1) UPDATE문의 기본 사용법\n",
    "- 기본형식\n",
    "    - 변경할 테이블 이름을 우선 지정\n",
    "    - `SET`절에 `변경할 열이름 = 변경할 데이터`를 지정\n",
    "    - 여러 열의 데이터를 수정할 경우 `쉼표(,)`로 구분\n",
    "    - 데이터를 변경해야 할 행이 정해져 있다면 `WHERE`절 및 조건식을 추가하여  \n",
    "    변경 대상 행을 지정할 수 있다.\n",
    "    \n",
    "```\n",
    "UPDATE [변경할 테이블]\n",
    "SET    [변경할 열1]=[데이터], [변경할 열2]=[데이터], ..., [변경할 열n]=[데이터]\n",
    "[WHERE 데이터를 변경할 대상 행을 선별하기 위한 조건];\n",
    "```\n"
   ]
  },
  {
   "cell_type": "markdown",
   "metadata": {},
   "source": [
    "#### (2) 데이터 전체 수정하기\n",
    "- DEPT_TEMP2 테이블 업데이트하기\n",
    "    - 아래의 쿼리문은 DEPT_TEMP2테이블의 LOC열의 데이터를 모두 SEOUL로 수정하라는 내용이다.\n",
    "    - 하지만, 일괄적으로 변경하는 경우는 실무에서 흔치 않다."
   ]
  },
  {
   "cell_type": "code",
   "execution_count": null,
   "metadata": {},
   "outputs": [],
   "source": [
    "--- 10-16\n",
    "UPDATE DEPT_TEMP2\n",
    "    SET LOC = 'SEOUL';\n",
    "\n",
    "SELECT * FROM DEPT_TEMP2;"
   ]
  },
  {
   "cell_type": "markdown",
   "metadata": {},
   "source": [
    "결과 :\n",
    "\n",
    "![2-2](https://user-images.githubusercontent.com/53929665/94264401-97b79680-ff71-11ea-9ac1-1757bf7a12cd.JPG)"
   ]
  },
  {
   "cell_type": "markdown",
   "metadata": {},
   "source": [
    "#### (3) 수정한 내용을 되돌리고 싶을 때\n",
    "- 실수로 `UPDATE`문을 실행했을 때  \n",
    "이 실행을 취소하기 위해 `ROLLBACK` 명령문을 사용할 수 있다.\n",
    "\n",
    "\n",
    "- `ROLLBACK`명령어는 또한,  \n",
    "정해진 시점 이후에 실행된 DML 명령어, 즉 `INSERT`, `UPDATE`, `DELETE`의 실행을 취소하는 명령어이다."
   ]
  },
  {
   "cell_type": "code",
   "execution_count": null,
   "metadata": {},
   "outputs": [],
   "source": [
    "--- 10-17\n",
    "ROLLBACK;\n",
    "\n",
    "SELECT * FROM DEPT_TEMP2;"
   ]
  },
  {
   "cell_type": "markdown",
   "metadata": {},
   "source": [
    "결과 :\n",
    "- UPDATE문을 사용하기전으로 수정되었다.\n",
    "\n",
    "![2-3](https://user-images.githubusercontent.com/53929665/94264402-97b79680-ff71-11ea-92dd-7943fb243fd3.JPG)"
   ]
  },
  {
   "cell_type": "markdown",
   "metadata": {},
   "source": [
    "#### (4) 데이터 일부분만 수정하기\n",
    "- `UPDATE`문에서는 수정 대상 행을 선별하기 위해  \n",
    "`WHERE`절과 조건식을 사용한다.\n",
    "\n",
    "\n",
    "- ex) DEPTNO 40번 부서의 부서 이름을 DATABASE로 수정하고 지역을 SEOUL로 수정하고 싶은 경우"
   ]
  },
  {
   "cell_type": "code",
   "execution_count": null,
   "metadata": {},
   "outputs": [],
   "source": [
    "--- 10-18\n",
    "UPDATE DEPT_TEMP2\n",
    "    SET DNAME = 'DATABASE',\n",
    "        LOC = 'SEOUL'\n",
    "    WHERE DEPTNO = 40;\n",
    "    \n",
    "SELECT * FROM DEPT_TEMP2;"
   ]
  },
  {
   "cell_type": "markdown",
   "metadata": {},
   "source": [
    "결과 :\n",
    "\n",
    "![2-4](https://user-images.githubusercontent.com/53929665/94264404-98502d00-ff71-11ea-9335-49ce9eedd6ac.JPG)\n"
   ]
  },
  {
   "cell_type": "markdown",
   "metadata": {},
   "source": [
    "#### (5) 서브쿼리를 사용하여 데이터 수정하기\n",
    "#### (5-1) 여러 열을 한번에 수정하는 경우\n",
    "- 서브쿼리로 데이터 일부분 수정하기"
   ]
  },
  {
   "cell_type": "code",
   "execution_count": null,
   "metadata": {},
   "outputs": [],
   "source": [
    "--- 10-19\n",
    "UPDATE DEPT_TEMP2\n",
    "    SET (DNAME, LOC) = (SELECT DNAME, LOC\n",
    "                        FROM DEPT\n",
    "                        WHERE DEPTNO = 40)\n",
    "    WHERE DEPTNO = 40;\n",
    "    \n",
    "SELECT * FROM DEPT_TEMP2;"
   ]
  },
  {
   "cell_type": "markdown",
   "metadata": {},
   "source": [
    "결과 :\n",
    "- DATABASE, SEOUL에서 원래 DEPT=40일때 정보로 수정되었다."
   ]
  },
  {
   "cell_type": "markdown",
   "metadata": {},
   "source": [
    "#### (5-2) 열 하나하나를 수정하는 경우\n",
    "- 열 하나하나에 서브쿼리를 적용하는 것도 다음과 같이 가능하다."
   ]
  },
  {
   "cell_type": "code",
   "execution_count": null,
   "metadata": {},
   "outputs": [],
   "source": [
    "--- 10-20\n",
    "UPDATE DEPT_TEMP2\n",
    "    SET DNAME = (SELECT DNAME FROM DEPT WHERE DEPTNO=40),\n",
    "        LOC   = (SELECT LOC FROM DEPT WHERE DEPTNO=40)  \n",
    "    WHERE DEPTNO = 40; \n",
    "    \n",
    "SELECT * FROM DEPT_TEMP2;"
   ]
  },
  {
   "cell_type": "markdown",
   "metadata": {},
   "source": [
    "결과 : 5-1의 예제와 동일하다"
   ]
  },
  {
   "cell_type": "markdown",
   "metadata": {},
   "source": [
    "#### (5-3) WHERE절에 서브쿼리를 사용하여 데이터를 수정하는 경우"
   ]
  },
  {
   "cell_type": "code",
   "execution_count": null,
   "metadata": {},
   "outputs": [],
   "source": [
    "--- 10-21\n",
    "UPDATE DEPT_TEMP2\n",
    "    SET LOC = 'SEOUL'\n",
    "    WHERE DEPTNO = (SELECT DEPTNO\n",
    "                    FROM DEPT_TEMP2\n",
    "                    WHERE DNAME='OPERATIONS');\n",
    "                    \n",
    "SELECT * FROM DEPT_TEMP2;"
   ]
  },
  {
   "cell_type": "markdown",
   "metadata": {},
   "source": [
    "결과 : DEPTNO가 40인 행의 LOC가 SEOUL로 바뀌었음"
   ]
  },
  {
   "cell_type": "markdown",
   "metadata": {},
   "source": [
    "#### (6) UPDATE문 사용할 때 주의점\n",
    "- UPDATE문으로 인해 발생하는 사고들이 많기 때문에,  \n",
    "`WHERE`절을 `UPDATE`문에 넣어 실행하기 전에 `SELECT`문에서 먼저 사용해 확인하는 것을 추천"
   ]
  },
  {
   "cell_type": "markdown",
   "metadata": {},
   "source": [
    "---\n",
    "### [ 3. 테이블에 있는 데이터 삭제하기 ]\n",
    "\n",
    "- `DELETE`문 : 테이블에 있는 데이터를 삭제할 때 사용한다.\n",
    "\n",
    "\n",
    "- 기본형식\n",
    "    - (주의)`DELETE`문에서 `WHERE`절을 사용하지 않으면 테이블의 전체 데이터가 삭제된다.\n",
    "    \n",
    "```\n",
    "DELETE [FROM] [테이블 이름]\n",
    "[WHERE 삭제할 대상 행을 선별하기 위한 조건식];\n",
    "```\n",
    "\n",
    "\n",
    "- 실습전 EMP 테이블 복사"
   ]
  },
  {
   "cell_type": "code",
   "execution_count": null,
   "metadata": {},
   "outputs": [],
   "source": [
    "--- 10-22\n",
    "CREATE TABLE EMP_TEMP2\n",
    "       AS SELECT * FROM EMP;\n",
    "\n",
    "SELECT * FROM EMP_TEMP2;"
   ]
  },
  {
   "cell_type": "markdown",
   "metadata": {},
   "source": [
    "결과 : EMP 테이블이 완벽히 복사됨\n",
    "![3](https://user-images.githubusercontent.com/53929665/94271036-03066600-ff7c-11ea-955a-391a571fc86d.JPG)\n"
   ]
  },
  {
   "cell_type": "markdown",
   "metadata": {},
   "source": [
    "#### (1) 데이터 일부분만 삭제하기\n",
    "- `DELETE`문을 사용하여 EMP_TABLE2 테이블에서 직책이 MANAGER인 사원들만 삭제하기"
   ]
  },
  {
   "cell_type": "code",
   "execution_count": null,
   "metadata": {},
   "outputs": [],
   "source": [
    "--- 10-23\n",
    "DELETE FROM EMP_TEMP2\n",
    "    WHERE JOB = 'MANAGER';\n",
    "\n",
    "SELECT * FROM EMP_TEMP2;"
   ]
  },
  {
   "cell_type": "markdown",
   "metadata": {},
   "source": [
    "결과 :\n",
    "- EMP_TEMP2 테이블을 조회해 보면 WHERE절에 명시한 대로 JOB열 데이터가 MANAGER인 데이터만 삭제되었다.\n",
    "\n",
    "![3-1](https://user-images.githubusercontent.com/53929665/94271041-04379300-ff7c-11ea-8b4b-265f1b3807d7.JPG)"
   ]
  },
  {
   "cell_type": "markdown",
   "metadata": {},
   "source": [
    "#### (2) 서브쿼리를 사용하여 데이터 삭제하기\n",
    "- 급여 등급이 3등급, 30번 부서의 사원들만 삭제하기\n",
    "- `IN`연산자를 사용하여 표현"
   ]
  },
  {
   "cell_type": "code",
   "execution_count": null,
   "metadata": {},
   "outputs": [],
   "source": [
    "--- 10-24\n",
    "DELETE FROM EMP_TEMP2\n",
    "    WHERE EMPNO IN (SELECT E.EMPNO\n",
    "                    FROM EMP_TEMP2 E, SALGRADE S\n",
    "                    WHERE E.SAL BETWEEN S.LOSAL AND S.HISAL\n",
    "                    AND S.GRADE = 3\n",
    "                    AND DEPTNO = 30);\n",
    "                    \n",
    "SELECT * FROM EMP_TEMP2;"
   ]
  },
  {
   "cell_type": "markdown",
   "metadata": {},
   "source": [
    "결과 : 서브쿼리의 조건에 부합하는 ALLEN 및 TURNER의 데이터가 삭제되었다.\n",
    "\n",
    "![3-2](https://user-images.githubusercontent.com/53929665/94271042-04d02980-ff7c-11ea-8e58-a97907e8ee41.JPG)"
   ]
  },
  {
   "cell_type": "markdown",
   "metadata": {},
   "source": [
    "#### (3) 데이터 전체 삭제하기\n",
    "- `WHERE` 조건식을 사용하지 않으면 모든 데이터가 삭제된다."
   ]
  },
  {
   "cell_type": "code",
   "execution_count": null,
   "metadata": {},
   "outputs": [],
   "source": [
    "--- 10-25\n",
    "DELETE FROM EMP_TEMP2;\n",
    "\n",
    "SELECT * FROM EMP_TEMP2;"
   ]
  },
  {
   "cell_type": "markdown",
   "metadata": {},
   "source": [
    "결과 :\n",
    "\n",
    "![3-3](https://user-images.githubusercontent.com/53929665/94271045-04d02980-ff7c-11ea-98f7-8488ff39e1ea.JPG)"
   ]
  }
 ],
 "metadata": {
  "kernelspec": {
   "display_name": "Python 3",
   "language": "python",
   "name": "python3"
  },
  "language_info": {
   "codemirror_mode": {
    "name": "ipython",
    "version": 3
   },
   "file_extension": ".py",
   "mimetype": "text/x-python",
   "name": "python",
   "nbconvert_exporter": "python",
   "pygments_lexer": "ipython3",
   "version": "3.7.7"
  }
 },
 "nbformat": 4,
 "nbformat_minor": 4
}
