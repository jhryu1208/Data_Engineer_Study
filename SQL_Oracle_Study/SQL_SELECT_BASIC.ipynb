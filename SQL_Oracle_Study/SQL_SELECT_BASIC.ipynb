{
 "cells": [
  {
   "cell_type": "markdown",
   "metadata": {},
   "source": [
    "### [ 1. 데이터를 조회하는 3가지 방법 ]\n",
    "\n",
    "#### (1) 행 단위로 조회하는 SELECTION\n",
    "- `SELECTION`은 `행 단위`로 원하는 데이터를 조회하는 방식이다.\n",
    "- 테이블 전체 데이터 중 몇몇 가로줄의 데이터만 선택할 때 사용한다.\n",
    "\n",
    "#### (2) 열 단위로 조회하는 PROJECTION\n",
    "- `PROJECTION`은 `열 단위`로 원하는 데이터를 조회하는 방식이다.\n",
    "\n",
    "#### (3) 두 개 이상의 테이블을 사용하여 조회하는 JOIN\n",
    "- `JOIN`은 두 개 이상의 테이블을 양옆에 연결하여 마치 `하나의 테이블인 것`처럼 데이터를 조회하는 방식이다."
   ]
  },
  {
   "cell_type": "markdown",
   "metadata": {},
   "source": [
    "---\n",
    "### [ 2. SELECT 절과 FROM 절 ]\n",
    "- SELECT문 = SELECT 절 + FROM 절\n",
    "- `FROM`절 : 조회할 데이터가 저장된 테이블 이름을 명시\n",
    "- `SELECT`절 : FROM절에 명시한 테이블에서 조회할 열이나 여러 열에 저장된 데이터의 조합 또는 연산식을 지정할 수 있다.\n",
    "\n",
    "- 기본형식\n",
    "```\n",
    "SELECT [조회할 열1 이름], [열2 이름], ..., [열N 이름]\n",
    "FROM   [조회할 테이블 이름];\n",
    "```"
   ]
  },
  {
   "cell_type": "markdown",
   "metadata": {},
   "source": [
    "\n",
    "#### (1)  `*` 로 테이블 전체 열 출력하기"
   ]
  },
  {
   "cell_type": "code",
   "execution_count": null,
   "metadata": {},
   "outputs": [],
   "source": [
    "SELECT * FROM EMP;"
   ]
  },
  {
   "cell_type": "markdown",
   "metadata": {},
   "source": [
    "결과 : \n",
    "![3](https://user-images.githubusercontent.com/53929665/92938332-5f9b5880-f487-11ea-834f-0a933c9bd524.JPG)"
   ]
  },
  {
   "cell_type": "markdown",
   "metadata": {},
   "source": [
    "#### (2) 테이블 부분 열 출력하기"
   ]
  },
  {
   "cell_type": "code",
   "execution_count": null,
   "metadata": {},
   "outputs": [],
   "source": [
    "SELECT EMPNO, ENAME, DEPTNO FROM EMP;"
   ]
  },
  {
   "cell_type": "markdown",
   "metadata": {},
   "source": [
    "결과 :\n",
    "![4](https://user-images.githubusercontent.com/53929665/92938333-60cc8580-f487-11ea-95bd-a9f88841bfc4.JPG)"
   ]
  },
  {
   "cell_type": "markdown",
   "metadata": {},
   "source": [
    "---\n",
    "### [ 3. 중복 데이터를 제거하는 DISTINCT ] \n",
    "- `SELECT`문으로 데이터를 조회한 후 `DISTINCT`를 사용하여 중복을 제거한다.\n",
    "\n",
    "#### (1) DISTINCT로 열 중복 제거하기 (열이 한 개인 경우)"
   ]
  },
  {
   "cell_type": "code",
   "execution_count": null,
   "metadata": {},
   "outputs": [],
   "source": [
    "SELECT DISTINCT DEPTNO FROM EMP;"
   ]
  },
  {
   "cell_type": "markdown",
   "metadata": {},
   "source": [
    "결과 : \n",
    "![3-1](https://user-images.githubusercontent.com/53929665/92939291-8e65fe80-f488-11ea-8783-354f6c502154.JPG)"
   ]
  },
  {
   "cell_type": "markdown",
   "metadata": {},
   "source": [
    "#### (2) DISTINCT로 열 중복 제거하기 (열이 여러 개인 경우)\n",
    "- 두 열의 값이 동시에 동일한 경우의 중복을 제거한다."
   ]
  },
  {
   "cell_type": "code",
   "execution_count": null,
   "metadata": {},
   "outputs": [],
   "source": [
    "SELECT DISTINCT JOB,DEPTNO FROM EMP;"
   ]
  },
  {
   "cell_type": "markdown",
   "metadata": {},
   "source": [
    "결과 : \n",
    "![3-2](https://user-images.githubusercontent.com/53929665/92939296-902fc200-f488-11ea-946a-1df40e510264.JPG)\n"
   ]
  },
  {
   "cell_type": "markdown",
   "metadata": {},
   "source": [
    "#### (3) ALL로 중복되는 열 제거 없이 그대로 출력하기\n",
    "- `ALL`은 `DISTINCT`와 반대로 데이터 중복을 제거하지 않고 그대로 출력한다."
   ]
  },
  {
   "cell_type": "code",
   "execution_count": null,
   "metadata": {},
   "outputs": [],
   "source": [
    "SELECT ALL JOB,DEPTNO FROM EMP;"
   ]
  },
  {
   "cell_type": "markdown",
   "metadata": {},
   "source": [
    "---\n",
    "### [ 4. 별칭 설정 ]\n",
    "- SQL문에서는 최종 출력되는 열 이름을 임의로 지정할 수 있다.\n",
    "- 이렇게 본래 열 이름 대신 붙이는 이름을 `별칭(alias)`라고 한다.\n",
    "\n",
    "#### (1) 열과 연산식\n",
    "- SAL*12+COMM또한 ENAME,SAL,COMM과 같이 명시한 열이 위쪽이름에 그대로 출력된다.\n",
    "- (참조) SAL*12+COMM열에 모든 값이 출력되지 않는 이유는 COMM열의 값이 NULL인 사원들이 있기 때문이다."
   ]
  },
  {
   "cell_type": "code",
   "execution_count": null,
   "metadata": {},
   "outputs": [],
   "source": [
    "SELECT ENAME, SAL, SAL*12+COMM,COMM FROM EMP;"
   ]
  },
  {
   "cell_type": "markdown",
   "metadata": {},
   "source": [
    "결과 :\n",
    "![4-1](https://user-images.githubusercontent.com/53929665/92938334-60cc8580-f487-11ea-92b5-2d78a06f7eca.JPG)"
   ]
  },
  {
   "cell_type": "markdown",
   "metadata": {},
   "source": [
    "#### (2) 별칭 지정\n",
    "- 오라클에서 별칭을 지정하려면 다음과 같이 4가지 방식중 하나를 선택하여 SELECT절에 사용해야한다.\n",
    "- (참조) 일반적으로는 3번째 방법이 선호되지만,  \n",
    "프로그래밍언어에서 문자열 대부분은 `\" \"`을사용하기 때문에, 문자열에서 SQL문을 사용할 경우 마지막 방법이 선호된다. \n",
    "\n",
    "|사용방법|설명|\n",
    "|:-------|:----|\n",
    "|SAL*12+COMM ANNSAL|연산 및 가공된 문장 이후 한 칸 띄우고 별칭 지정|\n",
    "|SAL*12+COMM \"ANNSAL\"|연산 및 가공된 문장 이후 한 칸 띄우고 별칭을 큰따옴표(\")로 묶어 지정|\n",
    "|(선호)SAL*12+COMM  AS ANNSAL|연산 및 가공된 문장 이후 한 칸 띄운 후 `AS`, 한 칸 뒤에 별칭 지정|\n",
    "|SAL*12+COMM AS \"ANNSAL\"|연산 및 가공된 문장 이후 한 칸 띄운 후 `AS`, 한 칸 뒤에 별칭을 큰따옴표(\")로 묶어 지정|"
   ]
  },
  {
   "cell_type": "code",
   "execution_count": null,
   "metadata": {},
   "outputs": [],
   "source": [
    "SELECT ENAME, SAL, SAL*12+COMM AS ANNSAL,COMM FROM EMP;"
   ]
  },
  {
   "cell_type": "markdown",
   "metadata": {},
   "source": [
    "결과 :\n",
    "![4-2](https://user-images.githubusercontent.com/53929665/92938336-61651c00-f487-11ea-94aa-16ea43c546ff.JPG)"
   ]
  },
  {
   "cell_type": "markdown",
   "metadata": {},
   "source": [
    "---\n",
    "### [ 5. 원하는 순서로 출력 데이터를 정렬하는 ORDER BY ]\n",
    "- `ORDER BY` : 데이터를 정렬된 상태로 출력하기 위해 사용\n",
    "- SELECT문을 작성할 때 사용할 수 있는 여러 절 중 가장 마지막 부분에 쓰인다.\n",
    "- 정렬 옵션\n",
    "    - `ASC` : 오름차순  (default value)\n",
    "    - `DESC`: 내림차순\n",
    "    \n",
    "    \n",
    "- (주의) 가급적으로 정렬이 꼭 필요한 순간이 아니면 ORDER BY절을 넣지 않도록한다.  \n",
    "이유 : 데이터의 크기에 비례하여 시간이 오래 걸리기 때문에\n",
    "\n",
    "\n",
    "- 기본형식\n",
    "```\n",
    "SELECT [조회할 열1 이름], [열2 이름], ..., [열N 이름]\n",
    "FROM   [조회할 테이블 이름]\n",
    ".\n",
    ".  (그 밖의 절)\n",
    ".\n",
    "ORDER BY [정렬하려는 열 이름(여러 열 지정 가능)] [정렬 옵션];\n",
    "```\n",
    "\n",
    "\n",
    "#### (1) 오름차순(ASC) 사용"
   ]
  },
  {
   "cell_type": "code",
   "execution_count": null,
   "metadata": {},
   "outputs": [],
   "source": [
    "SELECT * FROM EMP ORDER BY SAL;"
   ]
  },
  {
   "cell_type": "markdown",
   "metadata": {},
   "source": [
    "결과 :\n",
    "![5-1(찐)](https://user-images.githubusercontent.com/53929665/92938339-61fdb280-f487-11ea-9a23-0b261bc6a5c7.JPG)\n"
   ]
  },
  {
   "cell_type": "markdown",
   "metadata": {},
   "source": [
    "#### (2) 내림차순(DESC) 사용"
   ]
  },
  {
   "cell_type": "code",
   "execution_count": null,
   "metadata": {},
   "outputs": [],
   "source": [
    "SELECT * FROM EMP ORDER BY SAL DESC;"
   ]
  },
  {
   "cell_type": "markdown",
   "metadata": {},
   "source": [
    "결과 : \n",
    "![5-2(찐)](https://user-images.githubusercontent.com/53929665/92938342-61fdb280-f487-11ea-97f8-062650acda88.JPG)"
   ]
  },
  {
   "cell_type": "markdown",
   "metadata": {},
   "source": [
    "#### (3) 각각의 열에 내림차순(DESC)와 오름차순(ASC) 동시에 사용하기"
   ]
  },
  {
   "cell_type": "code",
   "execution_count": null,
   "metadata": {},
   "outputs": [],
   "source": [
    "SELECT * FROM EMP ORDER BY DEPTNO ASC, SAL DESC;"
   ]
  },
  {
   "cell_type": "markdown",
   "metadata": {},
   "source": [
    "- ORDER BY절에 첫 번째로 명시된 DEPTNO 열을 기준으로 먼저 오름차순으로 정렬한 후에  \n",
    "DEPNOT(부서번호)가 같은, 즉 같은 부서에서 근무하고 있는 사원들끼리는 급여가 높은 사원부터 낮은 사원으로 내림차순으로 정렬하여 출력되었다."
   ]
  },
  {
   "cell_type": "markdown",
   "metadata": {},
   "source": [
    "결과 : \n",
    "![5-3(찐)](https://user-images.githubusercontent.com/53929665/92938345-62964900-f487-11ea-9fa7-24f6bb54f9c2.JPG)"
   ]
  },
  {
   "cell_type": "markdown",
   "metadata": {},
   "source": [
    "### [ 예제 ]"
   ]
  },
  {
   "cell_type": "markdown",
   "metadata": {},
   "source": [
    "Q1."
   ]
  },
  {
   "cell_type": "code",
   "execution_count": null,
   "metadata": {},
   "outputs": [],
   "source": [
    "SELECT DISTINCT JOB FROM EMP"
   ]
  },
  {
   "cell_type": "markdown",
   "metadata": {},
   "source": [
    "Q2."
   ]
  },
  {
   "cell_type": "code",
   "execution_count": null,
   "metadata": {},
   "outputs": [],
   "source": [
    "SELECT EMPNO AS EMPLOYEE_NO,\n",
    "       ENAME AS EMPLOYEE_NAME,\n",
    "       JOB,\n",
    "       MGR AS MANAGER,\n",
    "       SAL AS SALARY,\n",
    "       COMM AS COMMISSION,\n",
    "       DEPTNO AS DEPARTMENT_NO\n",
    "FROM EMP\n",
    "ORDER BY DEPARTMENT_NO DESC, EMPLOYEE_NAME ASC;"
   ]
  }
 ],
 "metadata": {
  "kernelspec": {
   "display_name": "Python 3",
   "language": "python",
   "name": "python3"
  },
  "language_info": {
   "codemirror_mode": {
    "name": "ipython",
    "version": 3
   },
   "file_extension": ".py",
   "mimetype": "text/x-python",
   "name": "python",
   "nbconvert_exporter": "python",
   "pygments_lexer": "ipython3",
   "version": "3.7.7"
  }
 },
 "nbformat": 4,
 "nbformat_minor": 4
}
