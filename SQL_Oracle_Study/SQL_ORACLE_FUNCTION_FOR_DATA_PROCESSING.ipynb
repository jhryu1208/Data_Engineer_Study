{
 "cells": [
  {
   "cell_type": "markdown",
   "metadata": {},
   "source": [
    "## <U>데이터 처리와 가공을 위한 오라클 함수</U>\n",
    "---\n",
    "### [ 1. 오라클 함수 ]\n",
    "#### <u>내장 함수(buit-in function)</u>\n",
    "- 오라클에서 기본으로 제공하는 함수\n",
    "\n",
    "\n",
    "- <b>단일행 함수(single-row-function)</b>\n",
    "    - 한 행당 결과가 하나씩 나오는 함수\n",
    "\n",
    "\n",
    "\n",
    "- <b>다중행 함수(multiple-row function)</b>\n",
    "    - 여러 행이 입력되어 하나의 행으로 결과가 반환되는 함수\n",
    "\n",
    "\n",
    "#### <u>정의 함수(user-defined function)</u>\n",
    "- 사용자가 필요에 의해 직접 정의한 함수"
   ]
  },
  {
   "cell_type": "markdown",
   "metadata": {},
   "source": [
    "---\n",
    "### [ 2. 문자 함수 ]\n",
    "\n",
    "|함수|설명|\n",
    "|:------:|:---|\n",
    "|`UPPER(문자열)`|괄호 안 문자 데이터를 모두 대문자로 변환하여 반환|\n",
    "|`LOWER(문자열)`|괄호 안 문자 데이터를 모두 소문자로 변환하여 반환|\n",
    "|`INITCAP(문자열)`|괄호 안 문자 데이터 중 첫 글자는 대문자로, 나머지는 소문자로 변환 후 반환|"
   ]
  },
  {
   "cell_type": "markdown",
   "metadata": {},
   "source": [
    "#### (1) UPPER, LOWER, INITCAP 함수 "
   ]
  },
  {
   "cell_type": "code",
   "execution_count": null,
   "metadata": {},
   "outputs": [],
   "source": [
    "SELECT ENAME, UPPER(ENAME), LOWER(ENAME), INITCAP(ENAME)\n",
    "FROM EMP;"
   ]
  },
  {
   "cell_type": "markdown",
   "metadata": {},
   "source": [
    "결과 :\n",
    "![2-1](https://user-images.githubusercontent.com/53929665/93022415-5267a080-f624-11ea-8832-2bfdf9fe6dd9.JPG)"
   ]
  },
  {
   "cell_type": "markdown",
   "metadata": {},
   "source": [
    "#### (1-1) `UPPER` 함수로 문자열 비교하기(사원 이름이 SCOTT인 데이터 찾기)"
   ]
  },
  {
   "cell_type": "code",
   "execution_count": null,
   "metadata": {},
   "outputs": [],
   "source": [
    "SELECT *\n",
    "FROM EMP\n",
    "WHERE UPPER(ENAME) = UPPER('scott');"
   ]
  },
  {
   "cell_type": "markdown",
   "metadata": {},
   "source": [
    "결과 :\n",
    "![2-1-1](https://user-images.githubusercontent.com/53929665/93022416-53003700-f624-11ea-8d3e-fecf2bd1bf9c.JPG)"
   ]
  },
  {
   "cell_type": "markdown",
   "metadata": {},
   "source": [
    "#### (1-2) `UPPER`함수로 문자열 비교하기(사원 이름에 SCOTT단어를 포함한 데이터찾기)"
   ]
  },
  {
   "cell_type": "code",
   "execution_count": null,
   "metadata": {},
   "outputs": [],
   "source": [
    "SELECT *\n",
    "FROM EMP\n",
    "WHERE UPPER(ENAME) LIKE UPPER('%scott%');"
   ]
  },
  {
   "cell_type": "markdown",
   "metadata": {},
   "source": [
    "결과 :\n",
    "![2-1-2](https://user-images.githubusercontent.com/53929665/93022417-5398cd80-f624-11ea-855a-9cfc2dbadcf4.JPG)\n"
   ]
  },
  {
   "cell_type": "markdown",
   "metadata": {},
   "source": [
    "---\n",
    "####  (2) LENGTH 함수 \n",
    "- `LENGTH` : 특정 문자열의 길이를 구할 때 사용한다.\n",
    "\n",
    "#### (2-1) `LENGTH`함수 사용하기\n",
    "- 선택한 열의 문자열 길이 구하기"
   ]
  },
  {
   "cell_type": "code",
   "execution_count": null,
   "metadata": {},
   "outputs": [],
   "source": [
    "SELECT ENAME, LENGTH(ENAME)\n",
    "FROM EMP;"
   ]
  },
  {
   "cell_type": "markdown",
   "metadata": {},
   "source": [
    "결과 :\n",
    "![2-2-1](https://user-images.githubusercontent.com/53929665/93022418-5398cd80-f624-11ea-87b8-d6ec23286118.JPG)"
   ]
  },
  {
   "cell_type": "markdown",
   "metadata": {},
   "source": [
    "#### (2-2)` WHERE`절에서 `LENGTH`함수 사용하기\n",
    "- 사원 이름의 길이가 5 이상인 행 출력하기"
   ]
  },
  {
   "cell_type": "code",
   "execution_count": null,
   "metadata": {},
   "outputs": [],
   "source": [
    "SELECT ENAME, LENGTH(ENAME)\n",
    "FROM EMP\n",
    "WHERE LENGTH(ENAME) >= 5;"
   ]
  },
  {
   "cell_type": "markdown",
   "metadata": {},
   "source": [
    "결과:\n",
    "![2-2-2](https://user-images.githubusercontent.com/53929665/93022419-54316400-f624-11ea-9d3c-c55c3b7bb3f7.JPG)"
   ]
  },
  {
   "cell_type": "markdown",
   "metadata": {},
   "source": [
    "#### (2-3) `LENGTH` Vs `LENGTHB` 함수\n",
    "- `LENGTHB` 함수 : LENGTH함수와 사용방법은 같지만, 문자열 데이터 길이가 아닌 바이트 수를 반환한다.\n",
    "\n",
    "\n",
    "- (참조) 한글은 한 문자당 2byte, 영어는 한 글자당 1byte"
   ]
  },
  {
   "cell_type": "code",
   "execution_count": null,
   "metadata": {},
   "outputs": [],
   "source": [
    "SELECT LENGTH('한글'), LENGTHB('한글')\n",
    "FROM DUAL;"
   ]
  },
  {
   "cell_type": "markdown",
   "metadata": {},
   "source": [
    "결과 :\n",
    "![2-2-3](https://user-images.githubusercontent.com/53929665/93022420-54316400-f624-11ea-928c-6c8b51e05551.JPG)\n"
   ]
  },
  {
   "cell_type": "markdown",
   "metadata": {},
   "source": [
    "---\n",
    "#### (3) SUBSTR 함수\n",
    "- `SUBSTR` : 문자열 중 일부를 추출할 때 사용\n",
    "\n",
    "\n",
    "- 사용방법\n",
    "    - `SUBSTR(문자열 데이터, 시작 위치, 추출 길이)` :  \n",
    "      문자열 데이터의 시작 위치부터 추출 길이만큼 추출  \n",
    "      (시작 위치가 음수) 마지막 위치부터 거슬러 올라간 위치에서 시작\n",
    "      <BR>\n",
    "      \n",
    "    - `SUBSTR(문자열 데이터, 시작 위치)` :  \n",
    "        문자열 데이터의 시작 위치부터 문자열 데이터 끝까지 추출  \n",
    "        (시작 위치가 음수) 마지막 위치부터 거슬러 올라간 위치에서 끝까지 추출"
   ]
  },
  {
   "cell_type": "markdown",
   "metadata": {},
   "source": [
    "#### (3-2) `SUBSTR` 함수 사용하기"
   ]
  },
  {
   "cell_type": "code",
   "execution_count": null,
   "metadata": {},
   "outputs": [],
   "source": [
    "SELECT JOB, SUBSTR(JOB,1,2), SUBSTR(JOB, 5)\n",
    "FROM EMP;"
   ]
  },
  {
   "cell_type": "markdown",
   "metadata": {},
   "source": [
    "결과 :\n",
    "![2-3-2](https://user-images.githubusercontent.com/53929665/93022421-54c9fa80-f624-11ea-9ade-e4c854d1f097.JPG)"
   ]
  },
  {
   "cell_type": "markdown",
   "metadata": {},
   "source": [
    "#### (3-3) `SUBSTR`함수 안에 다른 함수(`LENTH`) 함께 사용하기"
   ]
  },
  {
   "cell_type": "code",
   "execution_count": null,
   "metadata": {},
   "outputs": [],
   "source": [
    "SELECT JOB,\n",
    "       SUBSTR(JOB, -LENGTH(JOB)),\n",
    "       SUBSTR(JOB, -LENGTH(JOB), 2),\n",
    "       SUBSTR(JOB, -3)\n",
    "FROM EMP;"
   ]
  },
  {
   "cell_type": "markdown",
   "metadata": {},
   "source": [
    "결과 :\n",
    "![2-3-3](https://user-images.githubusercontent.com/53929665/93022422-54c9fa80-f624-11ea-9364-d567fe493e08.JPG)\n"
   ]
  },
  {
   "cell_type": "markdown",
   "metadata": {},
   "source": [
    "---\n",
    "#### (4) INSTR 함수\n",
    "- `INSTR` : 문자열 데이터 안에 특정 문자나 문자열이 어디에 포함되어 있는지 알고자 할 때 사용\n",
    "- `INSTR`함수는 총 4개의 입력 값을 지정할 수 있으며,  \n",
    "최소 2개의 입력값, 즉 원본 문자열 데이터와 원본 문자열에서 찾으려는 문자  \n",
    "이렇게 두 가지는 반드시 지정해야한다.\n",
    "\n",
    "\n",
    "- 기본형식\n",
    "```\n",
    "INSTR([대상 문자열 데이터(필수)],\n",
    "      [위치를 찾으려는 부분 문자(필수)],\n",
    "      [위치 찾기를 시작할 대상 문자열 데이터 위치(선택, 기본값 1)],\n",
    "      [시작 위치에서 찾으려는 문자가 몇 번째인지 지정(선택, 기본값 1)])\n",
    "```"
   ]
  },
  {
   "cell_type": "markdown",
   "metadata": {},
   "source": [
    "#### (4-1) `INSTR`함수로 문자열 데이터에서 특정 문자열 찾기"
   ]
  },
  {
   "cell_type": "code",
   "execution_count": null,
   "metadata": {},
   "outputs": [],
   "source": [
    "SELECT INSTR('HELLO, ORALCE!', 'L') AS INSTR_1,\n",
    "       INSTR('HELLO, ORACLE!', 'L', 5) AS INSTR_2,\n",
    "       INSTR('HELLO, ORACLE!', 'L', 2, 2) AS INSTR_3\n",
    "FROM DUAL;"
   ]
  },
  {
   "cell_type": "markdown",
   "metadata": {},
   "source": [
    "결과 :\n",
    "- (1) L이 세 번째 문자에서 가장 먼저 발견되므로 3!\n",
    "- (2) 검색 시작 위치인 5부터 열두 번째 문자에서 L이 가장 먼저 발견되므로 12!\n",
    "- (3) 검색 시작 위치인 2부터 <U>두 번째로 등장한 L</U>을 의미하기 때문에 4!\n",
    "![2-4-1](https://user-images.githubusercontent.com/53929665/93022423-55629100-f624-11ea-8a89-8e63c99de61d.JPG)"
   ]
  },
  {
   "cell_type": "markdown",
   "metadata": {},
   "source": [
    "#### (4-2) 특정 문자를 포함하고 있는 행 찾기 : `INSTR` VS `LIKE`\n",
    "- `INSTR` 함수로 사원 이름에 문자 S가 있는 행 구하기\n",
    "    - 만약 찾으려는 <U>문자가 문자열 데이터에 포함되어 있지 않다면</U> 위치 값이 없으므로 <U>0</U>을 반환"
   ]
  },
  {
   "cell_type": "code",
   "execution_count": null,
   "metadata": {},
   "outputs": [],
   "source": [
    "SELECT *\n",
    "FROM EMP\n",
    "WHERE INSTR(ENAME, 'S') > 0;"
   ]
  },
  {
   "cell_type": "markdown",
   "metadata": {},
   "source": [
    "- `LIKE` 함수로 사원 이름에 문자 S가 있는 행 구하기"
   ]
  },
  {
   "cell_type": "code",
   "execution_count": null,
   "metadata": {},
   "outputs": [],
   "source": [
    "SELECT *\n",
    "FROM EMP\n",
    "WHERE ENAME LIKE '%S%';"
   ]
  },
  {
   "cell_type": "markdown",
   "metadata": {},
   "source": [
    "결과 (동일) :\n",
    "![2-4-2](https://user-images.githubusercontent.com/53929665/93022424-55629100-f624-11ea-839b-4b20e10a3d13.JPG)"
   ]
  },
  {
   "cell_type": "markdown",
   "metadata": {},
   "source": [
    "---\n",
    "#### (5) REPLACE 함수\n",
    "- `REPLACE` : 특정 문자열 데이터에 포함된 문자를 다른 문자로 대체할 경우에 사용\n",
    "\n",
    "\n",
    "- 기본형식\n",
    "```\n",
    "REPLACE([문자열 데이터 또는 열이름(필수)],[찾는 문자(필수)],[대체할 문자(선택)]\n",
    "```\n",
    "\n",
    "#### (5-1) `REPLACE`함수로 문자열 안에 있는 특정 문자 바꾸기\n",
    "    - '대체할 문자'를 지정하지 않으면 '찾는 문자'가 삭제된다."
   ]
  },
  {
   "cell_type": "code",
   "execution_count": null,
   "metadata": {},
   "outputs": [],
   "source": [
    "SELECT '010-1234-5678' AS REPLACE_BEFORE,\n",
    "       REPLACE('010-1234-5678', '-', ' ') AS REPLACE_1,\n",
    "       REPLACE('010-1234-5678', '-') AS REPLACE_2\n",
    "FROM DUAL;"
   ]
  },
  {
   "cell_type": "markdown",
   "metadata": {},
   "source": [
    "결과 :\n",
    "![2-5-1](https://user-images.githubusercontent.com/53929665/93022425-55fb2780-f624-11ea-9fb3-6677c1a40002.JPG)\n"
   ]
  },
  {
   "cell_type": "markdown",
   "metadata": {},
   "source": [
    "---\n",
    "#### (6) LPAD, RPAD 함수\n",
    "- 데이터와 자릿수를 지정한 후 데이터 길이가 지정한 자릿수보다 작을 경우에 나머지 공간을 특정 문자로 채우는 함수\n",
    "- `LPAD`(Left Padding) : 남은 빈 공간을 왼쪽에 채움\n",
    "- `RPAD`(Right Padding) : 남은 빈 공간을 오른쪽에 채움\n",
    "- <u>빈 공간에 채울 문자를 지정하지 않으면</u> LPAD와 RPAD함수는 빈 공간의 자릿수만큼 <u>공백 문자(spacebar)</u>로 띄운다.\n",
    "\n",
    "\n",
    "- 기본형식\n",
    "\n",
    "```\n",
    "LPAD([문자열 데이터 또는 열이름(필수)], [데이터 자릿수(필수)], [빈 공간에 채울 문자(선택)]\n",
    "\n",
    "RPAD([문자열 데이터 또는 열이름(필수)], [데이터 자릿수(필수)], [빈 공간에 채울 문자(선택)]\n",
    "```"
   ]
  },
  {
   "cell_type": "markdown",
   "metadata": {},
   "source": [
    "#### (6-1) LPAD, RPAD 함수 사용하여 출력하기"
   ]
  },
  {
   "cell_type": "code",
   "execution_count": null,
   "metadata": {},
   "outputs": [],
   "source": [
    "SELECT 'Oracle',\n",
    "       LPAD('Oracle', 10, '#') AS LPAD_1,\n",
    "       RPAD('Oracle', 10, '*') AS RPAD_1,\n",
    "       LPAD('Oracle', 10) AS LPAD_2,\n",
    "       RPAD('Oracle', 10) AS RPAD_2\n",
    "FROM DUAL;"
   ]
  },
  {
   "cell_type": "markdown",
   "metadata": {},
   "source": [
    "결과 :\n",
    "![2-6-1](https://user-images.githubusercontent.com/53929665/93022426-55fb2780-f624-11ea-801f-1f5d2ba225e3.JPG)"
   ]
  },
  {
   "cell_type": "markdown",
   "metadata": {},
   "source": [
    "#### (6-2) 특정 문자로 자릿수 채워서 출력하기\n",
    "- `RPAD`함수를 사용하여 개인정보 뒷자리 * 표시로 출력하기"
   ]
  },
  {
   "cell_type": "code",
   "execution_count": null,
   "metadata": {},
   "outputs": [],
   "source": [
    "SELECT RPAD('971208-', 14, '*') AS RPAD_JMNO,\n",
    "       RPAD('010-3615', 13, '*') AS RPAD_PHONE\n",
    "FROM DUAL;"
   ]
  },
  {
   "cell_type": "markdown",
   "metadata": {},
   "source": [
    "결과 :\n",
    "![2-6-2](https://user-images.githubusercontent.com/53929665/93022427-5693be00-f624-11ea-8234-1ae1c4114666.JPG)"
   ]
  },
  {
   "cell_type": "markdown",
   "metadata": {},
   "source": [
    "---\n",
    "#### (7) CONCAT 함수\n",
    "- `CONCAT` : 두 개의 문자열 데이터를 하나의 데이터로 연결해 주는 역할\n",
    "- 두 개의 입력 데이터 지정을 하고 열이나 문자열 데이터 모두 지정 가능\n",
    "\n",
    "\n",
    "- 기본형식\n",
    "```\n",
    "CONCAT([문자열 데이터 또는 열이름 1], [문자열 데이터 또는 열이름 2])\n",
    "```\n",
    "\n",
    "\n",
    "- (참조)\n",
    "> `||` 연산자는 `CONCAT` 함수와 유사하게 열이나 문자열을 연결한다.\n",
    "> ```\n",
    "> SELECT EMPNO || ENAME,\n",
    ">        EMPNO || ':' || ENMAE\n",
    "> FROM...\n",
    "> ```"
   ]
  },
  {
   "cell_type": "markdown",
   "metadata": {},
   "source": [
    "#### (7-1) 두 열 사이에 콜론(:) 넣고 연결하기"
   ]
  },
  {
   "cell_type": "code",
   "execution_count": null,
   "metadata": {},
   "outputs": [],
   "source": [
    "SELECT CONCAT(EMPNO, ENAME),\n",
    "       CONCAT(EMPNO, CONCAT(':', ENAME))\n",
    "FROM EMP\n",
    "WHERE ENAME = 'SCOTT';"
   ]
  },
  {
   "cell_type": "markdown",
   "metadata": {},
   "source": [
    "결과 :\n",
    "![2-7-1](https://user-images.githubusercontent.com/53929665/93022428-5693be00-f624-11ea-96b8-ed48bad6b2f7.JPG)"
   ]
  },
  {
   "cell_type": "markdown",
   "metadata": {},
   "source": [
    "---\n",
    "#### (8) TRIM, LTRIM, RTRIM 함수\n",
    "- 문자열 데이터 내에서 특정 문자를 지우기 위해 사용\n",
    "- 원본 문자열 데이터를 제외한 나머지 데이터는 모두 생략\n",
    "- 삭제할 문자가 생략될 경우에 기본적으로 공백을 제거\n",
    "- 삭제옵션\n",
    "    - `LEADING` : 왼쪽에 있는 글자 삭제\n",
    "    - `TRAILING` : 오른쪽에 있는 글자 삭제\n",
    "    - `BOTH` : 양쪽에 있는 글자 삭제\n",
    "    \n",
    "    \n",
    "- 기본형식\n",
    "    - `TRIM`\n",
    "       ```\n",
    "       TRIM([삭제옵션(선택)][삭제할 문자(선택)] FROM [원본 문자열 데이터(필수)])\n",
    "       ```\n",
    "       - TRIM 함수의 삭제할 문자는 필수가 아니므로 지정하지 않아도 된다.\n",
    "       - 삭제할 문자가 없으면 공백이 제거된다.\n",
    "       \n",
    "       <BR>\n",
    "    - `LTRIM`\n",
    "       ```\n",
    "       LTRIM([원본 문자열 데이터(필수)], [삭제할 문자 집합(선택)]\n",
    "       ```\n",
    "       - 왼쪽의 지정 문자 삭제\n",
    "       - TRIM과 마찬가지로 삭제할 문자가 없으면 공백이 제거된다.\n",
    "    \n",
    "       <BR>\n",
    "    - `RTRIM`\n",
    "       ```\n",
    "       RTRIM([원본 문자열 데이터(필수)], [삭제할 문자 집합(선택)]\n",
    "       ```\n",
    "       - 오른쪽의 지정 문자 삭제\n",
    "       - TRIM과 마찬가지로 삭제할 문자가 없으면 공백이 제거된다."
   ]
  },
  {
   "cell_type": "markdown",
   "metadata": {},
   "source": [
    "#### (8-1) `TRIM`함수 사용(삭제할 문자가 없을 때)\n",
    "\n",
    "- `TRIM`함수로 공백 제거하여 출력"
   ]
  },
  {
   "cell_type": "code",
   "execution_count": null,
   "metadata": {},
   "outputs": [],
   "source": [
    "SELECT '_' || TRIM(' _ _Oracle_ _ ') || '_' AS TRIM,\n",
    "       '_' || TRIM(LEADING FROM ' _ _Oracle_ _ ') || '_' AS TRIM_LEADING,\n",
    "       '_' || TRIM(TRAILING FROM ' _ _Oracle_ _ ') || '_' AS TRIM_TRAILING,\n",
    "       '_' || TRIM(BOTH FROM ' _ _Oracle_ _ ') || '_' AS TRIM_BOTH\n",
    "FROM DUAL;"
   ]
  },
  {
   "cell_type": "markdown",
   "metadata": {},
   "source": [
    "결과 :\n",
    "아래 결과 테이블을 보면 '_' 와 '_'의 띄임과 붙임을 통해 TRIM함수가 어떤 함수인지 눈으로 확인 가능하다.\n",
    "![2-8-1](https://user-images.githubusercontent.com/53929665/93022429-572c5480-f624-11ea-8ff5-76c89e2183a9.JPG)"
   ]
  },
  {
   "cell_type": "markdown",
   "metadata": {},
   "source": [
    "#### (8-2) `TRIM`함수 사용하기(삭제할 문자가 있을 때)\n",
    "- `TRIM`함수로 삭제할 문자 '_' 삭제 후 출력하기"
   ]
  },
  {
   "cell_type": "code",
   "execution_count": null,
   "metadata": {},
   "outputs": [],
   "source": [
    "SELECT '_' || TRIM('_' FROM '_ _Oracle_ _') || '_' AS TRIM,\n",
    "       '_' || TRIM(LEADING '_' FROM '_ _Oracle_ _') || '_' AS TRIM_LEADING,\n",
    "       '_' || TRIM(TRAILING '_' FROM '_ _Oracle_ _') || '_' AS TRIM_TRAILING,\n",
    "       '_' || TRIM(BOTH '_' FROM '_ _Oracle_ _') || '_' AS TRIM_BOTH\n",
    "FROM DUAL; "
   ]
  },
  {
   "cell_type": "markdown",
   "metadata": {},
   "source": [
    "결과 : 잘 안보이지만, 8-2의 예제 _ _ Oracle _ _은 양쪽에 공백이 없지만, 8-1의 예제는 양쪽에 공백이 있다.\n",
    "![2-8-2](https://user-images.githubusercontent.com/53929665/93022430-572c5480-f624-11ea-99f3-b647940cef0c.JPG)\n"
   ]
  },
  {
   "cell_type": "markdown",
   "metadata": {},
   "source": [
    "#### (8-3) `TRIM`, `LTRIM`, `RTRIM` 사용하여 문자열 출력하기"
   ]
  },
  {
   "cell_type": "code",
   "execution_count": null,
   "metadata": {},
   "outputs": [],
   "source": [
    "SELECT '_' || TRIM(' _Oracle_ ') || '_' AS TRIM,\n",
    "       '_' || LTRIM(' _Oracle_ ') || '_' AS LTRIM,\n",
    "       '_' || LTRIM('<_Oracle_>', '_<') || '_' AS LTRIM_2,\n",
    "       '_' || RTRIM(' _Oracle_ ') || '_' AS RTRIM,\n",
    "       '_' || RTRIM('<_Oracle_>', '>_') || '_' AS RTRIM_2\n",
    "FROM DUAL;"
   ]
  },
  {
   "cell_type": "markdown",
   "metadata": {},
   "source": [
    "결과 : \n",
    "![2-8-3](https://user-images.githubusercontent.com/53929665/93022431-57c4eb00-f624-11ea-9fa6-606267616ca0.JPG)\n"
   ]
  },
  {
   "cell_type": "markdown",
   "metadata": {},
   "source": [
    "---\n",
    "### [ 3. 숫자 함수 ]\n",
    "|함수|설명|\n",
    "|---|---|\n",
    "|`ROUND`|지정한 숫자의 특정 위치에서 반올림한 값을 반환|\n",
    "|`TRUNC`|지정한 숫자의 특정 위치에서 버림한 값을 반환|\n",
    "|`CEIL`|지정된 숫자보다 큰 정수 중 가장 작은 정수를 반환|\n",
    "|`FLOOR`|지정된 숫자보다 작은 정수 중 가장 큰 정수를 반환|\n",
    "|`MOD`|지정된 숫자를 나눈 나머지 값을 반환|\n",
    "\n",
    "#### (1) ROUND 함수 (숫자 Ver.)\n",
    "- 특정 숫자를 반올림하되 반올림할 위치를 지정할 수 있다.\n",
    "- default 값 : 소수점 첫째 자리\n",
    "- 반올림위치가 음수인 경우 : 자연수에서 반올림\n",
    "    - -1 -> 자연수 일의자리에서 반올림\n",
    "    - -2 -> 자연수 십의자리에서 반올림\n",
    "\n",
    "\n",
    "- 기본형태\n",
    "```\n",
    "ROUND([숫자(필수)], [반올림위치(선택)])\n",
    "```\n",
    "\n",
    "#### (1-1) `ROUND` 함수를 사용하여 반올림된 숫자 출력하기"
   ]
  },
  {
   "cell_type": "code",
   "execution_count": null,
   "metadata": {},
   "outputs": [],
   "source": [
    "SELECT ROUND(1234.5678) AS ROUND,\n",
    "       ROUND(1234.5678, 0) AS ROUND_0,\n",
    "       ROUND(1234.5678, 1) AS ROUND_1,\n",
    "       ROUND(1234.5678, 2) AS ROUND_2,\n",
    "       ROUND(1234.5678, -1) AS ROUND_MINUS1,\n",
    "       ROUND(1234.5678, -2) AS ROUND_MINUS2\n",
    "FROM DUAL;"
   ]
  },
  {
   "cell_type": "markdown",
   "metadata": {},
   "source": [
    "결과 :"
   ]
  },
  {
   "cell_type": "markdown",
   "metadata": {},
   "source": [
    "#### (2) TRUNC 함수 (숫자 Ver.)\n",
    "- `TRUNC` : 지정된 자리에서 숫자를 버림 처리하는 함수\n",
    "- ROUND 함수와 같은 방식으로 버림 처리할 자릿수 지정이 가능\n",
    "- default : 소수점 첫째 자리\n",
    "\n",
    "\n",
    "- 기본형태\n",
    "```\n",
    "TRUNC([숫자(필수)], [버림위치(선택)])\n",
    "```\n",
    "\n",
    "#### (2-1) `TRUNC` 함수를 사용하여 숫자 출력하기"
   ]
  },
  {
   "cell_type": "code",
   "execution_count": null,
   "metadata": {},
   "outputs": [],
   "source": [
    "SELECT TRUNC(1234.5678) AS TRUNC,\n",
    "       TRUNC(1234.5678, 0) AS TRUNC_0,\n",
    "       TRUNC(1234.5678, 1) AS TRUNC_1,\n",
    "       TRUNC(1234.5678, 2) AS TRUNC_2,\n",
    "       TRUNC(1234.5678, -1) AS TRUNC_MINUS1,\n",
    "       TRUNC(1234.5678, -2) AS TRUNC_MINUS2\n",
    "FROM DUAL;"
   ]
  },
  {
   "cell_type": "markdown",
   "metadata": {},
   "source": [
    "결과 :"
   ]
  },
  {
   "cell_type": "markdown",
   "metadata": {},
   "source": [
    "#### (3) `CEIL`, ` FLOOR` 함수\n",
    "- `CEIL`함수와 `FLOOR`함수는 각각 입력된 숫자와 가까운 큰 정수, 작은 정수를 반환하는 함수\n",
    "\n",
    "\n",
    "- 기본형태\n",
    "```\n",
    "CEIL([숫자(필수)])\n",
    "FLOOR([숫자(필수)])\n",
    "```\n",
    "\n",
    "\n",
    "#### (3-1) `CEIL`, `FLOOR` 함수로 숫자 출력하기"
   ]
  },
  {
   "cell_type": "code",
   "execution_count": null,
   "metadata": {},
   "outputs": [],
   "source": [
    "SELECT CEIL(3.14),\n",
    "       FLOOR(3.14),\n",
    "       CEIL(-3.14),\n",
    "       FLOOR(-3.14)\n",
    "FROM DUAL;"
   ]
  },
  {
   "cell_type": "markdown",
   "metadata": {},
   "source": [
    "결과 :"
   ]
  },
  {
   "cell_type": "markdown",
   "metadata": {},
   "source": [
    "#### (4) MOD 함수\n",
    "- 나머지를 구할때 쓰인다.\n",
    "- 입력 데이터가 <U>짝수</U>인지, <U>홀수</U>인지 구별하는 용도로도 사용할 수 있다.\n",
    "\n",
    "- 기본형태\n",
    "```\n",
    "MOD([나눗셈 될 숫자(필수)][나눌 숫자(필수)])\n",
    "```\n",
    "\n",
    "#### (4-1) `MOD`함수를 사용하여 나머지 값 출력하기"
   ]
  },
  {
   "cell_type": "code",
   "execution_count": null,
   "metadata": {},
   "outputs": [],
   "source": [
    "SELECT MOD(15, 6),\n",
    "       MOD(10, 2),\n",
    "       MOD(11, 2)\n",
    "FROM DUAL;"
   ]
  },
  {
   "cell_type": "markdown",
   "metadata": {},
   "source": [
    "결과 :"
   ]
  },
  {
   "cell_type": "markdown",
   "metadata": {},
   "source": [
    "---\n",
    "### [ 4. 날짜 함수 ]\n",
    "- 오라클에서 날짜 데이터, 즉 `DATE`형 데이터는 다음과 같이 간단한 연산이 가능하다.\n",
    "- (주의) 날짜 데이터끼리의 더하기 연산은 가능하지 않다.\n",
    "\n",
    "\n",
    "|연산|설명|\n",
    "|:--|:---|\n",
    "|날짜 데이터 + 숫자|날짜 데이터로 부터 숫자만큼 일수 이후의 날짜|\n",
    "|날짜 데이터 - 숫자|날짜 데이터로 부터 숫자만큼 일수 이전의 날짜|\n",
    "|날짜 데이터 - 날짜 데이터|두 날짜 데이터 간의 일수 차이|\n",
    "|날짜 데이터 + 날짜 데이터|지원X|\n",
    "\n",
    "#### (1) SYSDATE 함수\n",
    "- `SYSDATE` : 별다른 입력 데이터 없이, 오라클 데이터베이스 서버가 놓인 OS의 현재 날짜와 시간을 보여준다.\n",
    "\n",
    "#### (1-1) SYSDATE 함수를 사용하여 날짜 출력하기"
   ]
  },
  {
   "cell_type": "code",
   "execution_count": null,
   "metadata": {},
   "outputs": [],
   "source": [
    "SELECT SYSDATE AS NOW,\n",
    "       SYSDATE+1 AS TOMORROW,\n",
    "       SYSDATE-1 AS YESTERDAY\n",
    "FROM DUAL;"
   ]
  },
  {
   "cell_type": "markdown",
   "metadata": {},
   "source": [
    "결과 :"
   ]
  },
  {
   "cell_type": "markdown",
   "metadata": {},
   "source": [
    "#### (2) ADD_MONTHS 함수\n",
    "- `ADD_MONTHS` : 특정 날짜에 지정한 개월 수 이후 날짜 데이터를 반환하는 함수\n",
    "\n",
    "\n",
    "- 기본형태\n",
    "```\n",
    "ADD_MONTHS([날짜 데이터(필수)], [더할 개월 수(정수)(필수)])\n",
    "```\n",
    "\n",
    "\n",
    "#### (2-1) `SYSDATE`와 `ADD_MONTHS` 함수로 3개월 후 날짜 구하기"
   ]
  },
  {
   "cell_type": "code",
   "execution_count": null,
   "metadata": {},
   "outputs": [],
   "source": [
    "SELECT SYSDATE AS NOW,\n",
    "       ADD_MONTHS(SYSDATE, 3) AS AFTER3MONTH\n",
    "FROM DUAL;"
   ]
  },
  {
   "cell_type": "markdown",
   "metadata": {},
   "source": [
    "결과 :"
   ]
  },
  {
   "cell_type": "markdown",
   "metadata": {},
   "source": [
    "#### (2-2) 입사 10주년이 되는 사원들 데이터 출력하기\n",
    "    - `ADD_MONTHS`함수는 별로 사용되지 않을 것이라 여길 수도 있다. 하지만, 은근히 자주 사용되는 함수에 속한다.  \n",
    "       특히, 윤년 등의 이유로 복잡해질 수 있는 날짜 계산을 간단하게 만들어주기 때문이다."
   ]
  },
  {
   "cell_type": "code",
   "execution_count": null,
   "metadata": {},
   "outputs": [],
   "source": [
    "SELECT EMPNO, ENAME, HIREDATE,\n",
    "       ADD_MONTHS(SYSDATE, 120)\n",
    "FROM EMP;"
   ]
  },
  {
   "cell_type": "markdown",
   "metadata": {},
   "source": [
    "결과 :"
   ]
  },
  {
   "cell_type": "markdown",
   "metadata": {},
   "source": [
    "#### (2-3) 입사 32년 미만인 사원 출력하기"
   ]
  },
  {
   "cell_type": "code",
   "execution_count": null,
   "metadata": {},
   "outputs": [],
   "source": [
    "SELECT EMPNO, ENAME, HIREDATE\n",
    "FROM EMP\n",
    "WHERE ADD_MONTHS(SYSDATE, 384) > SYSDATE;"
   ]
  },
  {
   "cell_type": "markdown",
   "metadata": {},
   "source": [
    "결과 :"
   ]
  },
  {
   "cell_type": "markdown",
   "metadata": {},
   "source": [
    "#### (3) MONTHS_BETWEEN 함수\n",
    "- `MONTHS_BETWEEN` : 두 개의 날짜 데이터를 입력하고 두 날짜 간의 <U>개월 수 차이</U>를 구하는데 사용.\n",
    "\n",
    "\n",
    "- 기본형태\n",
    "```\n",
    "MONTHS_BETWEEN([날짜 데이터1(필수)][날짜 데이터2(필수)])\n",
    "```\n",
    "\n",
    "\n",
    "#### (3-2) HIREDATE와 `SYSDATE` 사이의 개월 수를 `MONTHS_BETWEEN` 함수로 출력하기"
   ]
  },
  {
   "cell_type": "code",
   "execution_count": null,
   "metadata": {},
   "outputs": [],
   "source": [
    "SELECT ENAME, HIREDATE, SYSDATE,\n",
    "       MONTHS_BETWEEN(HIREDATE, SYSDATE) AS MONTHS_1,\n",
    "       MONTHS_BETWEEN(SYSDATE, HIREDATE) AS MONTHS_2,\n",
    "       TRUNC(MONTHS_BETWEEN(SYSDATE, HIREDATE)) AS MONTHS_3\n",
    "FROM EMP;"
   ]
  },
  {
   "cell_type": "markdown",
   "metadata": {},
   "source": [
    "결과 :"
   ]
  },
  {
   "cell_type": "markdown",
   "metadata": {},
   "source": [
    "#### (4) NEXT_DAY, LAST_DAT 함수\n",
    "- `NEXT_DAY` : 입력한 날짜 데이터에서 <U>돌아오는 요일의 날짜</U>를 반환\n",
    "    - ex. 돌아오는 월요일의 날짜를 알고싶은 경우 :  \n",
    "    오늘이 화요일이면 다음주 월요일의 날짜를 구해줌\n",
    "    \n",
    "    - ex. 돌아오는 목요일의 날짜를 알고싶은 경우 :  \n",
    "    오늘이 화요일이면 이번주 목요일의 날짜를 구해줌\n",
    "    \n",
    "    \n",
    "    \n",
    "- `LAST_DAY` : 입력한 날짜 데이터가 <U>속한 달의 마지막 날짜</U>를 반환\n",
    "\n",
    "\n",
    "- 기본형태\n",
    "\n",
    "```\n",
    "NEXT_DAY([날짜 데이터(필수)],[요일 문자(필수)])\n",
    "```\n",
    "\n",
    "```\n",
    "LAST_DAY([날짜 데이터(필수)])\n",
    "```"
   ]
  },
  {
   "cell_type": "markdown",
   "metadata": {},
   "source": [
    "#### (4-1) `NEXT_DAY`, `LAST_DAY` 함수를 사용하여 출력"
   ]
  },
  {
   "cell_type": "code",
   "execution_count": null,
   "metadata": {},
   "outputs": [],
   "source": [
    "SELECT SYSDATE,\n",
    "       NEXT_DAY(SYSDATE, '월요일'),\n",
    "       LAST_DAY(SYSDATE)\n",
    "FROM DUAL;"
   ]
  },
  {
   "cell_type": "markdown",
   "metadata": {},
   "source": [
    "결과 :"
   ]
  },
  {
   "cell_type": "markdown",
   "metadata": {},
   "source": [
    "#### (5) ROUND, TRUNC 함수 (날짜 Ver.)\n",
    "- 숫자 데이터의 반올림, 버림에 사용되는 이 함수는 날짜 데이터를 입력 데이터로 사용할 수 있다.\n",
    "- 이때는 <U>소수점 위치 정보를 입력하지 않고</U> 반올림, 버림의 <U>기준</U>이 될 `포맷(format)`값을 지정해준다.\n",
    "\n",
    "\n",
    "- 기본형태\n",
    "\n",
    "```\n",
    "ROUND([날짜데이터(필수)],[반올림 기준 포맷])\n",
    "```\n",
    "\n",
    "```\n",
    "TRUNC([날짜데이터(필수)],[버림 기준 포맷])\n",
    "```\n",
    "\n",
    "\n",
    "- (<B>오라클</B>) 날짜 데이터를 사용할때 <U>기준 포맷값</U> :  \n",
    "![oracle1](https://user-images.githubusercontent.com/53929665/93224451-119a9380-f7ac-11ea-8391-869c4141ba7f.png)\n",
    "\n"
   ]
  },
  {
   "cell_type": "markdown",
   "metadata": {},
   "source": [
    "#### (5-1) `ROUND` 함수를 사용하여 날짜 데이터 출력하기"
   ]
  },
  {
   "cell_type": "code",
   "execution_count": null,
   "metadata": {},
   "outputs": [],
   "source": [
    "SELECT  SYSDATE,\n",
    "        ROUND(SYSDATE,'CC') AS FORMAT_CC,\n",
    "        ROUND(SYSDATE,'YYYY') AS FORMAT_YYYY,\n",
    "        ROUND(SYSDATE,'Q') AS FORMAT_Q,\n",
    "        ROUND(SYSDATE,'DDD') AS FORMAT_DDD,\n",
    "        ROUND(SYSDATE,'HH') AS FORMAT_HH\n",
    "FROM DUAL;"
   ]
  },
  {
   "cell_type": "markdown",
   "metadata": {},
   "source": [
    "결과 :\n",
    "- `CC`의 경우 : 2020년은 <U>2050년보다</U> 작아 반올림하면 2001/01/01  \n",
    "- `YYYY`의 경우 : 9월 15일은 <U>기준 7월 1일</U>보다 지났기에 반올림하면 2021/01/01   \n",
    "- `Q`의 경우 : <U>3분기의 두 번쨰 달의 16일인 8월 16일 기준으로</U> 9월 15일은 기준보다 지났기에 한달 반올림하여 2020/10/01  \n",
    "- `DDD`의 경우 : 오후 11시는 <U>낮 12시 기준으로</U> 지난 시간이기에 반올림하면 다음날인 2020/9/16  \n",
    "- `HH`의 경우 : 시간을 기준으로 <U>30분을 넘었으므로</U> 38분이기 때문에 시간을 반올림해서 00:00:00  "
   ]
  },
  {
   "cell_type": "markdown",
   "metadata": {},
   "source": [
    "#### (5-2) `TRUNC` 함수를 사용하여 날짜 데이터 출력하기"
   ]
  },
  {
   "cell_type": "code",
   "execution_count": null,
   "metadata": {},
   "outputs": [],
   "source": [
    "SELECT  SYSDATE,\n",
    "        TRUNC(SYSDATE,'CC') AS FORMAT_CC,\n",
    "        TRUNC(SYSDATE,'YYYY') AS FORMAT_YYYY,\n",
    "        TRUNC(SYSDATE,'Q') AS FORMAT_Q,\n",
    "        TRUNC(SYSDATE,'DDD') AS FORMAT_DDD,\n",
    "        TRUNC(SYSDATE,'HH') AS FORMAT_HH\n",
    "FROM DUAL;"
   ]
  },
  {
   "cell_type": "markdown",
   "metadata": {},
   "source": [
    "결과 :\n",
    "- `CC`의 경우 : 년도의 일의 자리, 십의 자리 숫자 버림\n",
    "- `YYYY`의 경우 : 연도 기준으로 월, 일 버림\n",
    "- `Q`의 경우 : 9월은 3분기에 속하므로, 3분기의 시작인 7월까지 버림\n",
    "- `HH`의 경우 : 시간을 기준으로 분 버림"
   ]
  },
  {
   "cell_type": "markdown",
   "metadata": {},
   "source": [
    "---\n",
    "### [ 5. 형 변환 함수 ]"
   ]
  }
 ],
 "metadata": {
  "kernelspec": {
   "display_name": "Python 3",
   "language": "python",
   "name": "python3"
  },
  "language_info": {
   "codemirror_mode": {
    "name": "ipython",
    "version": 3
   },
   "file_extension": ".py",
   "mimetype": "text/x-python",
   "name": "python",
   "nbconvert_exporter": "python",
   "pygments_lexer": "ipython3",
   "version": "3.7.7"
  }
 },
 "nbformat": 4,
 "nbformat_minor": 4
}
