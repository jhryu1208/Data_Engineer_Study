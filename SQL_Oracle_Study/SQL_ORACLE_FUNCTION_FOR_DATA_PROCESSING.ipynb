{
 "cells": [
  {
   "cell_type": "markdown",
   "metadata": {},
   "source": [
    "## <U>데이터 처리와 가공을 위한 오라클 함수</U>\n",
    "---\n",
    "### [ 1. 오라클 함수 ]\n",
    "#### <u>내장 함수(buit-in function)</u>\n",
    "- 오라클에서 기본으로 제공하는 함수\n",
    "\n",
    "\n",
    "- <b>단일행 함수(single-row-function)</b>\n",
    "    - 한 행당 결과가 하나씩 나오는 함수\n",
    "\n",
    "\n",
    "\n",
    "- <b>다중행 함수(multiple-row function)</b>\n",
    "    - 여러 행이 입력되어 하나의 행으로 결과가 반환되는 함수\n",
    "\n",
    "\n",
    "#### <u>정의 함수(user-defined function)</u>\n",
    "- 사용자가 필요에 의해 직접 정의한 함수"
   ]
  },
  {
   "cell_type": "markdown",
   "metadata": {},
   "source": [
    "---\n",
    "### [ 2. 문자 함수 ]\n",
    "\n",
    "|함수|설명|\n",
    "|:------:|:---|\n",
    "|`UPPER(문자열)`|괄호 안 문자 데이터를 모두 대문자로 변환하여 반환|\n",
    "|`LOWER(문자열)`|괄호 안 문자 데이터를 모두 소문자로 변환하여 반환|\n",
    "|`INITCAP(문자열)`|괄호 안 문자 데이터 중 첫 글자는 대문자로, 나머지는 소문자로 변환 후 반환|"
   ]
  },
  {
   "cell_type": "markdown",
   "metadata": {},
   "source": [
    "#### (1) UPPER, LOWER, INITCAP 함수 "
   ]
  },
  {
   "cell_type": "code",
   "execution_count": null,
   "metadata": {},
   "outputs": [],
   "source": [
    "SELECT ENAME, UPPER(ENAME), LOWER(ENAME), INITCAP(ENAME)\n",
    "FROM EMP;"
   ]
  },
  {
   "cell_type": "markdown",
   "metadata": {},
   "source": [
    "결과 :\n",
    "![2-1](https://user-images.githubusercontent.com/53929665/93022415-5267a080-f624-11ea-8832-2bfdf9fe6dd9.JPG)"
   ]
  },
  {
   "cell_type": "markdown",
   "metadata": {},
   "source": [
    "#### (1-1) `UPPER` 함수로 문자열 비교하기(사원 이름이 SCOTT인 데이터 찾기)"
   ]
  },
  {
   "cell_type": "code",
   "execution_count": null,
   "metadata": {},
   "outputs": [],
   "source": [
    "SELECT *\n",
    "FROM EMP\n",
    "WHERE UPPER(ENAME) = UPPER('scott');"
   ]
  },
  {
   "cell_type": "markdown",
   "metadata": {},
   "source": [
    "결과 :\n",
    "![2-1-1](https://user-images.githubusercontent.com/53929665/93022416-53003700-f624-11ea-8d3e-fecf2bd1bf9c.JPG)"
   ]
  },
  {
   "cell_type": "markdown",
   "metadata": {},
   "source": [
    "#### (1-2) `UPPER`함수로 문자열 비교하기(사원 이름에 SCOTT단어를 포함한 데이터찾기)"
   ]
  },
  {
   "cell_type": "code",
   "execution_count": null,
   "metadata": {},
   "outputs": [],
   "source": [
    "SELECT *\n",
    "FROM EMP\n",
    "WHERE UPPER(ENAME) LIKE UPPER('%scott%');"
   ]
  },
  {
   "cell_type": "markdown",
   "metadata": {},
   "source": [
    "결과 :\n",
    "![2-1-2](https://user-images.githubusercontent.com/53929665/93022417-5398cd80-f624-11ea-855a-9cfc2dbadcf4.JPG)\n"
   ]
  },
  {
   "cell_type": "markdown",
   "metadata": {},
   "source": [
    "---\n",
    "####  (2) LENGTH 함수 \n",
    "- `LENGTH` : 특정 문자열의 길이를 구할 때 사용한다.\n",
    "\n",
    "#### (2-1) `LENGTH`함수 사용하기\n",
    "- 선택한 열의 문자열 길이 구하기"
   ]
  },
  {
   "cell_type": "code",
   "execution_count": null,
   "metadata": {},
   "outputs": [],
   "source": [
    "SELECT ENAME, LENGTH(ENAME)\n",
    "FROM EMP;"
   ]
  },
  {
   "cell_type": "markdown",
   "metadata": {},
   "source": [
    "결과 :\n",
    "![2-2-1](https://user-images.githubusercontent.com/53929665/93022418-5398cd80-f624-11ea-87b8-d6ec23286118.JPG)"
   ]
  },
  {
   "cell_type": "markdown",
   "metadata": {},
   "source": [
    "#### (2-2)` WHERE`절에서 `LENGTH`함수 사용하기\n",
    "- 사원 이름의 길이가 5 이상인 행 출력하기"
   ]
  },
  {
   "cell_type": "code",
   "execution_count": null,
   "metadata": {},
   "outputs": [],
   "source": [
    "SELECT ENAME, LENGTH(ENAME)\n",
    "FROM EMP\n",
    "WHERE LENGTH(ENAME) >= 5;"
   ]
  },
  {
   "cell_type": "markdown",
   "metadata": {},
   "source": [
    "결과:\n",
    "![2-2-2](https://user-images.githubusercontent.com/53929665/93022419-54316400-f624-11ea-9d3c-c55c3b7bb3f7.JPG)"
   ]
  },
  {
   "cell_type": "markdown",
   "metadata": {},
   "source": [
    "#### (2-3) `LENGTH` Vs `LENGTHB` 함수\n",
    "- `LENGTHB` 함수 : LENGTH함수와 사용방법은 같지만, 문자열 데이터 길이가 아닌 바이트 수를 반환한다.\n",
    "\n",
    "\n",
    "- (참조) 한글은 한 문자당 2byte, 영어는 한 글자당 1byte"
   ]
  },
  {
   "cell_type": "code",
   "execution_count": null,
   "metadata": {},
   "outputs": [],
   "source": [
    "SELECT LENGTH('한글'), LENGTHB('한글')\n",
    "FROM DUAL;"
   ]
  },
  {
   "cell_type": "markdown",
   "metadata": {},
   "source": [
    "결과 :\n",
    "![2-2-3](https://user-images.githubusercontent.com/53929665/93022420-54316400-f624-11ea-928c-6c8b51e05551.JPG)\n"
   ]
  },
  {
   "cell_type": "markdown",
   "metadata": {},
   "source": [
    "---\n",
    "#### (3) SUBSTR 함수\n",
    "- `SUBSTR` : 문자열 중 일부를 추출할 때 사용\n",
    "\n",
    "\n",
    "- 사용방법\n",
    "    - `SUBSTR(문자열 데이터, 시작 위치, 추출 길이)` :  \n",
    "      문자열 데이터의 시작 위치부터 추출 길이만큼 추출  \n",
    "      (시작 위치가 음수) 마지막 위치부터 거슬러 올라간 위치에서 시작\n",
    "      <BR>\n",
    "      \n",
    "    - `SUBSTR(문자열 데이터, 시작 위치)` :  \n",
    "        문자열 데이터의 시작 위치부터 문자열 데이터 끝까지 추출  \n",
    "        (시작 위치가 음수) 마지막 위치부터 거슬러 올라간 위치에서 끝까지 추출"
   ]
  },
  {
   "cell_type": "markdown",
   "metadata": {},
   "source": [
    "#### (3-2) `SUBSTR` 함수 사용하기"
   ]
  },
  {
   "cell_type": "code",
   "execution_count": null,
   "metadata": {},
   "outputs": [],
   "source": [
    "SELECT JOB, SUBSTR(JOB,1,2), SUBSTR(JOB, 5)\n",
    "FROM EMP;"
   ]
  },
  {
   "cell_type": "markdown",
   "metadata": {},
   "source": [
    "결과 :\n",
    "![2-3-2](https://user-images.githubusercontent.com/53929665/93022421-54c9fa80-f624-11ea-9ade-e4c854d1f097.JPG)"
   ]
  },
  {
   "cell_type": "markdown",
   "metadata": {},
   "source": [
    "#### (3-3) `SUBSTR`함수 안에 다른 함수(`LENTH`) 함께 사용하기"
   ]
  },
  {
   "cell_type": "code",
   "execution_count": null,
   "metadata": {},
   "outputs": [],
   "source": [
    "SELECT JOB,\n",
    "       SUBSTR(JOB, -LENGTH(JOB)),\n",
    "       SUBSTR(JOB, -LENGTH(JOB), 2),\n",
    "       SUBSTR(JOB, -3)\n",
    "FROM EMP;"
   ]
  },
  {
   "cell_type": "markdown",
   "metadata": {},
   "source": [
    "결과 :\n",
    "![2-3-3](https://user-images.githubusercontent.com/53929665/93022422-54c9fa80-f624-11ea-9364-d567fe493e08.JPG)\n"
   ]
  },
  {
   "cell_type": "markdown",
   "metadata": {},
   "source": [
    "---\n",
    "#### (4) INSTR 함수\n",
    "- `INSTR` : 문자열 데이터 안에 특정 문자나 문자열이 어디에 포함되어 있는지 알고자 할 때 사용\n",
    "- `INSTR`함수는 총 4개의 입력 값을 지정할 수 있으며,  \n",
    "최소 2개의 입력값, 즉 원본 문자열 데이터와 원본 문자열에서 찾으려는 문자  \n",
    "이렇게 두 가지는 반드시 지정해야한다.\n",
    "\n",
    "\n",
    "- 기본형식\n",
    "```\n",
    "INSTR([대상 문자열 데이터(필수)],\n",
    "      [위치를 찾으려는 부분 문자(필수)],\n",
    "      [위치 찾기를 시작할 대상 문자열 데이터 위치(선택, 기본값 1)],\n",
    "      [시작 위치에서 찾으려는 문자가 몇 번째인지 지정(선택, 기본값 1)])\n",
    "```"
   ]
  },
  {
   "cell_type": "markdown",
   "metadata": {},
   "source": [
    "#### (4-1) `INSTR`함수로 문자열 데이터에서 특정 문자열 찾기"
   ]
  },
  {
   "cell_type": "code",
   "execution_count": null,
   "metadata": {},
   "outputs": [],
   "source": [
    "SELECT INSTR('HELLO, ORALCE!', 'L') AS INSTR_1,\n",
    "       INSTR('HELLO, ORACLE!', 'L', 5) AS INSTR_2,\n",
    "       INSTR('HELLO, ORACLE!', 'L', 2, 2) AS INSTR_3\n",
    "FROM DUAL;"
   ]
  },
  {
   "cell_type": "markdown",
   "metadata": {},
   "source": [
    "결과 :\n",
    "- (1) L이 세 번째 문자에서 가장 먼저 발견되므로 3!\n",
    "- (2) 검색 시작 위치인 5부터 열두 번째 문자에서 L이 가장 먼저 발견되므로 12!\n",
    "- (3) 검색 시작 위치인 2부터 <U>두 번째로 등장한 L</U>을 의미하기 때문에 4!\n",
    "![2-4-1](https://user-images.githubusercontent.com/53929665/93022423-55629100-f624-11ea-8a89-8e63c99de61d.JPG)"
   ]
  },
  {
   "cell_type": "markdown",
   "metadata": {},
   "source": [
    "#### (4-2) 특정 문자를 포함하고 있는 행 찾기 : `INSTR` VS `LIKE`\n",
    "- `INSTR` 함수로 사원 이름에 문자 S가 있는 행 구하기\n",
    "    - 만약 찾으려는 <U>문자가 문자열 데이터에 포함되어 있지 않다면</U> 위치 값이 없으므로 <U>0</U>을 반환"
   ]
  },
  {
   "cell_type": "code",
   "execution_count": null,
   "metadata": {},
   "outputs": [],
   "source": [
    "SELECT *\n",
    "FROM EMP\n",
    "WHERE INSTR(ENAME, 'S') > 0;"
   ]
  },
  {
   "cell_type": "markdown",
   "metadata": {},
   "source": [
    "- `LIKE` 함수로 사원 이름에 문자 S가 있는 행 구하기"
   ]
  },
  {
   "cell_type": "code",
   "execution_count": null,
   "metadata": {},
   "outputs": [],
   "source": [
    "SELECT *\n",
    "FROM EMP\n",
    "WHERE ENAME LIKE '%S%';"
   ]
  },
  {
   "cell_type": "markdown",
   "metadata": {},
   "source": [
    "결과 (동일) :\n",
    "![2-4-2](https://user-images.githubusercontent.com/53929665/93022424-55629100-f624-11ea-839b-4b20e10a3d13.JPG)"
   ]
  },
  {
   "cell_type": "markdown",
   "metadata": {},
   "source": [
    "---\n",
    "#### (5) REPLACE 함수\n",
    "- `REPLACE` : 특정 문자열 데이터에 포함된 문자를 다른 문자로 대체할 경우에 사용\n",
    "\n",
    "\n",
    "- 기본형식\n",
    "```\n",
    "REPLACE([문자열 데이터 또는 열이름(필수)],[찾는 문자(필수)],[대체할 문자(선택)]\n",
    "```\n",
    "\n",
    "#### (5-1) `REPLACE`함수로 문자열 안에 있는 특정 문자 바꾸기\n",
    "    - '대체할 문자'를 지정하지 않으면 '찾는 문자'가 삭제된다."
   ]
  },
  {
   "cell_type": "code",
   "execution_count": null,
   "metadata": {},
   "outputs": [],
   "source": [
    "SELECT '010-1234-5678' AS REPLACE_BEFORE,\n",
    "       REPLACE('010-1234-5678', '-', ' ') AS REPLACE_1,\n",
    "       REPLACE('010-1234-5678', '-') AS REPLACE_2\n",
    "FROM DUAL;"
   ]
  },
  {
   "cell_type": "markdown",
   "metadata": {},
   "source": [
    "결과 :\n",
    "![2-5-1](https://user-images.githubusercontent.com/53929665/93022425-55fb2780-f624-11ea-9fb3-6677c1a40002.JPG)\n"
   ]
  },
  {
   "cell_type": "markdown",
   "metadata": {},
   "source": [
    "---\n",
    "#### (6) LPAD, RPAD 함수\n",
    "- 데이터와 자릿수를 지정한 후 데이터 길이가 지정한 자릿수보다 작을 경우에 나머지 공간을 특정 문자로 채우는 함수\n",
    "- `LPAD`(Left Padding) : 남은 빈 공간을 왼쪽에 채움\n",
    "- `RPAD`(Right Padding) : 남은 빈 공간을 오른쪽에 채움\n",
    "- <u>빈 공간에 채울 문자를 지정하지 않으면</u> LPAD와 RPAD함수는 빈 공간의 자릿수만큼 <u>공백 문자(spacebar)</u>로 띄운다.\n",
    "\n",
    "\n",
    "- 기본형식\n",
    "\n",
    "```\n",
    "LPAD([문자열 데이터 또는 열이름(필수)], [데이터 자릿수(필수)], [빈 공간에 채울 문자(선택)]\n",
    "\n",
    "RPAD([문자열 데이터 또는 열이름(필수)], [데이터 자릿수(필수)], [빈 공간에 채울 문자(선택)]\n",
    "```"
   ]
  },
  {
   "cell_type": "markdown",
   "metadata": {},
   "source": [
    "#### (6-1) LPAD, RPAD 함수 사용하여 출력하기"
   ]
  },
  {
   "cell_type": "code",
   "execution_count": null,
   "metadata": {},
   "outputs": [],
   "source": [
    "SELECT 'Oracle',\n",
    "       LPAD('Oracle', 10, '#') AS LPAD_1,\n",
    "       RPAD('Oracle', 10, '*') AS RPAD_1,\n",
    "       LPAD('Oracle', 10) AS LPAD_2,\n",
    "       RPAD('Oracle', 10) AS RPAD_2\n",
    "FROM DUAL;"
   ]
  },
  {
   "cell_type": "markdown",
   "metadata": {},
   "source": [
    "결과 :\n",
    "![2-6-1](https://user-images.githubusercontent.com/53929665/93022426-55fb2780-f624-11ea-801f-1f5d2ba225e3.JPG)"
   ]
  },
  {
   "cell_type": "markdown",
   "metadata": {},
   "source": [
    "#### (6-2) 특정 문자로 자릿수 채워서 출력하기\n",
    "- `RPAD`함수를 사용하여 개인정보 뒷자리 * 표시로 출력하기"
   ]
  },
  {
   "cell_type": "code",
   "execution_count": null,
   "metadata": {},
   "outputs": [],
   "source": [
    "SELECT RPAD('971208-', 14, '*') AS RPAD_JMNO,\n",
    "       RPAD('010-3615', 13, '*') AS RPAD_PHONE\n",
    "FROM DUAL;"
   ]
  },
  {
   "cell_type": "markdown",
   "metadata": {},
   "source": [
    "결과 :\n",
    "![2-6-2](https://user-images.githubusercontent.com/53929665/93022427-5693be00-f624-11ea-8234-1ae1c4114666.JPG)"
   ]
  },
  {
   "cell_type": "markdown",
   "metadata": {},
   "source": [
    "---\n",
    "#### (7) CONCAT 함수\n",
    "- `CONCAT` : 두 개의 문자열 데이터를 하나의 데이터로 연결해 주는 역할\n",
    "- 두 개의 입력 데이터 지정을 하고 열이나 문자열 데이터 모두 지정 가능\n",
    "\n",
    "\n",
    "- 기본형식\n",
    "```\n",
    "CONCAT([문자열 데이터 또는 열이름 1], [문자열 데이터 또는 열이름 2])\n",
    "```\n",
    "\n",
    "\n",
    "- (참조)\n",
    "> `||` 연산자는 `CONCAT` 함수와 유사하게 열이나 문자열을 연결한다.\n",
    "> ```\n",
    "> SELECT EMPNO || ENAME,\n",
    ">        EMPNO || ':' || ENMAE\n",
    "> FROM...\n",
    "> ```"
   ]
  },
  {
   "cell_type": "markdown",
   "metadata": {},
   "source": [
    "#### (7-1) 두 열 사이에 콜론(:) 넣고 연결하기"
   ]
  },
  {
   "cell_type": "code",
   "execution_count": null,
   "metadata": {},
   "outputs": [],
   "source": [
    "SELECT CONCAT(EMPNO, ENAME),\n",
    "       CONCAT(EMPNO, CONCAT(':', ENAME))\n",
    "FROM EMP\n",
    "WHERE ENAME = 'SCOTT';"
   ]
  },
  {
   "cell_type": "markdown",
   "metadata": {},
   "source": [
    "결과 :\n",
    "![2-7-1](https://user-images.githubusercontent.com/53929665/93022428-5693be00-f624-11ea-96b8-ed48bad6b2f7.JPG)"
   ]
  },
  {
   "cell_type": "markdown",
   "metadata": {},
   "source": [
    "---\n",
    "#### (8) TRIM, LTRIM, RTRIM 함수\n",
    "- 문자열 데이터 내에서 특정 문자를 지우기 위해 사용\n",
    "- 원본 문자열 데이터를 제외한 나머지 데이터는 모두 생략\n",
    "- 삭제할 문자가 생략될 경우에 기본적으로 공백을 제거\n",
    "- 삭제옵션\n",
    "    - `LEADING` : 왼쪽에 있는 글자 삭제\n",
    "    - `TRAILING` : 오른쪽에 있는 글자 삭제\n",
    "    - `BOTH` : 양쪽에 있는 글자 삭제\n",
    "    \n",
    "    \n",
    "- 기본형식\n",
    "    - `TRIM`\n",
    "       ```\n",
    "       TRIM([삭제옵션(선택)][삭제할 문자(선택)] FROM [원본 문자열 데이터(필수)])\n",
    "       ```\n",
    "       - TRIM 함수의 삭제할 문자는 필수가 아니므로 지정하지 않아도 된다.\n",
    "       - 삭제할 문자가 없으면 공백이 제거된다.\n",
    "       \n",
    "       <BR>\n",
    "    - `LTRIM`\n",
    "       ```\n",
    "       LTRIM([원본 문자열 데이터(필수)], [삭제할 문자 집합(선택)]\n",
    "       ```\n",
    "       - 왼쪽의 지정 문자 삭제\n",
    "       - TRIM과 마찬가지로 삭제할 문자가 없으면 공백이 제거된다.\n",
    "    \n",
    "       <BR>\n",
    "    - `RTRIM`\n",
    "       ```\n",
    "       RTRIM([원본 문자열 데이터(필수)], [삭제할 문자 집합(선택)]\n",
    "       ```\n",
    "       - 오른쪽의 지정 문자 삭제\n",
    "       - TRIM과 마찬가지로 삭제할 문자가 없으면 공백이 제거된다."
   ]
  },
  {
   "cell_type": "markdown",
   "metadata": {},
   "source": [
    "#### (8-1) `TRIM`함수 사용(삭제할 문자가 없을 때)\n",
    "\n",
    "- `TRIM`함수로 공백 제거하여 출력"
   ]
  },
  {
   "cell_type": "code",
   "execution_count": null,
   "metadata": {},
   "outputs": [],
   "source": [
    "SELECT '_' || TRIM(' _ _Oracle_ _ ') || '_' AS TRIM,\n",
    "       '_' || TRIM(LEADING FROM ' _ _Oracle_ _ ') || '_' AS TRIM_LEADING,\n",
    "       '_' || TRIM(TRAILING FROM ' _ _Oracle_ _ ') || '_' AS TRIM_TRAILING,\n",
    "       '_' || TRIM(BOTH FROM ' _ _Oracle_ _ ') || '_' AS TRIM_BOTH\n",
    "FROM DUAL;"
   ]
  },
  {
   "cell_type": "markdown",
   "metadata": {},
   "source": [
    "결과 :\n",
    "아래 결과 테이블을 보면 '_' 와 '_'의 띄임과 붙임을 통해 TRIM함수가 어떤 함수인지 눈으로 확인 가능하다.\n",
    "![2-8-1](https://user-images.githubusercontent.com/53929665/93022429-572c5480-f624-11ea-8ff5-76c89e2183a9.JPG)"
   ]
  },
  {
   "cell_type": "markdown",
   "metadata": {},
   "source": [
    "#### (8-2) `TRIM`함수 사용하기(삭제할 문자가 있을 때)\n",
    "- `TRIM`함수로 삭제할 문자 '_' 삭제 후 출력하기"
   ]
  },
  {
   "cell_type": "code",
   "execution_count": null,
   "metadata": {},
   "outputs": [],
   "source": [
    "SELECT '_' || TRIM('_' FROM '_ _Oracle_ _') || '_' AS TRIM,\n",
    "       '_' || TRIM(LEADING '_' FROM '_ _Oracle_ _') || '_' AS TRIM_LEADING,\n",
    "       '_' || TRIM(TRAILING '_' FROM '_ _Oracle_ _') || '_' AS TRIM_TRAILING,\n",
    "       '_' || TRIM(BOTH '_' FROM '_ _Oracle_ _') || '_' AS TRIM_BOTH\n",
    "FROM DUAL; "
   ]
  },
  {
   "cell_type": "markdown",
   "metadata": {},
   "source": [
    "결과 : 잘 안보이지만, 8-2의 예제 _ _ Oracle _ _은 양쪽에 공백이 없지만, 8-1의 예제는 양쪽에 공백이 있다.\n",
    "![2-8-2](https://user-images.githubusercontent.com/53929665/93022430-572c5480-f624-11ea-99f3-b647940cef0c.JPG)\n"
   ]
  },
  {
   "cell_type": "markdown",
   "metadata": {},
   "source": [
    "#### (8-3) `TRIM`, `LTRIM`, `RTRIM` 사용하여 문자열 출력하기"
   ]
  },
  {
   "cell_type": "code",
   "execution_count": null,
   "metadata": {},
   "outputs": [],
   "source": [
    "SELECT '_' || TRIM(' _Oracle_ ') || '_' AS TRIM,\n",
    "       '_' || LTRIM(' _Oracle_ ') || '_' AS LTRIM,\n",
    "       '_' || LTRIM('<_Oracle_>', '_<') || '_' AS LTRIM_2,\n",
    "       '_' || RTRIM(' _Oracle_ ') || '_' AS RTRIM,\n",
    "       '_' || RTRIM('<_Oracle_>', '>_') || '_' AS RTRIM_2\n",
    "FROM DUAL;"
   ]
  },
  {
   "cell_type": "markdown",
   "metadata": {},
   "source": [
    "결과 : \n",
    "![2-8-3](https://user-images.githubusercontent.com/53929665/93022431-57c4eb00-f624-11ea-9fa6-606267616ca0.JPG)\n"
   ]
  }
 ],
 "metadata": {
  "kernelspec": {
   "display_name": "Python 3",
   "language": "python",
   "name": "python3"
  },
  "language_info": {
   "codemirror_mode": {
    "name": "ipython",
    "version": 3
   },
   "file_extension": ".py",
   "mimetype": "text/x-python",
   "name": "python",
   "nbconvert_exporter": "python",
   "pygments_lexer": "ipython3",
   "version": "3.7.7"
  }
 },
 "nbformat": 4,
 "nbformat_minor": 4
}
