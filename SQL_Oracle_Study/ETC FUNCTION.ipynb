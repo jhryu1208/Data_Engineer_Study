{
 "cells": [
  {
   "cell_type": "markdown",
   "metadata": {},
   "source": [
    "#### (1) EXTRACT 함수\n",
    "- `EXTRACT`함수는 단어 뜻 그대로 일자정보에서 년도, 월, 일과 같은 특정 내용을 발췌하는 함수이다.\n",
    "- 하단 Syntax에 보면 날짜정보를 가진 expr에서  \n",
    "년도/월/일/시간/분/초 등을 추출해 낼 수 있다.\n",
    "<img width=\"398\" alt=\"EXTRACT0\" src=\"https://user-images.githubusercontent.com/53929665/95158922-bfabc300-07d7-11eb-866f-d826e5f0ac49.PNG\">\n",
    "\n",
    "> YEAR : 년도  \n",
    "> MONTH : 월  \n",
    "> DAY : 일\n",
    "> HOUR : 시간  \n",
    "> MINUTE : 분  \n",
    "> SECOND : 초\n",
    "> TIMEZONE_HOUR : TIMEZONE형의 시간  \n",
    "> TIMEZONE_MINUTE : TIMEZONE형의 분  \n",
    "> TIMEZONE_REGION : TIMEZONE의 지역  \n",
    "> TIMEZONE_ABBR : TIMEZONE 지역에 대한 약어\n",
    "\n",
    "#### (1-1) `EXTRACT`함수 유의점\n",
    "- YEAR/MONTH/DAY를 추출할 때는 `expr`에 DATE형이나, TIMESTAMP형 등 어떤 값이 와도 되지만,  \n",
    "- HOUR/MINUTE/SECOND 등의 시간정보가 필요할때는 꼭 TIMESTAMP형이 와야한다.  \n",
    "- (이유 : TIMESTAMP형에는 시간정보가 항상 있지만, DATE형에는 시간정보가 없을 수도 있다.)\n",
    "- 앞에 TIMEZONE이 붙은 TIMEZONE_HOUR, TIMEZONE_MINUTE, TIMEZONE_REGION, TIMEZONE_ABBR을 추출하기 위해서는  \n",
    "`expr`에 `TIMESTAMP WITH TIMEZONE`이나 `TIMESTAMP WITH LOCAL TIMEZONE`형이 와야된다는 것이다.\n",
    "    \n",
    "    \n",
    "#### (1-2) `EXTRACT`함수 사용예제\n",
    "- `SYSDATE`에서 년도/월/일 추출\n",
    "\n",
    "\n",
    "<img width=\"366\" alt=\"EXTRACT1\" src=\"https://user-images.githubusercontent.com/53929665/95158926-c0dcf000-07d7-11eb-9d6f-b43142d60618.PNG\">\n",
    "\n",
    "\n",
    "- `SYSDATE`에서 시간/분/초 추출 (오류)\n",
    "    - 이유 : SYSDATE는 DATE형이기 때문에 시간이 있을수도 있고 없을 수도 있다.\n",
    "    \n",
    "    \n",
    "<img width=\"376\" alt=\"EXTRACT2\" src=\"https://user-images.githubusercontent.com/53929665/95159295-a9eacd80-07d8-11eb-8ecb-c3be3b389f45.PNG\">\n",
    "    \n",
    "    \n",
    "- `SYSTIMESTAMP`에서 시간/분/초 추출\n",
    "    - SYSTIMESTAMP에는 시간/분/초 정보가 항상 있기때문에 아래와 같이 추출이 가능하다.\n",
    "    - 특정 시간의 경우 TIMESTAMP를 이용하여 밀리세컨즈까지 지정할 수 있다.  \n",
    "    ex) TIMESTAMP '2018-10-04 11:21:22'\n",
    "     \n",
    "> 하단의 예제에서는 ISO기준시간이 출력된다. 시간에 관한 추출에 관해서는 더 조사해봐야겠다.  \n",
    "> 하지만, 나라별 표준시를 더할 경우 원하는 시간이 추출이 되기는 한다.  \n",
    "> ex) EXTRACT(HOUR FROM SYSTIMESTAMP) + 9 AS SYS_HOUR\n",
    "\n",
    "\n",
    "<img width=\"411\" alt=\"EXTRACT3\" src=\"https://user-images.githubusercontent.com/53929665/95159299-ab1bfa80-07d8-11eb-8811-9ab4e7a6ee8d.PNG\">\n",
    "\n",
    "\n",
    "- TIMEZONE과 관련된 값 추출\n",
    "    - 아직 이해 잘못함\n",
    "    \n",
    "    \n",
    "<img width=\"466\" alt=\"EXTRACT4\" src=\"https://user-images.githubusercontent.com/53929665/95161379-f258ba00-07dd-11eb-9052-5d60bddcf6fd.PNG\">\n",
    "\n"
   ]
  },
  {
   "cell_type": "markdown",
   "metadata": {},
   "source": [
    "#### (2) LEVEL 누적계층\n",
    "- `CONNECT BY LEVEL <= 변수`\n",
    "    - 1부터 변수까지 1씩 루프를 돌린다. (<=,< 사용가능)\n",
    "    \n",
    "###"
   ]
  }
 ],
 "metadata": {
  "kernelspec": {
   "display_name": "Python 3",
   "language": "python",
   "name": "python3"
  },
  "language_info": {
   "codemirror_mode": {
    "name": "ipython",
    "version": 3
   },
   "file_extension": ".py",
   "mimetype": "text/x-python",
   "name": "python",
   "nbconvert_exporter": "python",
   "pygments_lexer": "ipython3",
   "version": "3.8.3"
  }
 },
 "nbformat": 4,
 "nbformat_minor": 4
}
