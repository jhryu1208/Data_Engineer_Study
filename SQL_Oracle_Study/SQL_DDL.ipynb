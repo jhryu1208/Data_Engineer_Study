{
 "cells": [
  {
   "cell_type": "markdown",
   "metadata": {},
   "source": [
    "## [ 데이터 정의어 ]\n",
    "---\n",
    "### [ 1. 객체를 생성, 변경, 삭제하는 데이터 정의어 ]\n",
    "- `데이터 정의어(DDL : Data Definition Language)` :  \n",
    "데이터베이스 데이터를 보관하고 관리하기 위해 제공되는  \n",
    "여러 객체(object)의 생성/변경/삭제 관련 기능을 수행한다.\n",
    "\n",
    "#### (1) 데이터 정의어를 사용할 때 유의점\n",
    "- `DDL`은 `DML`과 달리 명령어를 수행하자마자 데이터베이스에 수행한 내용이 바로 반영된다.\n",
    "    - 즉, DDL를 실행하면 자동으로 `COMMIT`되기 때문에  \n",
    "    이전에 사용한 DML은 영구히 데이터베이스에 반영된다.\n",
    "    - 따라서, `ROLLBACK`을 통한 실행 취소가 불가능하다.\n",
    "\n",
    "\n",
    "- DDL의 종류\n",
    "    - 객체를 생성하는 `CREATE`\n",
    "    - 생성된 객체를 변경하는 `ALTER`\n",
    "    - 객체를 삭제하는 `DROP`"
   ]
  },
  {
   "cell_type": "markdown",
   "metadata": {},
   "source": [
    "---\n",
    "### [ 2. 테이블을 생성하는 CREATE ]\n",
    "- `CREATE`문 : 오라클 데이터베이스 객체를 생성하는 데 사용하는 명령어\n",
    "\n",
    "\n",
    "- 기본형식\n",
    "```SQL\n",
    "CREATE TABLE 소유 계정, 테이블 이름(\n",
    "    열1 이름 열1 자료형,\n",
    "    열2 이름 열2 자료형,\n",
    "    ...\n",
    "    열n 이름 열n 자료형\n",
    ");\n",
    "```\n",
    "- 위의 기본형식에서 [소유 계정]의 경우 생략이 가능하다  \n",
    "계정 이름을 생략하고 `CREATE`명령어를 사용하면  \n",
    "현재 접속해 있는 계정 소유의 테이블이 만들어진다.\n",
    "\n",
    "\n",
    "- `테이블 이름 생성 규칙`\n",
    "    - 1. 테이블의 이름은 문자로 시작해야 한다 (한글도 가능하며 숫자는 X)\n",
    "    - 2. 테이블 이름은 30byte 이하여야 한다. (즉, 영어는 30자, 한글은 15자)\n",
    "    - 3. 같은 사용자 소유의 테이블 이름은 중복될 수 없다.\n",
    "    - 4. 테이블 이름은 영문자, 숫자, 특수문자를 사용할 수 있다.\n",
    "    - 5. SQL키워드는 테이블 이름으로 사용할 수 없다.\n",
    "\n",
    "\n",
    "- `열 이름 생성 규칙`\n",
    "    - 1. 열 이름은 문자로 시작해야 한다.\n",
    "    - 2. 열 이름은 30bye 이하여야 한다.\n",
    "    - 3. 한 테이블의 열 이름은 중복될 수 없다.\n",
    "    - 4. 열 이름은 영문자, 숫자, 특수 문자를 사용할 수 있다.\n",
    "    - 5. SQL키워드는 열 이름으로 사용할 수 없다.\n",
    "    \n",
    "    \n",
    "#### (1) 자료형을 각각 정의하여 새 테이블 생성하기"
   ]
  },
  {
   "cell_type": "code",
   "execution_count": null,
   "metadata": {},
   "outputs": [],
   "source": [
    "--- 12-1\n",
    "CREATE TABLE EMP_DDL(\n",
    "    EMPNO       NUMBER(4),\n",
    "    ENAME       VARCHAR2(10),\n",
    "    JOB         VARCHAR2(10),\n",
    "    MGR         NUMBER(4),\n",
    "    HIREDATE    DATE,\n",
    "    SAL         NUMBER(7,2),\n",
    "    COM         NUMBER(7,2),\n",
    "    DEPTNO      NUMBER(2)\n",
    ");\n",
    "\n",
    "DESC EMP_DDL;"
   ]
  },
  {
   "cell_type": "markdown",
   "metadata": {},
   "source": [
    "결과 :\n",
    "- 이때 `NUMBER(7,2)`는 소수점 이하 두 자리 숫자를 포함한 7자리 숫자를 의미한다.\n",
    "![2-1](https://user-images.githubusercontent.com/53929665/94366322-6de9a580-0112-11eb-93e7-e8535a2d556b.JPG)"
   ]
  },
  {
   "cell_type": "markdown",
   "metadata": {},
   "source": [
    "#### (2) 기존 테이블 열 구조와 데이터를 복사하여 새 테이블 생성하기\n",
    "- 특정 테이블과 같은 열 구조로 테이블을 만들 때는 위의 방식보다  \n",
    "서브쿼리를 활용하여 테이블을 생성하는 방법을 많이 사용한다."
   ]
  },
  {
   "cell_type": "code",
   "execution_count": null,
   "metadata": {},
   "outputs": [],
   "source": [
    "--- 12-2\n",
    "CREATE TABLE DEPT_DDL\n",
    "    AS SELECT * FROM DEPT;\n",
    "\n",
    "DESC DEPT_DDL;"
   ]
  },
  {
   "cell_type": "markdown",
   "metadata": {},
   "source": [
    "결과 :\n",
    "\n",
    "![2-2](https://user-images.githubusercontent.com/53929665/94366323-6f1ad280-0112-11eb-954d-e2531787ae2e.JPG)"
   ]
  },
  {
   "cell_type": "markdown",
   "metadata": {},
   "source": [
    "#### (3) 기존 테이블 열 구조와 일부 데이터만 복사하여 새 테이블 생성하기\n",
    "- 특정 테이블과 열 구조는 같되  \n",
    "테이블 전체 데이터가 아닌 일부 데이터만 복사하여 테이블을 만들어야 한다면  \n",
    "서브쿼리에 `WHERE`절을 사용하여 생성 테이블에 저장될 데이터를  \n",
    "조건식으로 지정할 수 있다."
   ]
  },
  {
   "cell_type": "code",
   "execution_count": null,
   "metadata": {},
   "outputs": [],
   "source": [
    "--- 12-4\n",
    "CREATE TABLE EMP_DDL_30\n",
    "    AS SELECT * FROM EMP WHERE DEPTNO = 30;\n",
    "    \n",
    "SELECT * FROM EMP_DDL_30;"
   ]
  },
  {
   "cell_type": "markdown",
   "metadata": {},
   "source": [
    "결과 :\n",
    "\n",
    "![2-3](https://user-images.githubusercontent.com/53929665/94366324-6f1ad280-0112-11eb-9099-c7bf14860ca1.JPG)"
   ]
  },
  {
   "cell_type": "markdown",
   "metadata": {},
   "source": [
    "#### (4) 기존 테이블의 열 구조만 복사하여 새 테이블 생성하기\n",
    "- 특정 테이블과 열 구성이 같되 저장 데이터가 없는 빈 테이블을 생성하려면  \n",
    "`WHERE`절 조건식의 결과 값이 언제나 `FALSE`가 나오는 방법을 사용한다."
   ]
  },
  {
   "cell_type": "code",
   "execution_count": null,
   "metadata": {},
   "outputs": [],
   "source": [
    "--- 12-5\n",
    "CREATE TABLE EMPDEPT_DDL\n",
    "    AS SELECT   E.EMPNO, E.ENAME, E.JOB, E.MGR, E.HIREDATE,\n",
    "                E.SAL, E.COMM, D.DEPTNO, D.DNAME, D.LOC\n",
    "            FROM EMP E, DEPT D\n",
    "            WHERE 1<>1;\n",
    "            \n",
    "SELECT * FROM EMPDEPT_DDL;"
   ]
  },
  {
   "cell_type": "markdown",
   "metadata": {},
   "source": [
    "결과 :\n",
    "\n",
    "![2-4](https://user-images.githubusercontent.com/53929665/94366325-6fb36900-0112-11eb-90f1-464bf4691ab8.JPG)"
   ]
  },
  {
   "cell_type": "markdown",
   "metadata": {},
   "source": [
    "---\n",
    "### [ 3. 테이블을 변경하는 ALTER ]\n",
    "- `ALTER`명령어 :  \n",
    "이미 생성된 오라클 데이터베이스 객체를 변경할 때 사용한다.  \n",
    "즉, 테이블에 새 열을 추가/삭제, 자료형 변경 등 테이블 구조변경과 관련된 기능을 수행\n",
    "\n",
    "#### (1) 테이블에 열 추가하는 ADD\n",
    "- `ADD`키워드 (in `ALTER`) :  \n",
    "추가할 열 이름과 자료형을 명시하면 테이블에 새 열을 추가 시킬 수 있다.\n",
    "\n",
    "\n",
    "- 기본형태\n",
    "```SQL\n",
    "ALTER TABLE 변경할 테이블\n",
    "    ADD 열 이름 자료형;\n",
    "```"
   ]
  },
  {
   "cell_type": "code",
   "execution_count": null,
   "metadata": {},
   "outputs": [],
   "source": [
    "--- 12-7\n",
    "ALTER TABLE EMP_ALTER\n",
    "    ADD HP VARCHAR2(20);\n",
    "\n",
    "SELECT * FROM EMP_ALTER;"
   ]
  },
  {
   "cell_type": "markdown",
   "metadata": {},
   "source": [
    "결과 : HP열이 추가되었다.\n",
    "\n",
    "![3-1](https://user-images.githubusercontent.com/53929665/94366688-d76ab380-0114-11eb-94e8-83a169283c0e.JPG)"
   ]
  },
  {
   "cell_type": "markdown",
   "metadata": {},
   "source": [
    "#### (2) 열 이름을 변경하는 RENAME\n",
    "- `RENAME`키워드 (in `ALTER`) :  \n",
    "테이블의 열 이름을 변경할 수 있다.\n",
    "\n",
    "\n",
    "- 기본형태\n",
    "```SQL\n",
    "ALTER TABLE 변경할 테이블\n",
    "    RENAME COLUMN [열 이름(변경 전)] TO [열 이름(변경 후)];\n",
    "```"
   ]
  },
  {
   "cell_type": "code",
   "execution_count": null,
   "metadata": {},
   "outputs": [],
   "source": [
    "--- 12-8\n",
    "ALTER TABLE EMP_ALTER\n",
    "    RENAME COLUMN HP TO TEL;\n",
    "\n",
    "SELECT * FROM EMP_ALTER;"
   ]
  },
  {
   "cell_type": "markdown",
   "metadata": {},
   "source": [
    "결과 : HP 열의 이름이 TEL로 바뀌었다.\n",
    "\n",
    "![3-2](https://user-images.githubusercontent.com/53929665/94366689-d89be080-0114-11eb-81b2-5dae9d703d56.JPG)"
   ]
  },
  {
   "cell_type": "markdown",
   "metadata": {},
   "source": [
    "#### (3) 열의 자료형을 변경하는 MODFIY\n",
    "- `MODIFY`키워드 (in `ALTER`) :  \n",
    "테이블의 특정 열의 자료형이나 길이를 변경할 때 사용\n",
    "\n",
    "\n",
    "- 기본형태\n",
    "```SQL\n",
    "ALTER TABLE 변경할 테이블\n",
    "    MODIFY [변경할 열 이름] [변경된 자료형]\n",
    "```\n"
   ]
  },
  {
   "cell_type": "code",
   "execution_count": null,
   "metadata": {},
   "outputs": [],
   "source": [
    "--- 12-9\n",
    "ALTER TABLE EMP_ALTER\n",
    "    MODIFY EMPNO NUMBER(5);\n",
    "\n",
    "DESC EMP_ALTER;"
   ]
  },
  {
   "cell_type": "markdown",
   "metadata": {},
   "source": [
    "결과 : 최대 숫자 4자리에서 5자리로 바뀌었다.\n",
    "\n",
    "![3-3](https://user-images.githubusercontent.com/53929665/94366690-d89be080-0114-11eb-98d6-e96521fdeab6.JPG)"
   ]
  },
  {
   "cell_type": "markdown",
   "metadata": {},
   "source": [
    "#### (4) 특정 열을 삭제할 때 사용하는 DROP\n",
    "- `DROP`키워드 (in `ALTER`) :  \n",
    "테이블의 특정 열을 삭제할 때 사용\n",
    "\n",
    "\n",
    "- 열을 삭제하면 해당 열의 데이터도 함께 삭제되므로 신중하게 사용해야 한다.\n",
    "\n",
    "\n",
    "- 기본형태\n",
    "```SQL\n",
    "ALTER TABLE 변경할 테이블\n",
    "    DROP COLUMN [제거할 열 이름];\n",
    "```"
   ]
  },
  {
   "cell_type": "code",
   "execution_count": null,
   "metadata": {},
   "outputs": [],
   "source": [
    "--- 12-10\n",
    "ALTER TABLE EMP_ALTER\n",
    "    DROP COLUMN TEL;\n",
    "   \n",
    "SELECT * FROM EMP_ALTER;"
   ]
  },
  {
   "cell_type": "markdown",
   "metadata": {},
   "source": [
    "결과 : TEL 열이 제거됨\n",
    "\n",
    "![3-4](https://user-images.githubusercontent.com/53929665/94366691-d9347700-0114-11eb-9b61-cb8b85197640.JPG)"
   ]
  },
  {
   "cell_type": "markdown",
   "metadata": {},
   "source": [
    "---\n",
    "### [ 4. 테이블 이름을 변경하는 RENAME ]\n",
    "- `RENAME`명령어 : 테이블의 이름을 변경할 때 사용\n",
    "\n",
    "\n",
    "- 기본형태\n",
    "```SQL\n",
    "RENAME [변경할 테이블 이름] TO [변경된 테이블 이름];\n",
    "```"
   ]
  },
  {
   "cell_type": "code",
   "execution_count": null,
   "metadata": {},
   "outputs": [],
   "source": [
    "--- 12-11\n",
    "RENAME EMP_ALTER TO EMP_RENAME;\n",
    "\n",
    "SELECT * FROM EMP_RENAME;"
   ]
  },
  {
   "cell_type": "markdown",
   "metadata": {},
   "source": [
    "결과 : 앞에서 생성한 EMP_ALTER테이블의 이름이 EMP_RENAME으로 변경됨\n",
    "![4(2)](https://user-images.githubusercontent.com/53929665/94369713-6c29dd00-0126-11eb-9f3a-1abcbf7ef581.JPG)"
   ]
  },
  {
   "cell_type": "markdown",
   "metadata": {},
   "source": [
    "- 만약 바뀌기 전의 테이블 이름을 사용시 아래와 같은 오류 메시지창이 출력된다."
   ]
  },
  {
   "cell_type": "code",
   "execution_count": null,
   "metadata": {},
   "outputs": [],
   "source": [
    "DESC EMP_ALTER;"
   ]
  },
  {
   "cell_type": "markdown",
   "metadata": {},
   "source": [
    "![4(1)](https://user-images.githubusercontent.com/53929665/94369709-6b914680-0126-11eb-9a70-dd3352cf48cc.JPG)"
   ]
  },
  {
   "cell_type": "markdown",
   "metadata": {},
   "source": [
    "---\n",
    "### [ 5. 테이블의 데이터를 삭제하는 TRUNCATE ]\n",
    "- `TRUNCATE`명령어 : 특정 테이블의 모든 데이터를 삭제한다.\n",
    "\n",
    "- 데이터만 삭제하므로 테이블 구조에는 영향을 주지 않는다.\n",
    "\n",
    "\n",
    "- (주의)  \n",
    "`WHERE`절을 명시하지 않은 `DELETE`문 또한 테이블의 데이터 삭제가 가능하다.  \n",
    "하지만, ☑(`TRUNCATE`는 DDL에 속하기 때문에 ROLLBACK이 되지 않는다는 점)에서 \n",
    "`DELETE`문과 다르다. 즉 삭제 이후 복구할 수 없다.\n",
    "\n",
    "\n",
    "- 기본형태\n",
    "```SQL\n",
    "TRUNCATE TABLE [데이터를 삭제할 테이블 이름];\n",
    "```"
   ]
  },
  {
   "cell_type": "code",
   "execution_count": null,
   "metadata": {},
   "outputs": [],
   "source": [
    "--- 12-12\n",
    "TRUNCATE TABLE EMP_RENAME;\n",
    "\n",
    "SELECT * FROM EMP_RENAME;"
   ]
  },
  {
   "cell_type": "markdown",
   "metadata": {},
   "source": [
    "결과 : 테이블 구조를 제외한 데이터가 삭제되었다.\n",
    "![5](https://user-images.githubusercontent.com/53929665/94369804-dcd0f980-0126-11eb-9c19-b41af199b93d.JPG)\n"
   ]
  },
  {
   "cell_type": "markdown",
   "metadata": {},
   "source": [
    "---\n",
    "### [ 6. 테이블을 삭제하는 DROP ]\n",
    "- `DROP`명령어 : 데이터베이스 객체를 삭제하는 데 사용한다.\n",
    "- 테이블이 삭제되므로 테이블에 저장된 데이터도 모두 삭제된다."
   ]
  },
  {
   "cell_type": "code",
   "execution_count": null,
   "metadata": {},
   "outputs": [],
   "source": [
    "--- 12-13\n",
    "DROP TABLE EMP_RENAME;"
   ]
  },
  {
   "cell_type": "markdown",
   "metadata": {},
   "source": [
    "결과 : 테이블이 삭제되어 EMP_RENAME 테이블을 사용할 수 없다."
   ]
  },
  {
   "cell_type": "code",
   "execution_count": null,
   "metadata": {},
   "outputs": [],
   "source": [
    "DESC EMP_RENAME;"
   ]
  },
  {
   "cell_type": "markdown",
   "metadata": {},
   "source": [
    "![6](https://user-images.githubusercontent.com/53929665/94369888-579a1480-0127-11eb-9899-5c23c6d94ef9.JPG)\n"
   ]
  }
 ],
 "metadata": {
  "kernelspec": {
   "display_name": "Python 3",
   "language": "python",
   "name": "python3"
  },
  "language_info": {
   "codemirror_mode": {
    "name": "ipython",
    "version": 3
   },
   "file_extension": ".py",
   "mimetype": "text/x-python",
   "name": "python",
   "nbconvert_exporter": "python",
   "pygments_lexer": "ipython3",
   "version": "3.7.7"
  }
 },
 "nbformat": 4,
 "nbformat_minor": 4
}
