{
 "cells": [
  {
   "cell_type": "markdown",
   "metadata": {},
   "source": [
    "## SQL_JOIN"
   ]
  },
  {
   "cell_type": "markdown",
   "metadata": {},
   "source": [
    "---\n",
    "### [ 1. JOIN ]\n",
    "\n",
    "#### (1) UNION 집합 연산자와 JOIN의 차이점\n",
    "- 집합연산자 : 집합연산자를 사용한 결과는 두 개 이상 SELECT문의 결과 값을 '세로'로 연결한 것\n",
    "- JOIN : 조인을 사용한 결과는 두 개 이상의 테이블 데이터를 '가로'로 연결한 것\n",
    "\n",
    "#### (2) 여러 테이블을 사용할 때의 FROM절\n",
    "- SELECT절의 여러 열을 구분할 때와 마찬가지로 FROM절에 여러 테이블을 명시할 때 쉼표(,)를 구문자로 사용하여 지정한다.\n",
    "```\n",
    "SELECT\n",
    "    FROM 테이블1, 테이블2, ..., 테이블N\n",
    "```\n",
    "\n",
    "#### (2-1) `FROM`절에 여러 테이블 선언하기\n",
    "- (참고) SCOTT 계정 소유의 EMP 테이블에는 사원 정보가 저장되어 있고, DEPT 테이블에는 부서 정보가 저장되어 있다."
   ]
  },
  {
   "cell_type": "code",
   "execution_count": null,
   "metadata": {},
   "outputs": [],
   "source": [
    "--- 8-1\n",
    "SELECT *\n",
    "    FROM EMP, DEPT\n",
    "    ORDER BY EMPNO;"
   ]
  },
  {
   "cell_type": "markdown",
   "metadata": {},
   "source": [
    "결과 :\n",
    "- 위와 같이 EMP 테이블과 DEPT 테이블을 FROM절에 함께 명시하면,  \n",
    "FROM 절에 명시한 각 테이블을 구성하는 행이 ☑(모든 경우의 수로 조합)되어 출력되기에  \n",
    "생각보다 많은 양의 데이터가 출력된다.\n",
    "\n",
    "- 다음 결과에서 볼 수 있듯이, EMP 테이블의 14개 행 하나하나에 DEPT 테이블에 저장된 4개 행이 가로로 조합되어 출력된다. (TOTAL 행 수 = 14 * 4 = 56개)\n",
    "\n",
    "![1-2-1](https://user-images.githubusercontent.com/53929665/93772483-d5f34400-fc59-11ea-904a-170f01163720.JPG)"
   ]
  },
  {
   "cell_type": "markdown",
   "metadata": {},
   "source": [
    "#### (3) JOIN 조건이 없을 때의 문제점\n",
    "- 위와 같이 조인을 통한 출력은 결과로 나올 수 있는 모든 행을 조합하기 떄문에 사원데이터와 부서 데이터가 정확히 맞아떨어지지 않는 데이터도 함께 출력된다.  \n",
    "    - 위의 예시에서는 DEPTNO 20인 SMITH에 DEPT테이블의 DEPTNO 40, 30, 10의 관련없는 데이터가 같이 관계지어 출력됨  \n",
    "    (DEPT 테이블에서 DEPTNO뒤에 _1이 붙는건 중복을 피하기 위함)\n",
    "\n",
    "\n",
    "☑ 따라서, \n",
    ">어떤 가로로 정확히 연결해야 하는지의 기준은 데이터베이스가 아닌 SQL문을 작성하는 프로그래머가 정해 주어야한다.\n",
    "\n",
    "- 위의 예시에서는  \n",
    "서로 다른 테이블인 EMP 테이블과 DEPT 테이블에 같은 이름의 DEPTNO열을 구별하는 방법이 필요하다.\n",
    "\n",
    "☑ 이때, 사용하는 방식은 열 앞에 테이블 이름을 명시하여 구분하는 방법이다.  \n",
    "\n",
    "\n",
    ">테이블 이름.열 이름\n",
    "\n",
    "☑ JOIN할때, 열이름 표기시 테이블이름을 적는 습관을 들이자\n",
    "#### (3-1) 열 이름을 비교하는 조건식으로 조인하기"
   ]
  },
  {
   "cell_type": "code",
   "execution_count": null,
   "metadata": {},
   "outputs": [],
   "source": [
    "--- 8-2\n",
    "SELECT *\n",
    "    FROM EMP, DEPT\n",
    "    WHERE EMP.DEPTNO = DEPT.DEPTNO\n",
    "    ORDER BY ENAME;"
   ]
  },
  {
   "cell_type": "markdown",
   "metadata": {},
   "source": [
    "결과 :\n",
    "\n",
    "- 결과는 두 테이블의 DEPTNO 열 값이 같은 14개 행만 출력된다.\n",
    "- 그리고, 각 행별 부서 정보도 정확하게 연결되었음을 확인할 수 있다.\n",
    "- `WHERE`절!!!!!!!!!!!\n",
    "\n",
    "![1-3-1](https://user-images.githubusercontent.com/53929665/93772494-d7247100-fc59-11ea-9d8e-d92ac4c89e83.JPG)\n"
   ]
  },
  {
   "cell_type": "markdown",
   "metadata": {},
   "source": [
    "#### (4) 테이블의 별칭 설정\n",
    "- `FROM`절에 지정한 테이블에는 SELECT절의 열에 사용한 것 처럼 별칭을 지정할 수 있다.\n",
    "\n",
    "\n",
    "- 기본형식 : 명시한 테이블 이름에 ☑(한 칸 띄운 후)에 지정\n",
    "\n",
    "```\n",
    "FROM 테이블 이름1 별칭1, 테이블 이름2 별칭2, ...\n",
    "```\n"
   ]
  },
  {
   "cell_type": "markdown",
   "metadata": {},
   "source": [
    "#### (4-1) 테이블 이름을 별칭으로 표현하기"
   ]
  },
  {
   "cell_type": "code",
   "execution_count": null,
   "metadata": {},
   "outputs": [],
   "source": [
    "--- 8-3\n",
    "SELECT *\n",
    "    FROM EMP E, DEPT D\n",
    "    WHERE E.DEPTNO = D.DEPTNO\n",
    "    ORDER BY ENAME;"
   ]
  },
  {
   "cell_type": "markdown",
   "metadata": {},
   "source": [
    "결과 : (1-3-1)예제와 동일\n",
    "\n",
    "- 별칭으로 표현하면 열의 명시방법을 사용할 때 별칭을 사용할 수 있다."
   ]
  },
  {
   "cell_type": "markdown",
   "metadata": {},
   "source": [
    "---\n",
    "### [ 2. JOIN 종류 ]\n",
    "\n",
    "#### (1) 등가 조인\n",
    "- 테이블을 연결한 후에 출력 행을 각 테이블의 특정 열에 일치한 데이터를 기준으로 선정하는 방식 (위에서 본 예제와 동일한 방법)\n",
    "\n",
    "\n",
    "- '내부 조인(inner join)' 또는 '단순 조인(simple join)'으로 부르기도함 \n",
    "\n",
    "\n",
    "#### (1-2) 여러 테이블의 열 이름이 같을 때 유의점\n",
    "- 등가 조인을 사용할 때 조인 조건이 되는 각 테이블의 열 이름이 같을 경우에 해당 열 이름을 테이블 구분 없이 명시하면 다음과 같은 오류가 발생한다."
   ]
  },
  {
   "cell_type": "code",
   "execution_count": null,
   "metadata": {},
   "outputs": [],
   "source": [
    "--- 8-4\n",
    "SELECT EMPNO, ENAME, DEPTNO, DNAME, LOC\n",
    "    FROM EMP E, DEPT D\n",
    "    WHERE E.DEPTNO = D.DEPTNO;"
   ]
  },
  {
   "cell_type": "markdown",
   "metadata": {},
   "source": [
    "결과 : 두 테이블 모두 가지고 있는 열 이름인 DEPTNO를 SELECT에 명시해서 발생한 오류\n",
    "\n",
    "![2-1-2(1)](https://user-images.githubusercontent.com/53929665/93792788-efec5100-fc70-11ea-8f1e-8b638194f164.JPG)\n"
   ]
  },
  {
   "cell_type": "markdown",
   "metadata": {},
   "source": [
    "- 따라서, DEPTNO 열은 두 테이블에 모두 존재하는 열이므로 어느 테이블에 속해 있는 열인지 반드시 명시해야한다."
   ]
  },
  {
   "cell_type": "code",
   "execution_count": null,
   "metadata": {},
   "outputs": [],
   "source": [
    "SELECT EMPNO, ENAME, D.DEPTNO, DNAME, LOC\n",
    "    FROM EMP E, DEPT D\n",
    "    WHERE E.DEPTNO = D.DEPTNO;"
   ]
  },
  {
   "cell_type": "markdown",
   "metadata": {},
   "source": [
    "결과 :\n",
    "\n",
    "![2-1-2(2)](https://user-images.githubusercontent.com/53929665/93792790-f084e780-fc70-11ea-8b4c-0c4c4ee9c3f3.JPG)\n"
   ]
  },
  {
   "cell_type": "markdown",
   "metadata": {},
   "source": [
    "#### (1-3) `WHERE`절에 조건식 추가하여 출력 범위 설정하기\n",
    "- `WHERE`절에 추가로 조건식 넣어 출력하기"
   ]
  },
  {
   "cell_type": "code",
   "execution_count": null,
   "metadata": {},
   "outputs": [],
   "source": [
    "--- 8-6\n",
    "SELECT EMPNO, ENAME, SAL, D.DEPTNO, DNAME, LOC\n",
    "    FROM EMP E, DEPT D\n",
    "    WHERE E.DEPTNO = D.DEPTNO\n",
    "        AND SAL >= 3000; "
   ]
  },
  {
   "cell_type": "markdown",
   "metadata": {},
   "source": [
    "결과 :\n",
    "\n",
    "![2-1-3](https://user-images.githubusercontent.com/53929665/93792639-c16e7600-fc70-11ea-9cfa-920a289c8391.JPG)"
   ]
  },
  {
   "cell_type": "markdown",
   "metadata": {},
   "source": [
    "#### (1-4) JOIN 테이블 개수와 조건식 개수의 관계\n",
    "> For 데카르트 곱 방지 조건식의 갯수 = 조인 테이블 수 - 1\n",
    "\n",
    "ex1) A,B 테이블을 조인할 경우 최소 하나의 조건식이 필요하다.  \n",
    "\n",
    "\n",
    "ex2) A,B,C 테이블을 조인할 경우 A와 B를 묶는 조건식 하나, A와 B가 연결된 상태에서 C를 연결해 줄 조건식(or 열) 하나가 추가로 필요하므로, 최소 두개의 조건식이 필요하다."
   ]
  },
  {
   "cell_type": "markdown",
   "metadata": {},
   "source": [
    "#### (2) 비등가 조인 (non-equi join)\n",
    "- 등가 조인 방식 외의 방식\n",
    "\n",
    "#### (2-1) '범위'를 지정하는 조건식으로 조인하기\n",
    "- 급여 범위를 지정하는 조건식으로 조인하기\n",
    "- (참고) SALGRADE테이블은 급여 등급 데이터를 가지고 있다."
   ]
  },
  {
   "cell_type": "code",
   "execution_count": null,
   "metadata": {},
   "outputs": [],
   "source": [
    "--- 8-7\n",
    "SELECT E.ENAME, E.JOB, E.SAL, S.GRADE, S.LOSAL, S.HISAL\n",
    "    FROM EMP E, SALGRADE S\n",
    "    WHERE E.SAL BETWEEN S.LOSAL AND S.HISAL;"
   ]
  },
  {
   "cell_type": "markdown",
   "metadata": {},
   "source": [
    "결과 :\n",
    "\n",
    "![2-2-1](https://user-images.githubusercontent.com/53929665/93792640-c2070c80-fc70-11ea-862e-85a9eeea6060.JPG)\n"
   ]
  },
  {
   "cell_type": "markdown",
   "metadata": {},
   "source": [
    "#### (3) 자체 조인\n",
    "- 하나의 테이블을 여러 개의 테이블처럼 활용하여 조인하는 방식\n",
    "- `FROM`절에 같은 테이블을 여러 번 명시하되 테이블의 별칭만 다르게 지정하면 된다.\n",
    "\n",
    "#### (3-1) 같은 테이블을 두 번 사용하여 자체 조인하기"
   ]
  },
  {
   "cell_type": "code",
   "execution_count": null,
   "metadata": {},
   "outputs": [],
   "source": [
    "--- 8-8\n",
    "SELECT  E1.EMPNO, E1.ENAME, E1.MGR,\n",
    "        E2.EMPNO AS MGR_EMPNO,\n",
    "        E2.ENAME AS MGR_ENAME\n",
    "        FROM EMP E1, EMP E2\n",
    "        WHERE E1.MGR = E2.EMPNO;"
   ]
  },
  {
   "cell_type": "markdown",
   "metadata": {},
   "source": [
    "결과 :\n",
    "- KING의 MGR은 존재하지 않기 때문에 데이터에는 표시되지않아 총 14개중 13개가 출력되었다.\n",
    "\n",
    "![2-3-1](https://user-images.githubusercontent.com/53929665/93792645-c2070c80-fc70-11ea-958a-66a87d386393.JPG)\n"
   ]
  },
  {
   "cell_type": "markdown",
   "metadata": {},
   "source": [
    "#### (4) 외부 조인\n",
    "- 앞서 자체조인에서 KING의 MGR은 NULL값이기 때문에 출력되지 않았다.  \n",
    "하지만, 특정 경우에서는 NULL임에도 결과를 출력할 때 포함시켜야하는 경우가 있다.  \n",
    "이런경우 외부조인이 쓰인다.\n",
    "\n",
    "\n",
    "- 정의 : 두 테이블간 조인 수행에서 조인 기준 열의 어느 한쪽이 `NULL`이어도 강제로 출력하는 방식\n",
    "    - 따라서, 외부조인은 기준 열의 `NULL`을 처리하는 것을 목적으로 사용된다.\n",
    "\n",
    "\n",
    "- 외부 조인은 좌우를 따로 나누어 지정한다.  \n",
    "`WHERE`절에 조인 기준 열 중 한쪽에`(+)` 기호를 붙인다.\n",
    "\n",
    "\n",
    "    - 왼쪽 외부 조인(Left Outer Join) : WHERE TABLE1.COL1 = TALBE2.COL(+)\n",
    "    \n",
    "    - 오른쪽 외부 조인(Right Outer Join) : WHERE TABLE1.COL1(+) = TABLE2.COL1"
   ]
  },
  {
   "cell_type": "markdown",
   "metadata": {},
   "source": [
    "#### (4-1) 왼쪽 외부 조인\n",
    "- 왼쪽 열을 기준으로 오른쪽 열의 데이터 존재 여부에 상관없이 출력"
   ]
  },
  {
   "cell_type": "code",
   "execution_count": null,
   "metadata": {},
   "outputs": [],
   "source": [
    "--- 8-9\n",
    "SELECT  E1.EMPNO, E1.ENAME, E1.MGR,\n",
    "        E2.EMPNO AS MGR_EMPNO,\n",
    "        E2.ENAME AS MGR_ENAME\n",
    "        FROM EMP E1, EMP E2\n",
    "        WHERE E1.MGR = E2.EMPNO(+)\n",
    "        ORDER BY E1.EMPNO;"
   ]
  },
  {
   "cell_type": "markdown",
   "metadata": {},
   "source": [
    "결과 :\n",
    "- NULL 값도 같이 출력된 것을 확인 가능\n",
    "![2-4-1](https://user-images.githubusercontent.com/53929665/93792870-0d211f80-fc71-11ea-80f3-120c28a7a676.JPG)\n",
    "\n"
   ]
  },
  {
   "cell_type": "markdown",
   "metadata": {},
   "source": [
    "#### (4-2) 오른쪽 외부 조인\n",
    "- 오른쪽 열을 기준으로 왼쪽 열 데이터의 존재와 상관없이 데이터를 출력"
   ]
  },
  {
   "cell_type": "code",
   "execution_count": null,
   "metadata": {},
   "outputs": [],
   "source": [
    "--- 8-10\n",
    "SELECT  E1.EMPNO, E1.ENAME, E1.MGR,\n",
    "        E2.EMPNO AS MGR_EMPNO,\n",
    "        E2.ENAME AS MGR_ENAME\n",
    "        FROM EMP E1, EMP E2\n",
    "        WHERE E1.MGR(+) = E2.EMPNO\n",
    "        ORDER BY E1.EMPNO;"
   ]
  },
  {
   "cell_type": "markdown",
   "metadata": {},
   "source": [
    "결과 :\n",
    "- 아래쪽 데이터는 왼쪽 테이블 데이터가 모두 `NULL`임을 확인할 수 있다.  \n",
    "즉, TURNER ~ MARTIN에 이르는 사원들은 부하 직원이 없는 가장 직책이 낮은 사원들이다.\n",
    "![2-4-2](https://user-images.githubusercontent.com/53929665/93792647-c29fa300-fc70-11ea-852d-a6a1f0c42d8f.JPG)"
   ]
  },
  {
   "cell_type": "markdown",
   "metadata": {},
   "source": [
    "---\n",
    "### [ 3. SQL-99 표준문법으로 배우는 조인 ]\n",
    "- 다른 DBMS 제품에서도 사용할 수 있다."
   ]
  },
  {
   "cell_type": "markdown",
   "metadata": {},
   "source": [
    "#### (1) NATURAL JOIN\n",
    "- '등가 조인'을 대신해 사용할 수 있는 조인 방식\n",
    "- 조인 대상이 되는 두 테이블에 이름과 자료형이 같은 열을 찾은 후 그 열을 기준으로 등가 조인을 해주는 방식"
   ]
  },
  {
   "cell_type": "markdown",
   "metadata": {},
   "source": [
    "#### (1-1) `NATURAL JOIN` 사용하기"
   ]
  },
  {
   "cell_type": "code",
   "execution_count": null,
   "metadata": {},
   "outputs": [],
   "source": [
    "--- 8-11\n",
    "SELECT  E.EMPNO, E.ENAME, E.JOB, E.MGR, E.HIREDATE, E.SAL, E.COMM,\n",
    "        DEPTNO, D.DNAME, D.LOC\n",
    "    FROM EMP E NATURAL JOIN DEPT D\n",
    "    ORDER BY DEPTNO, E.EMPNO;"
   ]
  },
  {
   "cell_type": "markdown",
   "metadata": {},
   "source": [
    "결과 :\n",
    "- EMP 테이블과 DEPT 테이블은 공통 열 DEPTNO를 가지고 있으므로 `NATURAL JOIN`을 사용할 때 자동으로 DEPTNO 열을 기준으로 등가 조인된다.\n",
    "\n",
    "\n",
    "- (중요) 기존 등가 조인과 다르게 조인 기준 열인 DEPTNO를 SELECT절에 명시할 때  \n",
    "☑(테이블 이름을 붙이면 안 되는 특성)이 있으므로 주의해야한다.\n",
    "\n",
    "![3-1-1](https://user-images.githubusercontent.com/53929665/93880524-97708e80-fd18-11ea-83c7-33299713c06b.JPG)"
   ]
  },
  {
   "cell_type": "markdown",
   "metadata": {},
   "source": [
    "#### (2) JOIN ~ USING"
   ]
  },
  {
   "cell_type": "markdown",
   "metadata": {},
   "source": [
    "- 기존 등가 조인을 대신하는 조인 방식이다.\n",
    "\n",
    "\n",
    "- `NATURAL JOIN`이 자동으로 조인 기준 열을 지정하는 것과 달리  \n",
    "☑(`USING`키워드에 조인 기준으로 사용할 열을 명시하여 사용한다.)\n",
    "\n",
    "\n",
    "- `NATURAL JOIN`과 마찬가지로 `SELECT`절에서 조인 기준 열로 명시된 열은 테이블이름을 붙이지 않고 작성한다.\n",
    "\n",
    "\n",
    "\n",
    "- 기본형식\n",
    "```\n",
    "FROM TABLE1 JOIN TABLE2 USING (조인에 사용한 기준열)\n",
    "```"
   ]
  },
  {
   "cell_type": "markdown",
   "metadata": {},
   "source": [
    "#### (2-1) `JOIN~USING`을 사용하여 조인하기"
   ]
  },
  {
   "cell_type": "code",
   "execution_count": null,
   "metadata": {},
   "outputs": [],
   "source": [
    "--- 8-12\n",
    "SELECT  E.EMPNO, E.ENAME, E.JOB, E.MGR, E.HIREDATE, E.SAL, E.COMM,\n",
    "        DEPTNO, D.DNAME, D.LOC\n",
    "    FROM EMP E JOIN DEPT D USING (DEPTNO)\n",
    "    WHERE SAL >= 3000\n",
    "    ORDER BY DEPTNO, E.EMPNO;"
   ]
  },
  {
   "cell_type": "markdown",
   "metadata": {},
   "source": [
    "결과 :\n",
    "- 다른 조인 방식과 마찬가지로 조인된 결과 행을 추가로 제한할 때 `WHERE`절에 조건식을 추가하여 함께 사요할 수 있다.\n",
    "\n",
    "![3-2-1](https://user-images.githubusercontent.com/53929665/93880525-98a1bb80-fd18-11ea-80f5-5f75c9368188.JPG)"
   ]
  },
  {
   "attachments": {},
   "cell_type": "markdown",
   "metadata": {},
   "source": [
    "#### (3) JOIN ~ ON\n",
    "- ☑ 가장 범용성 있다\n",
    "- ☑ 기존 `WHERE`절에 있는 조인 조건식을 `ON`키워드 옆에 작성한다.\n",
    "- 기준 조건식을 `ON`에 명시하고,  \n",
    "그 밖의 출력 행을 걸러 내기 위해 `WHERE` 조건식을 따로 사용\n",
    "\n",
    "\n",
    "- 기본형식\n",
    "```\n",
    "FROM TABLE1 JOIN TABLE2 ON (조인 조건식)\n",
    "```"
   ]
  },
  {
   "cell_type": "markdown",
   "metadata": {},
   "source": [
    "#### (3-1) `JOIN~ON`으로 등가 조인하기"
   ]
  },
  {
   "cell_type": "code",
   "execution_count": null,
   "metadata": {},
   "outputs": [],
   "source": [
    "--- 8-13\n",
    "SELECT  E.EMPNO, E.ENAME, E.JOB, E.MGR, E.HIREDATE, E.SAL, E.COMM,\n",
    "        E.DEPTNO,\n",
    "        D.DNAME, D.LOC\n",
    "    FROM EMP E JOIN DEPT D ON (E.DEPTNO = D.DEPTNO)\n",
    "    WHERE SAL <= 3000\n",
    "    ORDER BY E.DEPTNO, E.EMPNO;"
   ]
  },
  {
   "cell_type": "markdown",
   "metadata": {},
   "source": [
    "결과 :\n",
    "\n",
    "![3-3-1](https://user-images.githubusercontent.com/53929665/93880527-98a1bb80-fd18-11ea-8e8c-b5e4dbf2da41.JPG)"
   ]
  },
  {
   "cell_type": "markdown",
   "metadata": {},
   "source": [
    "#### (4) OUTER JOIN\n",
    "- 이 키워드는 ☑(외부 조인)에 사용한다.\n",
    "- ☑ `WHERE`절이 아닌 `FROM`절에서 외부조인을 선언한다.\n",
    "    - 따라서, 기존 조인 방식보다 더 간략하고 명시적으로 어떤 방식의 조인을 사용했는지 알 수 있다.\n",
    "    - 또한, 조인 조건식과 출력 행을 선정하는 조건식을 구별할 수 있으므로 여러 테이블을 조인해야 하는 복잡한 SELECT문에서는 특히나 강력하다.\n",
    "    - 물론 특정 문장을 반드시 사용해야 하는 업무 규칙이 정해져 있다면 어쩔수 없지만, 그런 규칙이 없다면 자신에게 편한 방식을 사용하면 된다.\n",
    "\n",
    "\n",
    "- ☑ 기존방식과 SQL-99방식의 외부 조인 차이\n",
    "\n",
    "\n",
    "    - 왼쪽 외부 조인(LEFT OUTER JOIN)\n",
    "        - 기존 : WHERE TABLE1.COL1 = WHERE TABLE2.COL1(+)\n",
    "        - SQL-99 : FROM TABLE1 LEFT OUTER JOIN TALBE2 ON(조인조건식)\n",
    "    \n",
    "    \n",
    "    - 오른쪽 외부 조인(RIGHT OUTER JOIN)\n",
    "        - 기존 : WHERE TABLE1.COL1(+) = WHERE TABLE2.COL1\n",
    "        - SQL-99 : FROM TABLE1 RIGHT OUTER JOIN TALBE2 ON(조인조건식)\n",
    "       \n",
    "    \n",
    "    - 전체 외부 조인(FULL OUTER JOIN)\n",
    "        - 기존 : 기본 문법은 없음 (UNION 집합 연산자를 활용)\n",
    "        - SQL-99 : FROM TALBE FULL OUTER JOIN TABLE2 ON(조인조건식)"
   ]
  },
  {
   "cell_type": "markdown",
   "metadata": {},
   "source": [
    "#### (4-1) `왼쪽 외부 조인`을 SQL-99로 작성하기\n",
    "- FROM절에서 왼쪽에 있는 TABLE 이 기준으로 선정!"
   ]
  },
  {
   "cell_type": "code",
   "execution_count": null,
   "metadata": {},
   "outputs": [],
   "source": [
    "--- 8-14\n",
    "SELECT  E1.EMPNO, E1.ENAME, E1.MGR,\n",
    "        E2.EMPNO AS MGR_EMPNO,\n",
    "        E2.ENAME AS MGR_ENAME\n",
    "    FROM EMP E1 LEFT OUTER JOIN EMP E2 ON (E1.MGR = E2.EMPNO)\n",
    "    ORDER BY E1.EMPNO;"
   ]
  },
  {
   "cell_type": "markdown",
   "metadata": {},
   "source": [
    "결과 :\n",
    "\n",
    "![3-4-1](https://user-images.githubusercontent.com/53929665/93880528-993a5200-fd18-11ea-9843-4ccf4d86f5d5.JPG)"
   ]
  },
  {
   "cell_type": "markdown",
   "metadata": {},
   "source": [
    "#### (4-2) `오른쪽 외부 조인`을 SQL-99로 작성하기\n",
    "- FROM절에서 오른쪽에 있는 TABLE 이 기준으로 선정!"
   ]
  },
  {
   "cell_type": "code",
   "execution_count": null,
   "metadata": {},
   "outputs": [],
   "source": [
    "--- 8-15\n",
    "SELECT  E1.EMPNO, E1.ENAME, E1.MGR,\n",
    "        E2.EMPNO AS MGR_EMPNO,\n",
    "        E2.ENAME AS MGR_ENAME\n",
    "    FROM EMP E1 RIGHT OUTER JOIN EMP E2 ON (E1.MGR = E2.EMPNO)\n",
    "    ORDER BY E1.EMPNO;"
   ]
  },
  {
   "cell_type": "markdown",
   "metadata": {},
   "source": [
    "결과 :\n",
    "\n",
    "![3-4-2](https://user-images.githubusercontent.com/53929665/93880529-993a5200-fd18-11ea-8917-9e0285b6ce07.JPG)"
   ]
  },
  {
   "cell_type": "markdown",
   "metadata": {},
   "source": [
    "#### (4-3) `전체 외부 조인`을 SQL-99로 작성하기\n",
    "- 왼쪽 열이 `NULL`인 경우와 오른쪽 열이 `NULL`인 경우를 모두 출력하는 방식"
   ]
  },
  {
   "cell_type": "code",
   "execution_count": null,
   "metadata": {},
   "outputs": [],
   "source": [
    "--- 8-16\n",
    "SELECT  E1.EMPNO, E1.ENAME, E1.MGR,\n",
    "        E2.EMPNO AS MGR_EMPNO,\n",
    "        E2.ENAME AS MGR_ENAME\n",
    "    FROM EMP E1 FULL OUTER JOIN EMP E2 ON (E1.MGR = E2.EMPNO)\n",
    "    ORDER BY E1.EMPNO;"
   ]
  },
  {
   "cell_type": "markdown",
   "metadata": {},
   "source": [
    "결과 :\n",
    "- `왼쪽 외부 조인`과 `오른쪽 외부 조인`의 결과가 합쳐진것과 같은 결과 \n",
    "\n",
    "![3-4-3](https://user-images.githubusercontent.com/53929665/93880530-99d2e880-fd18-11ea-9b2d-2eb7c26b0c04.JPG)\n"
   ]
  },
  {
   "cell_type": "markdown",
   "metadata": {},
   "source": [
    "#### (5) SQL - 99 조인 방식에서 세 개 이상의 테이블을 조인할 때\n",
    "\n",
    "- 기존 조인 방식에서는 다음과 같이 진행하면된다.\n",
    "```\n",
    "FROM TABLE1, TABLE2, TABLE3\n",
    "WHERE TABLE1.COL = TABLE2.COL\n",
    "    AND TABLE2.COL = TABLE3.COL\n",
    "```\n",
    "\n",
    "- 하지만, ☑ SQL-99에서는 다음과 같이 진행하면된다.\n",
    "```\n",
    "FROM TABLE1 JOIN TABLE2 ON (조건식)\n",
    "    JOIN TABLE3 ON (조건식)\n",
    "```"
   ]
  },
  {
   "cell_type": "markdown",
   "metadata": {},
   "source": [
    "### [ 연습 문제 ]"
   ]
  },
  {
   "cell_type": "markdown",
   "metadata": {},
   "source": [
    "#### 1번."
   ]
  },
  {
   "cell_type": "markdown",
   "metadata": {},
   "source": [
    "- SQL-99 이전 방식"
   ]
  },
  {
   "cell_type": "code",
   "execution_count": null,
   "metadata": {},
   "outputs": [],
   "source": [
    "SELECT E.DEPTNO, D.DNAME, E.EMPNO, E.ENAME, E.SAL\n",
    "    FROM EMP E, DEPT D\n",
    "    WHERE E.DEPTNO = D.DEPTNO\n",
    "    AND SAL > 2000;"
   ]
  },
  {
   "cell_type": "markdown",
   "metadata": {},
   "source": [
    "- SQL-99 방식"
   ]
  },
  {
   "cell_type": "code",
   "execution_count": null,
   "metadata": {},
   "outputs": [],
   "source": [
    "SELECT E.DEPTNO, D.DNAME, E.EMPNO, E.ENAME, E.SAL\n",
    "    FROM EMP E JOIN DEPT D ON (D.DEPTNO = E.DEPTNO)\n",
    "    WHERE SAL > 2000;"
   ]
  },
  {
   "cell_type": "markdown",
   "metadata": {},
   "source": [
    "- SQL-99방식 (`NATURAL JOIN` 이용)"
   ]
  },
  {
   "cell_type": "code",
   "execution_count": null,
   "metadata": {},
   "outputs": [],
   "source": [
    "SELECT DEPTNO, D.DNAME, E.EMPNO, E.ENAME, E.SAL\n",
    "  FROM EMP E NATURAL JOIN DEPT D\n",
    " WHERE E.SAL > 2000;"
   ]
  },
  {
   "cell_type": "markdown",
   "metadata": {},
   "source": [
    "#### 2번."
   ]
  },
  {
   "cell_type": "markdown",
   "metadata": {},
   "source": [
    "- SQL-99 이전 방식"
   ]
  },
  {
   "cell_type": "code",
   "execution_count": null,
   "metadata": {},
   "outputs": [],
   "source": [
    "SELECT  D.DEPTNO, D.DNAME,\n",
    "        N.AVG_SAL, N.MAX_SAL, N.MIN_SAL, N.CNT\n",
    "     FROM DEPT D, (SELECT  DEPTNO,TRUNC(AVG(SAL), 0) AS AVG_SAL,\n",
    "                        MAX(SAL) AS MAX_SAL,\n",
    "                        MIN(SAL) AS MIN_SAL,\n",
    "                        COUNT(SAL) AS CNT\n",
    "                    FROM EMP\n",
    "                    GROUP BY DEPTNO) N\n",
    "    WHERE D.DEPTNO = N.DEPTNO\n",
    "    ORDER BY DEPTNO;"
   ]
  },
  {
   "cell_type": "markdown",
   "metadata": {},
   "source": [
    "- SQL-99 이전 방식 모범 답안"
   ]
  },
  {
   "cell_type": "code",
   "execution_count": null,
   "metadata": {},
   "outputs": [],
   "source": [
    "SELECT D.DEPTNO,\n",
    "       D.DNAME,\n",
    "       TRUNC(AVG(SAL)) AS AVG_SAL,\n",
    "       MAX(SAL) AS MAX_SAL,\n",
    "       MIN(SAL) AS MIN_SAL,\n",
    "       COUNT(*) AS CNT\n",
    "  FROM EMP E, DEPT D\n",
    " WHERE E.DEPTNO = D.DEPTNO\n",
    "GROUP BY D.DEPTNO, D.DNAME;"
   ]
  },
  {
   "cell_type": "markdown",
   "metadata": {},
   "source": [
    "- SQL-99 방식"
   ]
  },
  {
   "cell_type": "code",
   "execution_count": null,
   "metadata": {},
   "outputs": [],
   "source": [
    "SELECT  D.DEPTNO, D.DNAME,\n",
    "        N.AVG_SAL, N.MAX_SAL, N.MIN_SAL, N.CNT\n",
    "     FROM DEPT D JOIN (SELECT  DEPTNO,TRUNC(AVG(SAL), 0) AS AVG_SAL,\n",
    "                        MAX(SAL) AS MAX_SAL,\n",
    "                        MIN(SAL) AS MIN_SAL,\n",
    "                        COUNT(SAL) AS CNT\n",
    "                    FROM EMP\n",
    "                    GROUP BY DEPTNO) N ON (D.DEPTNO = N.DEPTNO)\n",
    "    ORDER BY DEPTNO;"
   ]
  },
  {
   "cell_type": "markdown",
   "metadata": {},
   "source": [
    "- SQL-99 방식 모범 답안"
   ]
  },
  {
   "cell_type": "code",
   "execution_count": null,
   "metadata": {},
   "outputs": [],
   "source": [
    "SELECT DEPTNO,\n",
    "       D.DNAME,\n",
    "       TRUNC(AVG(SAL)) AS AVG_SAL,\n",
    "       MAX(SAL) AS MAX_SAL,\n",
    "       MIN(SAL) AS MIN_SAL,\n",
    "       COUNT(*) AS CNT\n",
    "  FROM EMP E JOIN DEPT D USING (DEPTNO)\n",
    "GROUP BY DEPTNO, D.DNAME;"
   ]
  },
  {
   "cell_type": "markdown",
   "metadata": {},
   "source": [
    "#### 3번."
   ]
  },
  {
   "cell_type": "markdown",
   "metadata": {},
   "source": [
    "- SQL-99 이전 방식"
   ]
  },
  {
   "cell_type": "code",
   "execution_count": null,
   "metadata": {},
   "outputs": [],
   "source": [
    "SELECT  D.DEPTNO,\n",
    "        D.DNAME, E.ENAME, E.JOB, E.SAL\n",
    "    FROM EMP E, DEPT D\n",
    "    WHERE E.DEPTNO(+) = D.DEPTNO\n",
    "    ORDER BY DEPTNO, E.ENAME;"
   ]
  },
  {
   "cell_type": "markdown",
   "metadata": {},
   "source": [
    "- SQL-99 방식"
   ]
  },
  {
   "cell_type": "code",
   "execution_count": null,
   "metadata": {},
   "outputs": [],
   "source": [
    "SELECT  D.DEPTNO,\n",
    "        D.DNAME, E.ENAME, E.JOB, E.SAL\n",
    "    FROM EMP E RIGHT OUTER JOIN DEPT D ON (E.DEPTNO = D.DEPTNO)\n",
    "    ORDER BY DEPTNO, E.ENAME;"
   ]
  },
  {
   "cell_type": "markdown",
   "metadata": {},
   "source": [
    "#### 4번."
   ]
  },
  {
   "cell_type": "markdown",
   "metadata": {},
   "source": [
    "- SQL-99 이전 방식"
   ]
  },
  {
   "cell_type": "code",
   "execution_count": null,
   "metadata": {},
   "outputs": [],
   "source": [
    "SELECT  D.DEPTNO, D.DNAME, \n",
    "        E1.EMPNO, E1.MGR, E1.SAL, E1.DEPTNO,\n",
    "        S.LOSAL, S.HISAL, S.GRADE,\n",
    "        E2.EMPNO AS MGR_EMPNO,\n",
    "        E2.ENAME AS MGR_ENAME\n",
    "    FROM DEPT D, EMP E1, SALGRADE S, EMP E2\n",
    "    WHERE D.DEPTNO = E1.DEPTNO(+)\n",
    "        AND E1.SAL BETWEEN LOSAL(+) AND HISAL(+)\n",
    "        AND E1.MGR = E2.EMPNO(+)\n",
    "    ORDER BY D.DEPTNO, E1.EMPNO;"
   ]
  },
  {
   "cell_type": "markdown",
   "metadata": {},
   "source": [
    "- SQL-99 방식"
   ]
  },
  {
   "cell_type": "code",
   "execution_count": null,
   "metadata": {},
   "outputs": [],
   "source": [
    "SELECT  D.DEPTNO, D.DNAME, \n",
    "        E1.EMPNO, E1.MGR, E1.SAL, E1.DEPTNO,\n",
    "        S.LOSAL, S.HISAL, S.GRADE,\n",
    "        E2.EMPNO AS MGR_EMPNO,\n",
    "        E2.ENAME AS MGR_ENAME\n",
    "    FROM DEPT D LEFT OUTER JOIN EMP E1 ON (D.DEPTNO = E1.DEPTNO)\n",
    "           LEFT OUTER JOIN SALGRADE S ON (E1.SAL BETWEEN LOSAL AND HISAL)\n",
    "           LEFT OUTER JOIN EMP E2 ON (E1.MGR = E2.EMPNO)\n",
    "    ORDER BY D.DEPTNO, E1.EMPNO;"
   ]
  }
 ],
 "metadata": {
  "kernelspec": {
   "display_name": "Python 3",
   "language": "python",
   "name": "python3"
  },
  "language_info": {
   "codemirror_mode": {
    "name": "ipython",
    "version": 3
   },
   "file_extension": ".py",
   "mimetype": "text/x-python",
   "name": "python",
   "nbconvert_exporter": "python",
   "pygments_lexer": "ipython3",
   "version": "3.7.7"
  }
 },
 "nbformat": 4,
 "nbformat_minor": 4
}
