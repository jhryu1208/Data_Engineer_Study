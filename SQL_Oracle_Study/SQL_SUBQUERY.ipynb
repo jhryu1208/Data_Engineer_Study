{
 "cells": [
  {
   "cell_type": "markdown",
   "metadata": {},
   "source": [
    "## SQL문 속 또 다른 SQL문, 서브 쿼리"
   ]
  },
  {
   "cell_type": "markdown",
   "metadata": {},
   "source": [
    "---\n",
    "### [ 1. 서브쿼리 ]\n",
    "#### (1) 서브쿼리란?\n",
    "- `서브쿼리(subquery)` : SQL문을 실행하는 데 필요한 데이터를 추가로 조회하기 위해 SQL문 내부에서 사용하는 SELECT문을 의미한다.\n",
    "\n",
    "\n",
    "- `메인쿼리(main query)` : 서브쿼리의 결과 값을 사용하여 기능을 수행하는 영역"
   ]
  },
  {
   "cell_type": "markdown",
   "metadata": {},
   "source": [
    "#### (1-1) (기존) EMP 테이블에서 JONES보다 급여가 높은 사원 조회하기\n",
    "- 단계1 : 사원 이름이 JONES인 사원의 급여 출력하기"
   ]
  },
  {
   "cell_type": "code",
   "execution_count": null,
   "metadata": {},
   "outputs": [],
   "source": [
    "--- 9-1\n",
    "SELECT SAL\n",
    "    FROM EMP\n",
    "    WHERE ENAME = 'JONES';"
   ]
  },
  {
   "cell_type": "markdown",
   "metadata": {},
   "source": [
    "결과 :\n",
    "\n",
    "![1-1-1](https://user-images.githubusercontent.com/53929665/94003668-84bc8f00-fdd6-11ea-8687-5f8030b2e7fa.JPG)\n",
    "\n"
   ]
  },
  {
   "cell_type": "markdown",
   "metadata": {},
   "source": [
    "- 단계2 : 급여가 2975 보다 높은 사원 정보 출력하기"
   ]
  },
  {
   "cell_type": "code",
   "execution_count": null,
   "metadata": {},
   "outputs": [],
   "source": [
    "--- 9-2\n",
    "SELECT *\n",
    "    FROM EMP\n",
    "    WHERE SAL > 2975;"
   ]
  },
  {
   "cell_type": "markdown",
   "metadata": {},
   "source": [
    "결과 :\n",
    "![1-1-1(2)](https://user-images.githubusercontent.com/53929665/94003666-838b6200-fdd6-11ea-95a5-1bd71ff53067.JPG)\n"
   ]
  },
  {
   "cell_type": "markdown",
   "metadata": {},
   "source": [
    "#### (1-2) 서브쿼리로 JONES보다 급여가 높은 사원 조회하기"
   ]
  },
  {
   "cell_type": "code",
   "execution_count": null,
   "metadata": {},
   "outputs": [],
   "source": [
    "--- 9-3\n",
    "SELECT *\n",
    "    FROM EMP\n",
    "    WHERE SAL > (SELECT SAL\n",
    "                    FROM EMP\n",
    "                    WHERE ENAME = 'JONES');"
   ]
  },
  {
   "cell_type": "markdown",
   "metadata": {},
   "source": [
    "결과 : \n",
    "- (1-1)에서의 단계1이 서브쿼리가 되고,\n",
    "- (1-1)에서의 단계2가 메인쿼리가 되었다.\n",
    "\n",
    "![1-1-2](https://user-images.githubusercontent.com/53929665/94003669-84bc8f00-fdd6-11ea-83aa-68b46b9117e5.JPG)"
   ]
  },
  {
   "cell_type": "markdown",
   "metadata": {},
   "source": [
    "#### (2) 서브쿼리의 특징\n",
    "- 서브쿼리는 연산자와 같은 비교 또는 조회 대상의 오른쪽에 놓이며,  \n",
    "괄호 ()를 묶어서 사용한다.\n",
    "\n",
    "\n",
    "- 특수한 몇몇 경우를 제외한 대부분의 서브쿼리에서는 `ORDER BY`절을 사용할 수 없다.\n",
    "\n",
    "\n",
    "- 서브쿼리의 SELECT절에 명시한 열은 메인쿼리의 비교 대상과 같은 자료형과 같은 개수로 지정해야한다.  \n",
    "( 예제 (1-2)의 WHERE절에서 메인쿼리의 비교대상 SAL과 서브쿼리의 SELECT절에 명시한 열은 자료형과 개수가 같다. )\n",
    "\n",
    "\n",
    "- 서브쿼리에 있는 SELECT문의 결과 행 수는 함께 사용하는 메인쿼리의 연산자 종류와 호환 가능해야한다."
   ]
  },
  {
   "cell_type": "markdown",
   "metadata": {},
   "source": [
    "---\n",
    "### [ 2. 실행 결과가 하나인 단일행 서브쿼리 ]\n",
    "- `단일행 서브쿼리(single-row subquery)` : 실행 결과가 ☑(단 하나의 행)으로 나오는 서브쿼리\n",
    "    > 서브쿼리에서 출력되는 결과가 하나이면,  \n",
    "    > 메인쿼리와 서브쿼리 결과는 다음과 같이 `단일행 연산자`를 사용하여 비교한다.  \n",
    "    > : `>`, `>=`, `=`, `<=`, `<`, `<>`, `^=`, `!=`\n",
    "\n",
    "\n",
    "- `다중행 서브쿼리(multiple-row subquery)` : 실행 결과가 ☑(여러 행)을 반환하는 서브쿼리"
   ]
  },
  {
   "cell_type": "markdown",
   "metadata": {},
   "source": [
    "#### (1) 단일행 서브쿼리와 날짜형 데이터\n",
    "- `단일행 서브쿼리`는 결과 값이 `날짜(DATE)자료형`일 때도 사용할 수 있다.\n",
    "\n",
    "#### (1-1) 서브쿼리의 결과 값이 날짜형인 경우\n",
    "- EMP 테이블에서 SCOTT보다 빨리 입사한 사원 목록을 조회할 경우"
   ]
  },
  {
   "cell_type": "code",
   "execution_count": null,
   "metadata": {},
   "outputs": [],
   "source": [
    "--- 9-4\n",
    "SELECT *\n",
    "    FROM EMP\n",
    "    WHERE HIREDATE < (SELECT HIREDATE\n",
    "                        FROM EMP\n",
    "                        WHERE ENAME = 'SCOTT');"
   ]
  },
  {
   "cell_type": "markdown",
   "metadata": {},
   "source": [
    "결과 :\n",
    "\n",
    "![2-1-1](https://user-images.githubusercontent.com/53929665/94005278-044b5d80-fdd9-11ea-9bbc-2b4514e3efd3.JPG)"
   ]
  },
  {
   "cell_type": "markdown",
   "metadata": {},
   "source": [
    "#### (2) 단일형 서브쿼리의 함수\n",
    "- 서브쿼리에서 특정 함수를 사용한 결과 값이 하나일 때  \n",
    "역시 `단일행 서브쿼리`로서 사용가능하다."
   ]
  },
  {
   "cell_type": "markdown",
   "metadata": {},
   "source": [
    "#### (2-1) 서브쿼리 안에서 함수를 사용하는 경우\n",
    "- 20번 부서에 속한 사원 중 전체 사원의 평균 급여보다 높은 급여를 받는 사원 정보와 소속 부서 정보를 함께 조회하는 경우"
   ]
  },
  {
   "cell_type": "code",
   "execution_count": null,
   "metadata": {},
   "outputs": [],
   "source": [
    "--- 9-5\n",
    "SELECT  E.EMPNO, E.ENAME, E.JOB, E.SAL,\n",
    "        D.DEPTNO, D.DNAME, D.LOC\n",
    "    FROM EMP E, DEPT D\n",
    "    WHERE E.DEPTNO = D.DEPTNO\n",
    "        AND E.DEPTNO = 20 \n",
    "        AND E.SAL > (SELECT AVG(SAL)\n",
    "                        FROM EMP);"
   ]
  },
  {
   "cell_type": "markdown",
   "metadata": {},
   "source": [
    "결과 :\n",
    "\n",
    "![2-2-1](https://user-images.githubusercontent.com/53929665/94005279-057c8a80-fdd9-11ea-8370-cddaa2402e26.JPG)"
   ]
  },
  {
   "cell_type": "markdown",
   "metadata": {},
   "source": [
    "---\n",
    "### [ 3. 실행 결과가 여러 개인 다중행 서브쿼리 ]\n",
    "- 단일행 서브쿼리와 달리 서브쿼리 결과가 여러 개이므로 단일행 연산자는 사용할 수 없고 `다중행 연산자`를 사용해야 메인쿼리와 비교할 수 있다.\n",
    "\n",
    "\n",
    "- `다중행 연산자`\n",
    "\n",
    "|다중행 연산자|설명|\n",
    "|:------------:|:--|\n",
    "|`IN`|메인쿼리의 데이터가 서브쿼리의 결과 중 하나라도 일치한 데이터가 있다면  ☑TRUE|\n",
    "|`ANY`, `SOME`|메인쿼리의 조건식을 만족하는 서브쿼리의 결과가 하나 이상이면 ☑TRUE|\n",
    "|`ALL`|메인쿼리의 조건식을 서브쿼리의 결과 모두 만족하면 ☑TRUE|\n",
    "|`EXISTS`|서브쿼리의 결과가 존재하면(즉, 행이 1개 이상일 경우) ☑TRUE|"
   ]
  },
  {
   "cell_type": "markdown",
   "metadata": {},
   "source": [
    "#### (1) IN 연산자\n",
    "\n",
    "#### (1-1) `IN` 연산자 사용하기"
   ]
  },
  {
   "cell_type": "code",
   "execution_count": null,
   "metadata": {},
   "outputs": [],
   "source": [
    "--- 9-6\n",
    "SELECT *\n",
    "    FROM EMP\n",
    "    WHERE DEPTNO IN(20,30);"
   ]
  },
  {
   "cell_type": "markdown",
   "metadata": {},
   "source": [
    "결과 :"
   ]
  },
  {
   "cell_type": "markdown",
   "metadata": {},
   "source": [
    "#### (1-2) 다중행 서브쿼리의 데이터를 비교하는 다중행 연산자 `IN`\n",
    "- 각 부서별 최고 급여와 동일한 급여를 받는 사원 정보 출력하기"
   ]
  },
  {
   "cell_type": "code",
   "execution_count": null,
   "metadata": {},
   "outputs": [],
   "source": [
    "--- 9-7\n",
    "SELECT *\n",
    "    FROM EMP\n",
    "    WHERE SAL IN(SELECT MAX(SAL)\n",
    "                    FROM EMP\n",
    "                    GROUP BY DEPTNO);"
   ]
  },
  {
   "cell_type": "markdown",
   "metadata": {},
   "source": [
    "결과 :\n",
    "- `IN` 연산자를 사용해 메인쿼리에서는 세 값 중 일치하는 값을 가진 행만 출력"
   ]
  },
  {
   "cell_type": "markdown",
   "metadata": {},
   "source": [
    "#### (2) ANY, SOME 연산자\n",
    "- `ANY`, `SOME` 연산자는 서브쿼리가 반환한 여러 결과 값 중  \n",
    "메인쿼리와 조건식을 사용한 결과가 하나라도 TRUE이면  \n",
    "메인쿼리 조건식을 TRUE로 반환해 주는 연산자이다."
   ]
  },
  {
   "cell_type": "markdown",
   "metadata": {},
   "source": [
    "#### (3) ALL 연산자"
   ]
  },
  {
   "cell_type": "markdown",
   "metadata": {},
   "source": [
    "#### (4) EXISTS 연산자"
   ]
  },
  {
   "cell_type": "markdown",
   "metadata": {},
   "source": [
    "---\n",
    "### [ 4. 비교할 열이 여러 개인 다중열 서브쿼리 ]"
   ]
  },
  {
   "cell_type": "markdown",
   "metadata": {},
   "source": [
    "---\n",
    "### [ 5. FROM절에 사용하는 서브쿼리와 WITH절 ]"
   ]
  },
  {
   "cell_type": "markdown",
   "metadata": {},
   "source": [
    "---\n",
    "### [ 6. SELECT 절에 사용하는 서브쿼리 ]"
   ]
  }
 ],
 "metadata": {
  "kernelspec": {
   "display_name": "Python 3",
   "language": "python",
   "name": "python3"
  },
  "language_info": {
   "codemirror_mode": {
    "name": "ipython",
    "version": 3
   },
   "file_extension": ".py",
   "mimetype": "text/x-python",
   "name": "python",
   "nbconvert_exporter": "python",
   "pygments_lexer": "ipython3",
   "version": "3.7.7"
  }
 },
 "nbformat": 4,
 "nbformat_minor": 4
}
