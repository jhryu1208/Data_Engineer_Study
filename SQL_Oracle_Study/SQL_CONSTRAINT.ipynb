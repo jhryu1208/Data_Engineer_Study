{
 "cells": [
  {
   "cell_type": "markdown",
   "metadata": {},
   "source": [
    "## [ 제약 조건 ]\n",
    "---\n",
    "### [ 1. 제약 조건 종류 ]\n",
    "#### (1) 제약 조건이란?\n",
    "\n",
    "- `제약조건` :\n",
    "    - 테이블의 특정 열에 지정\n",
    "    - 제약 조건을 지정한 열에 제약 조건에 부합하지 않는 데이터를 저장할 수 없다.\n",
    "    - 제약 조건 지정 방식에 따라 기존 데이터의 수정이나 삭제 가능 여부도 영향을 받는다.\n",
    "    - ex) ID, EMAIL 중복 허용X, 특정 데이터열에 NULL 허용X\n",
    "    \n",
    "    \n",
    "- 제약 조건의 종류\n",
    "    - `데이터무결성`을 보장하기 위해 아래와 같은 제약조건을 제공한다.\n",
    "    - 제약 조건은 테이블 생성할 때 주로 지정한다.\n",
    "    - 하지만, 테이블 생성 후에도 추가/변경/삭제가 가능하다.\n",
    "    - 따라서, 제약 조건은 `데이터 정의어(DDL)`에서 활용가능하다.\n",
    "\n",
    "|종류|설명|\n",
    "|:---------|:----------------------------------------------------------------------|\n",
    "|`NOT NULL`| 지정한 열에 NULL을 허용하지 않는다. NULL을 제외한 데이터의 중복은 허용|\n",
    "|`UNIQUE`|지정한 열에 유일한 값을 가져야 한다. 즉 중복X, 단 NULL값의 중복은 제외|\n",
    "|`PRIMARY KEY`| 지정한 열이 유일한 값이면서 NULL을 허용하지 않는다. PRIMARY KEY는 테이블에 하나만 지정가능|\n",
    "|`FOREIGN KEY`|다른 테이블의 열을 참조하여 존재하는 값만 입력할 수 있다.|\n",
    "|`CHECK`|설정한 조건식을 만족하는 데이터만 입력 가능하다.|"
   ]
  },
  {
   "cell_type": "markdown",
   "metadata": {},
   "source": [
    "---\n",
    "### [ 2. 반값을 허락하지 않는 NOT NULL ]\n",
    "#### (1) 테이블을 생성하며 제약 조건 지정\n",
    "- `NOT NULL` :\n",
    "    - 특정 열에 데이터의 중복 여부와는 상관없이 NULL의 저장을 허용하지 않는 제약조건\n",
    "    - 반드시 열에 값이 존재해야만 하는 경우에 지정\n",
    "    - 열 이름과 자료형 뒤에 NOT NULL 키워드를 명시하여 지정한다."
   ]
  },
  {
   "cell_type": "markdown",
   "metadata": {},
   "source": [
    "#### (1-1) 테이블 생성할 떄 NOT NULL 설정하기"
   ]
  },
  {
   "cell_type": "code",
   "execution_count": null,
   "metadata": {},
   "outputs": [],
   "source": [
    "--- 14-1\n",
    "\n",
    "CREATE  TABLE   TABLE_NOTNULL(\n",
    "    LOGIN_ID    VARCHAR2(20)    NOT NULL,\n",
    "    LOGIN_PWD   VARCHAR2(20)    NOT NULL,\n",
    "    TEL         VARCHAR2(20)    \n",
    ");\n",
    "\n",
    "DESC TABLE_NOTNULL;"
   ]
  },
  {
   "cell_type": "markdown",
   "metadata": {},
   "source": [
    "결과 :\n",
    "<img width=\"448\" alt=\"1-1-1\" src=\"https://user-images.githubusercontent.com/53929665/94922633-8df3dd00-04f5-11eb-9ee5-92dfcf486e7b.PNG\">"
   ]
  },
  {
   "cell_type": "markdown",
   "metadata": {},
   "source": [
    "#### (1-2) 제약 조건이 NOT NULL인 열에 NULL 값 넣어보기"
   ]
  },
  {
   "cell_type": "code",
   "execution_count": null,
   "metadata": {},
   "outputs": [],
   "source": [
    "--- 14-2\n",
    "\n",
    "INSERT INTO TABLE_NOTNULL (LOGIN_ID, LOGIN_PWD, TEL)\n",
    "VALUES('TEST_ID_01', NULL, '010-1234-5678');"
   ]
  },
  {
   "cell_type": "markdown",
   "metadata": {},
   "source": [
    "결과 :\n",
    "- LOGIN_ID, LOGIN_PWD 열은 반드시 NULL이 아닌 값을 지정하도록 강제로 지정되고 있다.\n",
    "\n",
    "<img width=\"271\" alt=\"1-1-2\" src=\"https://user-images.githubusercontent.com/53929665/94922636-8e8c7380-04f5-11eb-81b1-cf39251d5598.PNG\">"
   ]
  },
  {
   "cell_type": "markdown",
   "metadata": {},
   "source": [
    "#### (1-3) 제약 조건이 없는 TEL 열에 NULL 값 입력하기"
   ]
  },
  {
   "cell_type": "code",
   "execution_count": null,
   "metadata": {},
   "outputs": [],
   "source": [
    "--- 14-3\n",
    "\n",
    "INSERT INTO TABLE_NOTNULL (LOGIN_ID, LOGIN_PWD)\n",
    "VALUES('TEST_ID_01', '1234');\n",
    "\n",
    "SELECT * FROM TABLE_NOTNULL;"
   ]
  },
  {
   "cell_type": "markdown",
   "metadata": {},
   "source": [
    "결과 :\n",
    "- 반면에 TEL열은 별다른 제약 조건을 지정하지 않았으므로 값을 지정하지 않아도 오류가 발생하지 않는다.\n",
    "\n",
    "<img width=\"148\" alt=\"1-1-3\" src=\"https://user-images.githubusercontent.com/53929665/94922638-8f250a00-04f5-11eb-987b-3b4cf6f8fd84.PNG\">"
   ]
  },
  {
   "cell_type": "markdown",
   "metadata": {},
   "source": [
    "#### (1-4) NOT NULL 제약 조건이 지정된 열 데이터를 NULL 값으로 업데이트하기"
   ]
  },
  {
   "cell_type": "code",
   "execution_count": null,
   "metadata": {},
   "outputs": [],
   "source": [
    "--- 14-4\n",
    "\n",
    "UPDATE TABLE_NOTNULL\n",
    "    SET LOGIN_PWD = NULL\n",
    "    WHERE LOGIN_ID = 'TEST_ID_01';"
   ]
  },
  {
   "cell_type": "markdown",
   "metadata": {},
   "source": [
    "결과 :\n",
    "- 열의 제약 조건으로 NOT NULL을 지정하면  \n",
    "`UPDATE`문을 사용하여 LOGIN_ID 또는 LOGIN_PWD 열 값을 NULL로 수정하는 것이 불가능하다.\n",
    "- 따라서, 제약 조건은 데이터의 삽입/수정/삭제에도 영향을 준다는 것을 알 수 있다.\n",
    "\n",
    "<img width=\"271\" alt=\"1-1-4\" src=\"https://user-images.githubusercontent.com/53929665/94922640-8f250a00-04f5-11eb-98bb-d7337b28b0e2.PNG\">"
   ]
  },
  {
   "cell_type": "markdown",
   "metadata": {},
   "source": [
    "#### (2) 제약 조건 확인\n",
    "- 지정한 제약 조건 정보를 확인하려면  \n",
    "다음과 같은 열 구성을 가진  `USER_CONSTRATINTS`데이터 사전을 활용한다.\n",
    "<img width=\"451\" alt=\"3\" src=\"https://user-images.githubusercontent.com/53929665/94919939-4a4aa480-04f0-11eb-9adf-f18c9efbb3bc.PNG\">\n",
    "\n",
    "#### (2-1) 제약 조건 살펴보기 (SCOTT 계정)\n",
    "- 다음 SELECT문을 사용하면 SCOTT 계정 소유의 제약 조건을 확인할 수 있다."
   ]
  },
  {
   "cell_type": "code",
   "execution_count": null,
   "metadata": {},
   "outputs": [],
   "source": [
    "--- 14-5\n",
    "\n",
    "SELECT OWNER, CONSTRAINT_NAME, CONSTRAINT_TYPE, TABLE_NAME\n",
    "    FROM USER_CONSTRAINTS;"
   ]
  },
  {
   "cell_type": "markdown",
   "metadata": {},
   "source": [
    "결과 : \n",
    "- 앞서 생성한 TABLE_NOTNULL의 제약조건도 확인 가능하다.\n",
    "\n",
    "<img width=\"312\" alt=\"2-2-1\" src=\"https://user-images.githubusercontent.com/53929665/94922644-90563700-04f5-11eb-9db3-4dbb343b5bbd.PNG\">"
   ]
  },
  {
   "cell_type": "markdown",
   "metadata": {},
   "source": [
    "#### (3) 제약 조건 이름 직접 지정\n",
    "- 제약 조건은 이름을 따로 지정해 주지않으면 오라클에서 자동으로 이름을 지정한다.\n",
    "    - ex) 앞의 예제에서는 SYS_C0011053, SYS_C0011054로 지정되었다.\n",
    "- 제약 조건에 이름을 직접 설정하려면 `CONSTRAINT`키워드를 사용해야한다."
   ]
  },
  {
   "cell_type": "markdown",
   "metadata": {},
   "source": [
    "#### (3-1) 테이블을 생성할 때 제약 조건에 이름 지정하기"
   ]
  },
  {
   "cell_type": "code",
   "execution_count": null,
   "metadata": {},
   "outputs": [],
   "source": [
    "--- 14-6\n",
    "\n",
    "CREATE TABLE TABLE_NOTNULL2(\n",
    "    LOGIN_ID  VARCHAR2(20) CONSTRAINT TBLNN2_LGNID_NN NOT NULL,\n",
    "    LOGIN_PWD VARCHAR2(20) CONSTRAINT TBLNN2_LGNPWD_NN NOT NULL,\n",
    "    TEL       VARCHAR2(20)\n",
    ");\n",
    "\n",
    "SELECT OWNER, CONSTRAINT_NAME, CONSTRAINT_TYPE, TABLE_NAME\n",
    "    FROM USER_CONSTRAINTS;"
   ]
  },
  {
   "cell_type": "markdown",
   "metadata": {},
   "source": [
    "결과 : 설정한 제약 조건 이름이 저장되어 있는 것을 확인할 수 있다.\n",
    "\n",
    "<img width=\"312\" alt=\"2-3-1\" src=\"https://user-images.githubusercontent.com/53929665/94922646-90563700-04f5-11eb-89f0-e7a4e2dd688c.PNG\">"
   ]
  },
  {
   "cell_type": "markdown",
   "metadata": {},
   "source": [
    "#### (4) 이미 생성한 테이블에 제약 조건 지정\n",
    "- 앞에서 보았듯이 제약 조건은 데이터와 테이블을 설계하는 시점  \n",
    "즉, 데이터베이스 사용 주기에서 비교적 초기에 지정하는 것이 일반적이다.\n",
    "\n",
    "\n",
    "- 하지만, 경우에 따라서 이미 생성되어 있는 테이블에 제약 조건을  \n",
    "추가하거나 변경 또는 삭제해야 하는 경우도 종종 생긴다."
   ]
  },
  {
   "cell_type": "markdown",
   "metadata": {},
   "source": [
    "#### (4-1) 생성한 테이블에 제약 조건 추가하기\n",
    "- NOT NULL 제약 조건의 추가는 `ALTER`명령어와 `MODIFY`키워드가 사용된다.\n",
    "\n",
    "\n",
    "- 하지만, NOT NULL제약 조건을 추가하려 했는데,  \n",
    "다음과 같이 이미 TEL 열의 데이터 중 NULL 값이 존재하기 때문에 제약 조건이 추가되지 않는다."
   ]
  },
  {
   "cell_type": "code",
   "execution_count": null,
   "metadata": {},
   "outputs": [],
   "source": [
    "--- 14-7 TEL 열에 NOT NULL 제약 조건 추가하기\n",
    "\n",
    "ALTER TABLE TABLE_NOTNULL\n",
    "MODIFY(TEL NOT NULL);"
   ]
  },
  {
   "cell_type": "markdown",
   "metadata": {},
   "source": [
    "결과 : 오류 발생\n",
    "\n",
    "<img width=\"271\" alt=\"2-4-1(1)\" src=\"https://user-images.githubusercontent.com/53929665/94922648-90eecd80-04f5-11eb-91e1-e34bfe96b038.PNG\">"
   ]
  },
  {
   "cell_type": "markdown",
   "metadata": {},
   "source": [
    "- 그렇다면, 다음 UPDATE문으로 기존 TEL열을 NULL이 아닌 데이터로 수정하여 제약조건을 수정하면 다음과 같다."
   ]
  },
  {
   "cell_type": "code",
   "execution_count": null,
   "metadata": {},
   "outputs": [],
   "source": [
    "--- 14-8 TEL 열 데이터 수정하기\n",
    "\n",
    "UPDATE TABLE_NOTNULL\n",
    "    SET TEL = '010-1234-5678'\n",
    "    WHERE LOGIN_ID = 'TEST_ID_01';"
   ]
  },
  {
   "cell_type": "code",
   "execution_count": null,
   "metadata": {},
   "outputs": [],
   "source": [
    "--- 14-9 NOT NULL 제약 조건 추가하기\n",
    "\n",
    "ALTER TABLE TABLE_NOTNULL\n",
    "MODIFY(TEL NOT NULL);\n",
    "\n",
    "SELECT OWNER, CONSTRAINT_NAME, CONSTRAINT_TYPE, TABLE_NAME\n",
    "    FROM USER_CONSTRAINTS;"
   ]
  },
  {
   "cell_type": "markdown",
   "metadata": {},
   "source": [
    "결과 :\n",
    "- TEL열에 NULL을 가진 데이터가 없으므로 NOT NULL제약조건이 별다른 오류 없이 지정된다.\n",
    "\n",
    "<img width=\"322\" alt=\"2-4-1(2)\" src=\"https://user-images.githubusercontent.com/53929665/94922650-90eecd80-04f5-11eb-832d-b01f4ac12618.PNG\">"
   ]
  },
  {
   "cell_type": "markdown",
   "metadata": {},
   "source": [
    "#### (4-2) 생성한 테이블에 제약 조건 이름을 직접 지정해서 추가하기\n",
    "- 제약 조건을 추가하면서 제약 조건 이름을 직접 지정하려면 CREATE와 마찬가지로 `CONSTRAINT`키워드를 사용한다. "
   ]
  },
  {
   "cell_type": "code",
   "execution_count": null,
   "metadata": {},
   "outputs": [],
   "source": [
    "--- 14-10\n",
    "\n",
    "ALTER TABLE TABLE_NOTNULL2\n",
    "MODIFY(TEL CONSTRAINT TBLNN_TEL_NN NOT NULL);\n",
    "\n",
    "SELECT OWNER, CONSTRAINT_NAME, CONSTRAINT_TYPE, TABLE_NAME\n",
    "    FROM USER_CONSTRAINTS;"
   ]
  },
  {
   "cell_type": "markdown",
   "metadata": {},
   "source": [
    "결과 :\n",
    "<img width=\"312\" alt=\"2-4-2\" src=\"https://user-images.githubusercontent.com/53929665/94922652-91876400-04f5-11eb-8733-f0291a9377dc.PNG\">"
   ]
  },
  {
   "cell_type": "markdown",
   "metadata": {},
   "source": [
    "#### (4-3) 생성한 제약 조건의 이름 변경하기\n",
    "- 이미 생성한 제약 조건 이름을 변경하려면 `ALTER`명령어에 `RENAME CONSTRAINT`키워드를 사용한다."
   ]
  },
  {
   "cell_type": "code",
   "execution_count": null,
   "metadata": {},
   "outputs": [],
   "source": [
    "--- 14-12\n",
    "\n",
    "ALTER TABLE TABLE_NOTNULL2\n",
    "RENAME CONSTRAINT TBLNN_TEL_NN TO TBLNN2_TEL_NN;\n",
    "\n",
    "SELECT OWNER, CONSTRAINT_NAME, CONSTRAINT_TYPE, TABLE_NAME\n",
    "    FROM USER_CONSTRAINTS;"
   ]
  },
  {
   "cell_type": "markdown",
   "metadata": {},
   "source": [
    "결과 : TABLE_NOTNULL2테이블에 속한 TEL열의 제약조건의 이름이 TBLNN_TEL_NN이 TBLNN2_TEL_NN로 변경되었다.\n",
    "\n",
    "<img width=\"311\" alt=\"2-4-3\" src=\"https://user-images.githubusercontent.com/53929665/94922654-91876400-04f5-11eb-8a56-43b0d1406e44.PNG\">"
   ]
  },
  {
   "cell_type": "markdown",
   "metadata": {},
   "source": [
    "#### (5) 제약 조건 삭제\n",
    "- `ALTER`명령어에 `DROP CONSTRAINT`키워드를 사용하면 지정한 제약 조건을 삭제할 수 있다."
   ]
  },
  {
   "cell_type": "code",
   "execution_count": null,
   "metadata": {},
   "outputs": [],
   "source": [
    "--- 14-13\n",
    "\n",
    "ALTER TABLE TABLE_NOTNULL2\n",
    "DROP CONSTRAINT TBLNN2_TEL_NN;\n",
    "\n",
    "DESC TABLE_NOTNULL2;"
   ]
  },
  {
   "cell_type": "markdown",
   "metadata": {},
   "source": [
    "결과 : NOT NULL제약조건이 삭제되어 Null? 열의 데이터 값이 Y로 수정된 것을 확인 할 수 있다.\n",
    "\n",
    "<img width=\"449\" alt=\"2-5\" src=\"https://user-images.githubusercontent.com/53929665/94922655-921ffa80-04f5-11eb-96b7-bdfa18d6bebe.PNG\">"
   ]
  },
  {
   "cell_type": "markdown",
   "metadata": {},
   "source": [
    "---\n",
    "### [ 3. 중복되지 않은 값 UNIQUE ]\n",
    "#### (1) 테이블을 생성하며 제약 조건 지정\n",
    "- `UNIQUE` 제약조건\n",
    "    - 열에 저장할 데이터의 중복을 허용하지 않고자 할 때 사용\n",
    "    - ☑ NULL은 값이 존재하지 않음을 의미하기 떄문에 중복 대상에서 제외된다.\n",
    "    - UNIQUE 제약 조건 역시 CREATE문으로 테이블을 생성할 때 지정할 수 있다."
   ]
  },
  {
   "cell_type": "code",
   "execution_count": null,
   "metadata": {},
   "outputs": [],
   "source": [
    "--- 14-14\n",
    "\n",
    "CREATE TABLE TABLE_UNIQUE(\n",
    "    LOGIN_ID    VARCHAR2(20)    UNIQUE,\n",
    "    LOGIN_PWD   VARCHAR2(20)    NOT NULL,\n",
    "    TEL         VARCHAR2(20)\n",
    ");\n",
    "\n",
    "DESC TABLE_UNIQUE;"
   ]
  },
  {
   "cell_type": "markdown",
   "metadata": {},
   "source": [
    "결과 :\n",
    "<img width=\"447\" alt=\"3-1\" src=\"https://user-images.githubusercontent.com/53929665/94929026-7f122800-04ff-11eb-96da-3dfff986ecfd.PNG\">"
   ]
  },
  {
   "cell_type": "markdown",
   "metadata": {},
   "source": [
    "#### (2) 제약 조건 확인\n",
    "- `USER_CONSTRAINTS`데이터 사전에서  \n",
    "CONSTRAINT_TYPE 열 값이 `U`일 경우에 UNIQUE제약 조건을 의미한다."
   ]
  },
  {
   "cell_type": "code",
   "execution_count": null,
   "metadata": {},
   "outputs": [],
   "source": [
    "--- 14-15\n",
    "\n",
    "SELECT OWNER, CONSTRAINT_NAME, CONSTRAINT_TYPE, TABLE_NAME\n",
    "    FROM USER_CONSTRAINTS\n",
    "    WHERE TABLE_NAME = 'TABLE_UNIQUE';"
   ]
  },
  {
   "cell_type": "markdown",
   "metadata": {},
   "source": [
    "결과 :\n",
    "\n",
    "<img width=\"305\" alt=\"3-2\" src=\"https://user-images.githubusercontent.com/53929665/94929032-7faabe80-04ff-11eb-894b-05696611133f.PNG\">"
   ]
  },
  {
   "cell_type": "markdown",
   "metadata": {},
   "source": [
    "#### (3) 중복을 허락하지 않는 UNIQUE\n",
    "- `UNIQUE` 제약 조건을 지정한 LOGIN_ID 열은 중복 값이 저장되지 않는다."
   ]
  },
  {
   "cell_type": "code",
   "execution_count": null,
   "metadata": {},
   "outputs": [],
   "source": [
    "--- 14-16 TABLE_UNIQUE 테이블에 데이터 입력하기 (첫번째 입력)\n",
    "\n",
    "INSERT INTO TABLE_UNIQUE(LOGIN_ID, LOGIN_PWD, TEL)\n",
    "VALUES ('TEST_ID_01', 'PWD01', '010-1234-5678');\n",
    "\n",
    "SELECT * FROM TABLE_UNIQUE;"
   ]
  },
  {
   "cell_type": "code",
   "execution_count": null,
   "metadata": {},
   "outputs": [],
   "source": [
    "--- 14-17 LOGIN_ID 열에 중복되는 데이터 넣기 (같은 ID 두번째 입력)\n",
    "\n",
    "INSERT INTO TABLE_UNIQUE(LOGIN_ID, LOGIN_PWD, TEL)\n",
    "VALUES ('TEST_ID_01', 'PWD01', '010-1234-5678');"
   ]
  },
  {
   "cell_type": "markdown",
   "metadata": {},
   "source": [
    "결과 : UNIQUE 제약 조건이 지정되어 있는 LOGIN_ID 열에서의 중복된 값으로 인한 에러 발생\n",
    "\n",
    "<img width=\"271\" alt=\"3-3(1)\" src=\"https://user-images.githubusercontent.com/53929665/94929033-80435500-04ff-11eb-9ce4-79d5531aab70.PNG\">"
   ]
  },
  {
   "cell_type": "code",
   "execution_count": null,
   "metadata": {},
   "outputs": [],
   "source": [
    "-- 14-18  TABLE_UNIQUE 테이블에 데이터 입력하기 (다른 ID 입력)\n",
    "\n",
    "INSERT INTO TABLE_UNIQUE(LOGIN_ID, LOGIN_PWD, TEL)\n",
    "VALUES('TEST_ID_02', 'PWD01', '010-1234-5678');\n",
    "\n",
    "SELECT * FROM TABLE_UNIQUE;"
   ]
  },
  {
   "cell_type": "markdown",
   "metadata": {},
   "source": [
    "결과 : \n",
    "- 다른 값을 지정할 경우는 문제 없이 잘 실행된다.\n",
    "- 또한, LOGIN_PWD는 NOT NULL제한조건을 가졌기에 중복된 값을 가져도 상관없다.\n",
    "\n",
    "<img width=\"198\" alt=\"3-3(2)\" src=\"https://user-images.githubusercontent.com/53929665/94929035-80dbeb80-04ff-11eb-9000-c4b7dcb435b7.PNG\">"
   ]
  },
  {
   "cell_type": "markdown",
   "metadata": {},
   "source": [
    "#### (4) UNIQUE 제약 조건과 NULL값\n",
    "- `UNIQUE`제약 조건은 열 값의 중복은 허용하지 않지만 NULL 값은 저장 가능하다.  \n",
    "따라서, `UNIQUE`제약 조건이 지저왼 열에는 NULL이 여러 개 존재 할 수 있다."
   ]
  },
  {
   "cell_type": "code",
   "execution_count": null,
   "metadata": {},
   "outputs": [],
   "source": [
    "--- 14-19 UNIQUE 제약 조건이 지정된 열에 NULL 값 입력하기\n",
    "\n",
    "INSERT INTO TABLE_UNIQUE(LOGIN_ID, LOGIN_PWD, TEL)\n",
    "VALUES(NULL, 'PWD01', '010-1234-5678');\n",
    "\n",
    "SELECT * FROM TABLE_UNIQUE;"
   ]
  },
  {
   "cell_type": "markdown",
   "metadata": {},
   "source": [
    "결과 :\n",
    "\n",
    "<img width=\"201\" alt=\"3-4\" src=\"https://user-images.githubusercontent.com/53929665/94929037-80dbeb80-04ff-11eb-9f94-0a24185a379b.PNG\">"
   ]
  },
  {
   "cell_type": "markdown",
   "metadata": {},
   "source": [
    "#### (5) 테이블을 생성하며 제약 조건 이름 직접 지정\n",
    "- `UNIQUE`제약 조건 역시 조건 이름을 지정할 수 있으며 지정하지 않으면 오라클이 자동으로 제약 조건 이름을 정해 준다."
   ]
  },
  {
   "cell_type": "code",
   "execution_count": null,
   "metadata": {},
   "outputs": [],
   "source": [
    "--- 14-21 테이블 생성할 때 UNIQUE 제약 조건 설정 및 제약 조건 확인하기\n",
    "\n",
    "CREATE TABLE TABLE_UNIQUE2(\n",
    "    LOGIN_ID    VARCHAR2(20) CONSTRAINT TBLUNQ2_LGNID_UNQ UNIQUE,\n",
    "    LOGIN_PWD   VARCHAR2(20) CONSTRAINT TBLUNQ2_LGNPW_NN NOT NULL,\n",
    "    TEL         VARCHAR2(20)\n",
    ");\n",
    "\n",
    "SELECT OWNER, CONSTRAINT_NAME, CONSTRAINT_TYPE, TABLE_NAME\n",
    "    FROM USER_CONSTRAINTS\n",
    "    WHERE TABLE_NAME LIKE 'TABLE_UNIQUE%';"
   ]
  },
  {
   "cell_type": "markdown",
   "metadata": {},
   "source": [
    "결과 :\n",
    "\n",
    "<img width=\"318\" alt=\"3-5\" src=\"https://user-images.githubusercontent.com/53929665/94929039-81748200-04ff-11eb-8de6-d3026f00b69f.PNG\">"
   ]
  },
  {
   "cell_type": "markdown",
   "metadata": {},
   "source": [
    "#### (6) 이미 생성한 테이블에 제약 조건 지정\n",
    "- `ALTER`명령어로 이미 생성되어 있는 테이블에 `UNIQUE`제약조건을 추가할 수 있다.\n",
    "\n",
    "#### (6-1) 생성한 테이블에 제약 조건 추가하기"
   ]
  },
  {
   "cell_type": "code",
   "execution_count": null,
   "metadata": {},
   "outputs": [],
   "source": [
    "--- 14-23 이미 생성한 테이블 열에 UNIQUE 제약 조건 추가하기\n",
    "\n",
    "ALTER TABLE TABLE_UNIQUE\n",
    "MODIFY(TEL UNIQUE);"
   ]
  },
  {
   "cell_type": "markdown",
   "metadata": {},
   "source": [
    "결과 : TEL열에 이미 중복된 열이 있기 때문에 오류 발생\n",
    "\n",
    "<img width=\"278\" alt=\"3-6-1(1)\" src=\"https://user-images.githubusercontent.com/53929665/94929041-81748200-04ff-11eb-9940-f78e23cf09f8.PNG\">"
   ]
  },
  {
   "cell_type": "markdown",
   "metadata": {},
   "source": [
    "- 중복된 열을 모두 삭제하기 위해 다음과 같은 쿼리 진행"
   ]
  },
  {
   "cell_type": "code",
   "execution_count": null,
   "metadata": {},
   "outputs": [],
   "source": [
    "--- 14-24 TEL 열 값을 모두 NULL값으로 변경하기\n",
    "\n",
    "UPDATE TABLE_UNIQUE\n",
    "    SET TEL = NULL;\n",
    "\n",
    "SELECT * FROM TABLE_UNIQUE;"
   ]
  },
  {
   "cell_type": "markdown",
   "metadata": {},
   "source": [
    "- 제약 조건 설정하기"
   ]
  },
  {
   "cell_type": "code",
   "execution_count": null,
   "metadata": {},
   "outputs": [],
   "source": [
    "--- 14-25\n",
    "ALTER TABLE TABLE_UNIQUE\n",
    "MODIFY(TEL UNIQUE);\n",
    "\n",
    "SELECT OWNER, CONSTRAINT_NAME, CONSTRAINT_TYPE, TABLE_NAME\n",
    "    FROM USER_CONSTRAINTS\n",
    "    WHERE TABLE_NAME LIKE 'TABLE_UNIQUE%';"
   ]
  },
  {
   "cell_type": "markdown",
   "metadata": {},
   "source": [
    "결과 :\n",
    "\n",
    "<img width=\"315\" alt=\"3-6-1(2)\" src=\"https://user-images.githubusercontent.com/53929665/94929043-820d1880-04ff-11eb-8a39-df09f4742985.PNG\">"
   ]
  },
  {
   "cell_type": "markdown",
   "metadata": {},
   "source": [
    "#### (6-2) 생성한 테이블에 제약 조건 이름 직접 지정하거나 바꾸기\n",
    "- `UNIQUE`제약 조건 역시 `CONSTRAINT`를 이용하여 이름을 바꿀 수 있다."
   ]
  },
  {
   "cell_type": "code",
   "execution_count": null,
   "metadata": {},
   "outputs": [],
   "source": [
    "--- 14-26\n",
    "\n",
    "ALTER TABLE TABLE_UNIQUE2\n",
    "MODIFY(TEL CONSTRAINT TBLUNQ_TEL_UNQ UNIQUE);\n",
    "\n",
    "SELECT OWNER, CONSTRAINT_NAME, CONSTRAINT_TYPE, TABLE_NAME\n",
    "    FROM USER_CONSTRAINTS\n",
    "    WHERE TABLE_NAME LIKE 'TABLE_UNIQUE%';"
   ]
  },
  {
   "cell_type": "markdown",
   "metadata": {},
   "source": [
    "결과 :\n",
    "\n",
    "<img width=\"315\" alt=\"3-6-2\" src=\"https://user-images.githubusercontent.com/53929665/94929044-820d1880-04ff-11eb-9163-4b63f6d783d4.PNG\">"
   ]
  },
  {
   "cell_type": "markdown",
   "metadata": {},
   "source": [
    "#### (6-3) 생성한 UNIQUE 제약 조건의 이름 변경하기\n",
    "- `RENAME CONSTRAINT`"
   ]
  },
  {
   "cell_type": "code",
   "execution_count": null,
   "metadata": {},
   "outputs": [],
   "source": [
    "--- 14-27\n",
    "\n",
    "ALTER TABLE TABLE_UNIQUE2\n",
    "RENAME CONSTRAINT TBLUNQ_TEL_UNQ TO TBLUNQ2_TEL_UNQ;\n",
    "\n",
    "SELECT OWNER, CONSTRAINT_NAME, CONSTRAINT_TYPE, TABLE_NAME\n",
    "    FROM USER_CONSTRAINTS\n",
    "    WHERE TABLE_NAME LIKE 'TABLE_UNIQUE%';"
   ]
  },
  {
   "cell_type": "markdown",
   "metadata": {},
   "source": [
    "결과 :\n",
    "\n",
    "<img width=\"305\" alt=\"3-6-3\" src=\"https://user-images.githubusercontent.com/53929665/94929045-82a5af00-04ff-11eb-8a93-2c7f280c3115.PNG\">"
   ]
  },
  {
   "cell_type": "markdown",
   "metadata": {},
   "source": [
    "#### (7) 제약 조건 삭제\n",
    "- `DROP CONSTRAINT`"
   ]
  },
  {
   "cell_type": "code",
   "execution_count": null,
   "metadata": {},
   "outputs": [],
   "source": [
    "--- 14-28\n",
    "\n",
    "ALTER TABLE TABLE_UNIQUE2\n",
    "DROP CONSTRAINT TBLUNQ2_TEL_UNQ;\n",
    "\n",
    "SELECT OWNER, CONSTRAINT_NAME, CONSTRAINT_TYPE, TABLE_NAME\n",
    "    FROM USER_CONSTRAINTS\n",
    "    WHERE TABLE_NAME LIKE 'TABLE_UNIQUE%';"
   ]
  },
  {
   "cell_type": "markdown",
   "metadata": {},
   "source": [
    "결과 :  TBLUNQ2_TEL_UNQ 제약조건이 삭제되었음을 확인 할 수 있다.\n",
    "\n",
    "<img width=\"317\" alt=\"3-7\" src=\"https://user-images.githubusercontent.com/53929665/94929048-833e4580-04ff-11eb-8fb3-87f14704a663.PNG\">"
   ]
  },
  {
   "cell_type": "markdown",
   "metadata": {},
   "source": [
    "---\n",
    "### [ 4. 유일하게 하나만 있는 값 PRIMARY KEY ]\n",
    "#### (1) 테이블을 생성하며 제약 조건 지정하기\n",
    "- `PRIMARY KEY`제약조건 :\n",
    "    - `UNIQUE`와 `NOT NULL`제약 조건의 특성을 모두 가지는 제약 조건이다.\n",
    "    - 즉, 데이터 중복을 허용하지 않고, NULL도 허용하지 않는다.\n",
    "    - 각 행을 식별하는 데 주로 활용한다.\n",
    "    - 테이블에 이미 `PRIMARY KEY` 제약 조건이 지정되어있다면 다른 열에 추가할 수 없다.\n",
    "    - 특정 열을 `PRYMARY KEY`로 지정하면 해당 열에는 자동으로 `인덱스`가 만들어진다.\n",
    "    - ex) 주민등록번호, 사원 번호\n",
    "    \n",
    "#### (1-1) 테이블을 생성할 때 특정 열에 PRIMARY KEY 설정하기\n",
    "- `CREATE`문으로 테이블을 생성하면서 지정할 수 있다."
   ]
  },
  {
   "cell_type": "code",
   "execution_count": null,
   "metadata": {},
   "outputs": [],
   "source": [
    "--- 14-29\n",
    "\n",
    "CREATE TABLE TABLE_PK(\n",
    "    LOGIN_ID    VARCHAR2(20) PRIMARY KEY,\n",
    "    LOGIN_PWD   VARCHAR2(20) NOT NULL,\n",
    "    TEL         VARCHAR2(20)\n",
    ");\n",
    "\n",
    "DESC TABLE_PK;"
   ]
  },
  {
   "cell_type": "markdown",
   "metadata": {},
   "source": [
    "결과 :\n",
    "![4-1-1](https://user-images.githubusercontent.com/53929665/94995181-958bb280-05d7-11eb-929c-03d5261f96e9.JPG)"
   ]
  },
  {
   "cell_type": "markdown",
   "metadata": {},
   "source": [
    "#### (1-2) 생성한 PRIMARY KEY 확인하기"
   ]
  },
  {
   "cell_type": "code",
   "execution_count": null,
   "metadata": {},
   "outputs": [],
   "source": [
    "--- 14-30\n",
    "\n",
    "SELECT OWNER, CONSTRAINT_NAME, CONSTRAINT_TYPE, TABLE_NAME\n",
    "    FROM USER_CONSTRAINTS\n",
    "    WHERE TABLE_NAME LIKE 'TABLE_PK%';"
   ]
  },
  {
   "cell_type": "markdown",
   "metadata": {},
   "source": [
    "결과 :\n",
    "\n",
    "![4-1-2](https://user-images.githubusercontent.com/53929665/94995182-96bcdf80-05d7-11eb-854d-b7d11ecaea35.JPG)"
   ]
  },
  {
   "cell_type": "markdown",
   "metadata": {},
   "source": [
    "#### (1-3) 생성한 PRIMARY KEY를 통해 자동 생성된 INDEX확인하기"
   ]
  },
  {
   "cell_type": "code",
   "execution_count": null,
   "metadata": {},
   "outputs": [],
   "source": [
    "--- 14-31\n",
    "\n",
    "SELECT INDEX_NAME, TABLE_OWNER, TABLE_NAME\n",
    "    FROM USER_INDEXES\n",
    "    WHERE TABLE_NAME LIKE 'TABLE_PK%';"
   ]
  },
  {
   "cell_type": "markdown",
   "metadata": {},
   "source": [
    "결과 :\n",
    "\n",
    "![4-1-3](https://user-images.githubusercontent.com/53929665/94995183-96bcdf80-05d7-11eb-992b-28a720e18568.JPG)\n"
   ]
  },
  {
   "cell_type": "markdown",
   "metadata": {},
   "source": [
    "#### (2) 테이블을 생성하며 제약 조건 이름 직접 지정하기\n",
    "- 다른 제약 조건과 마찬가지로 `PRIMARY KEY`역시 제약 조건의 이름을 `CONSTRAINT`로 직접 지정할 수 있다.\n",
    "- 또한, 제약 조건 이름을 직접 지정하면 자동으로 생성한 인덱스 이름도 똑같이 적용된다."
   ]
  },
  {
   "cell_type": "code",
   "execution_count": null,
   "metadata": {},
   "outputs": [],
   "source": [
    "--- 14-32\n",
    "\n",
    "CREATE TABLE TABLE_PK2(\n",
    "    LOGIN_ID    VARCHAR2(20) CONSTRAINT TBLPK2_LGNID_PK PRIMARY KEY,\n",
    "    LOGIN_PWD   VARCHAR2(20) CONSTRAINT TBLPK2_LGNPW_NN NOT NULL,\n",
    "    TEL         VARCHAR2(20)\n",
    ");\n",
    "\n",
    "DESC TABLE_PK2;"
   ]
  },
  {
   "cell_type": "markdown",
   "metadata": {},
   "source": [
    "결과 :\n",
    "\n",
    "![4-2](https://user-images.githubusercontent.com/53929665/94995185-97ee0c80-05d7-11eb-9863-e560c1da235d.JPG)\n",
    "- 직접 지정한 제약 조건 이름과 동일하게 자동으로 생성된 인덱스 이름\n",
    "![4-2(2)](https://user-images.githubusercontent.com/53929665/94995184-97557600-05d7-11eb-90fd-aa260fa0d280.JPG)"
   ]
  },
  {
   "cell_type": "markdown",
   "metadata": {},
   "source": [
    "#### (3) PRIMARY KEY 제약 조건을 지정한 열 확인(중복 값을 입력했을 때)\n",
    "- `PRIMARY KEY` 제약 조건을 지정한 열에는 중복 값과 NULL이 허용되지 않는다."
   ]
  },
  {
   "cell_type": "code",
   "execution_count": null,
   "metadata": {},
   "outputs": [],
   "source": [
    "--- 14-33 TABLE_PK 테이블에 데이터 입력하기\n",
    "\n",
    "INSERT INTO TABLE_PK(LOGIN_ID, LOGIN_PWD, TEL)\n",
    "    VALUES('TEST_ID_01', 'PWD01', '010-1234-5678');\n",
    "    \n",
    "SELECT * FROM TABLE_PK;"
   ]
  },
  {
   "cell_type": "code",
   "execution_count": null,
   "metadata": {},
   "outputs": [],
   "source": [
    "--- 14-34 TABLE_PK 테이블에 중복되는 데이터 입력하기\n",
    "\n",
    "INSERT INTO TABLE_PK(LOGIN_ID, LOGIN_PWD, TEL)\n",
    "    VALUES('TEST_ID_01', 'PWD01', '010-2345-6789');"
   ]
  },
  {
   "cell_type": "markdown",
   "metadata": {},
   "source": [
    "결과 : 중복 삽입으로 인한 오류 발생\n",
    "\n",
    "![4-3](https://user-images.githubusercontent.com/53929665/94995186-97ee0c80-05d7-11eb-9e20-47cfd234adb7.JPG)"
   ]
  },
  {
   "cell_type": "markdown",
   "metadata": {},
   "source": [
    "#### (4) PRIMARY KEY 제약 조건을 지정한 열 확인(NULL 값을 입력했을 때)"
   ]
  },
  {
   "cell_type": "code",
   "execution_count": null,
   "metadata": {},
   "outputs": [],
   "source": [
    "--- 14-35 NULL 값을 명시적으로 입력하기\n",
    "\n",
    "INSERT INTO TABLE_PK(LOGIN_ID, LOGIN_PWD, TEL)\n",
    "    VALUES(NULL, 'PWD02', '010-2345-6789');"
   ]
  },
  {
   "cell_type": "code",
   "execution_count": null,
   "metadata": {},
   "outputs": [],
   "source": [
    "--- 14-36 NULL 값을 암묵적으로 입력하기\n",
    "\n",
    "INSERT INTO TABLE_PK(LOGIN_PWD, TEL)\n",
    "    VALUES('PWD02', '010-2345-6789');"
   ]
  },
  {
   "cell_type": "markdown",
   "metadata": {},
   "source": [
    "결과 : NULL값 삽입으로 인한 동일 오류 발생\n",
    "\n",
    "![4-4](https://user-images.githubusercontent.com/53929665/94995187-9886a300-05d7-11eb-9ed6-ea96ca20fb4a.JPG)"
   ]
  },
  {
   "cell_type": "markdown",
   "metadata": {},
   "source": [
    "> 마지막으로, `PRIAMRY KEY`또한 다른 제약 조건과 동일하게 \n",
    "> `ALTER`문의 `MODIFY`, `RENAME`, `DROP`을 통해 추가/수정/이름변경/삭제 등의 수행이 가능하다.  \n",
    ">   \n",
    "> 하지만, `PRIMARY KEY` 제약 조건은 테이블 데이터를 식별하는 유일한 값을 의미하기에  \n",
    "> 일반적으로 테이블의 생성 시점에 확정시키는 경우가 많다.  \n",
    "> 즉, `ALTER`문을 사용하는 경우가 드물다는 의미이다.  \n",
    ">  \n",
    "> 또한, `PRIMARY KEY`제약 조건을 지정하려는 열에 중복 값이나 NULL이 있을 경우에도 동작하지 않는다."
   ]
  },
  {
   "cell_type": "markdown",
   "metadata": {},
   "source": [
    "---\n",
    "### [ 5. 다른 테이블과 관계를 맺는 FOREIGN KEY ]\n",
    "- `FOREIGN KEY` :\n",
    "    - 서로 다른 테이블 간 관계를 정의하는 데 사용하는 제약 조건\n",
    "    - 특정 테이블에서 해당 제약 조건을 지정한 열은  \n",
    "    다른 테이블의 특정 열에서 참조하겠다는 의미로 지정할 수 있다.\n",
    "    - 참조 대상 테이블 -> 부모  \n",
    "    참조하는 테이블 -> 자식\n",
    "    - ex) EMP테이블의 DEPTNO열이 DEPT테이블의 DPETNO열을 참조"
   ]
  },
  {
   "cell_type": "code",
   "execution_count": null,
   "metadata": {},
   "outputs": [],
   "source": [
    "--- 14-37  EMP 테이블과 DEPT 테이블의 제약 조건 살펴보기\n",
    "SELECT OWNER, CONSTRAINT_NAME, CONSTRAINT_TYPE, TABLE_NAME,R_OWNER,R_CONSTRAINT_NAME\n",
    "    FROM USER_CONSTRAINTS\n",
    "    WHERE TABLE_NAME IN('EMP', 'DEPT');"
   ]
  },
  {
   "cell_type": "markdown",
   "metadata": {},
   "source": [
    "결과 :\n",
    "- CONSTRAINT_TYPE열 값이 `R`일 경우 외래키를 의미한다.\n",
    "- R_CONSTRAINT_NAME의 `PK_DEPT`는 DEPT 테이블의 PRIMARY KEY,  \n",
    "즉 DEPT테이블의 DEPTNO열을 참조하는 의미이다.\n",
    "\n",
    "![5(1)](https://user-images.githubusercontent.com/53929665/94997539-d63ef800-05e6-11eb-94e8-10c45a820469.JPG)\n"
   ]
  },
  {
   "cell_type": "markdown",
   "metadata": {},
   "source": [
    "- 이렇게 참조 관계를 정의하면 EMP 테이블의 DEPTNO 열에는  \n",
    "DEPTNO열에 존재하는 값과 NULL만 저장할 수 있다.\n",
    "- 따라서 다음과 같이 EMP테이블에 DEPTNO 열 값을 50으로 지정하고  INSERT문을 사용하면 오류가 발생한다."
   ]
  },
  {
   "cell_type": "code",
   "execution_count": null,
   "metadata": {},
   "outputs": [],
   "source": [
    "--- 14-38 FOREIGN KEY가 참조하는 열에 존재하지 않는 데이터 입력하기\n",
    "\n",
    "INSERT INTO EMP(EMPNO, ENAME, JOB, MGR, HIREDATE, SAL, COMM, DEPTNO)\n",
    "VALUES(9999, '홍길동', 'CLERK', '7788', TO_DATE('2020/10/04', 'YYYY/MM/DD'), 1200, NULL, 50);"
   ]
  },
  {
   "cell_type": "markdown",
   "metadata": {},
   "source": [
    "결과 :\n",
    "- 오류메시지에 언급한 `부모 키가 없습니다`라는 말은  \n",
    "DEPT테이블의 DEPTNO열에 50이 존재하지 않는다는 뜻이다.\n",
    "![5(2)](https://user-images.githubusercontent.com/53929665/94997540-d6d78e80-05e6-11eb-9935-97f1b50085d0.JPG)\n"
   ]
  },
  {
   "cell_type": "markdown",
   "metadata": {},
   "source": [
    "#### (1) FOREIGN KEY 지정하기\n",
    "- 기본형식\n",
    "\n",
    "```SQL\n",
    "CREATE TABLE 테이블 이름(\n",
    "    ...(다른 열 정의),\n",
    "    열 자료형 CONSTRAINT [제약 조건 이름] REFERENCES 참조 테이블(참조할 열)\n",
    ");\n",
    "```\n",
    "\n",
    "- 제약 조건 이름을 지정하지 않을 경우\n",
    "\n",
    "```SQL\n",
    "CREATE TABLE 테이블 이름(\n",
    "    ...(다른 열 정의),\n",
    "    열 자료형 CONSTRAINT [제약 조건 이름] REFERENCES 참조 테이블(참조할 열)\n",
    ");\n",
    "```\n",
    "\n",
    "- 열을 모두 정의한 후 제약 조건을 지정할 경우\n",
    "\n",
    "```SQL\n",
    "CREATE TABLE 테이블 이름(\n",
    "    ...(다른 열 정의),\n",
    "    CONSTRAINT [제약 조건 이름] FOREIGN KEY(열)\n",
    "    REFERENCES 참조 테이블(참조할 열)\n",
    ");\n",
    "```"
   ]
  },
  {
   "cell_type": "markdown",
   "metadata": {},
   "source": [
    "#### (1-1) `FOREIGN KEY` 사용하기"
   ]
  },
  {
   "cell_type": "code",
   "execution_count": null,
   "metadata": {},
   "outputs": [],
   "source": [
    "--- 14-39 DEPT_FK 테이블 생성하기\n",
    "\n",
    "CREATE TABLE DEPT_FK (\n",
    "DEPTNO NUMBER(2) CONSTRAINT DEPTFK_DEPTNO_PK PRIMARY KEY,\n",
    "DNAME  VARCHAR2(14),\n",
    "LOC    VARCHAR2(13)\n",
    ");"
   ]
  },
  {
   "cell_type": "code",
   "execution_count": null,
   "metadata": {},
   "outputs": [],
   "source": [
    "--- 14-40 EMP_FK 테이블 생성하기\n",
    "\n",
    "CREATE TABLE EMP_FK(\n",
    "    EMPNO     NUMBER(4) CONSTRAINT EMPFK_EMPNO_PK PRIMARY KEY,\n",
    "    ENAME     VARCHAR2(10),\n",
    "    JOB       VARCHAR2(9),\n",
    "    MGR       NUMBER(4),\n",
    "    HIREDATE  DATE,\n",
    "    SAL       NUMBER(7, 2),\n",
    "    COMM      NUMBER(7, 2),\n",
    "    DEPTNO    NUMBER(2) CONSTRAINT EMPFK_EDEPTNO_FK REFERENCES DEPT_FK(DEPTNO)\n",
    ");\n",
    "\n",
    "DESC EMP_FK;"
   ]
  },
  {
   "cell_type": "markdown",
   "metadata": {},
   "source": [
    "결과 : EMP_FK 테이블의 DEPTNO열은 이제 DEPT_FK테이블의 DEPTNO 열을 참조하는 FOREIGN KEY제약 조건이 지정되었다.\n"
   ]
  },
  {
   "cell_type": "markdown",
   "metadata": {},
   "source": [
    "#### (1-2) `FOREIGN KEY`지정할 때 유의점\n",
    "> 위에서 테이블을 만들고 나서 DEPT_FK 테이블에는 데이터가 아직 없는 상태이다.  \n",
    "> 이로 인해 EMP_FK테이블에 데이터를 추가할 때 부서 번호(DEPTNO)를 지정하면 오류가 나서 실행되지 않는다.  \n",
    ">  \n",
    "> 따라서,  ☑ 참조하는 열에 존재하지 않는 값을 사용하는 것은 불가능하다.\n"
   ]
  },
  {
   "cell_type": "code",
   "execution_count": null,
   "metadata": {},
   "outputs": [],
   "source": [
    "--- 14-41 EMP_FK 테이블에 데이터 삽입하기 (DEPTNO 데이터가 아직 DEPT_FK 테이블에 없을 때)\n",
    "\n",
    "INSERT INTO EMP_FK\n",
    "VALUES(9999, 'TEST_NAME', 'TEST_JOB', NULL, TO_DATE('2001/01/01', 'YYYY/MM/DD'), 3000, NULL, 10);"
   ]
  },
  {
   "cell_type": "markdown",
   "metadata": {},
   "source": [
    "결과 : 오류 발생\n",
    "![5-1-2(1)](https://user-images.githubusercontent.com/53929665/94997541-d7702500-05e6-11eb-837e-7b4612c317af.JPG)\n"
   ]
  },
  {
   "cell_type": "markdown",
   "metadata": {},
   "source": [
    "- 하지만, DEPT_FK 테이블에 데이터를 삽입하고 재실행하면 정상적으로 실행된다."
   ]
  },
  {
   "cell_type": "code",
   "execution_count": null,
   "metadata": {},
   "outputs": [],
   "source": [
    "--- 14-42 DEPT_FK에 데이터 삽입하기\n",
    "\n",
    "INSERT INTO DEPT_FK\n",
    "VALUES(10, 'TEST_DNAME', 'TEST_LOC');"
   ]
  },
  {
   "cell_type": "code",
   "execution_count": null,
   "metadata": {},
   "outputs": [],
   "source": [
    "--- 14-43 EMP_FK 테이블에 데이터 삽입하기\n",
    "\n",
    "INSERT INTO EMP_FK\n",
    "VALUES(9999, 'TEST_NAME', 'TEST_JOB', NULL, TO_DATE('2001/01/01', 'YYYY/MM/DD'), 3000, NULL, 10);\n",
    "\n",
    "SELECT * FROM EMP_FK"
   ]
  },
  {
   "cell_type": "markdown",
   "metadata": {},
   "source": [
    "결과 : 정상적으로 실행됨\n",
    "![5-1-2(2)](https://user-images.githubusercontent.com/53929665/94997542-d7702500-05e6-11eb-802c-1c04b19d28e2.JPG)"
   ]
  },
  {
   "cell_type": "markdown",
   "metadata": {},
   "source": [
    "#### (2) FOREIGN KEY 참조 행 데이터 삭제하기\n",
    "- 현재 DEPT_FK 테이블에는 10번 부서 데이터가 저장되어있고  \n",
    "EMP_FK테이블에는 이 10번 부서를 참조하는 데이터가 있다.\n",
    "- 이 경우에 DEPT_FK테이블의 DEPTNO 열에 저장된 10번 부서 데이터는 삭제할 수 없다."
   ]
  },
  {
   "cell_type": "code",
   "execution_count": null,
   "metadata": {},
   "outputs": [],
   "source": [
    "--- 14-44 DEPT_FK 테이블의 10번 부서 데이터를 삭제하려고 시도할 경우\n",
    "\n",
    "DELETE FROM DEPT_FK\n",
    "WHERE DEPTNO = 10;"
   ]
  },
  {
   "cell_type": "markdown",
   "metadata": {},
   "source": [
    "결과 : 삭제하려는 DEPTNO값을 참조하는 데이터가 존재하기 때문에 오류 발생\n"
   ]
  },
  {
   "cell_type": "markdown",
   "metadata": {},
   "source": [
    "- DEPT_FK 테이블의 데이터를 삭제하려면 다음 방법 중 한 가지를 사용해야 한다.\n",
    "> 1. 현재 삭제하려는 열 값을 참조하는 데이터를 먼저 삭제한다.  \n",
    "> ex) EMP_FK 테이블의 DEPTNO가 10번인 데이터를 삭제한 후 DEPT_FK테이블의 10번 부서 삭제  \n",
    ">   \n",
    ">   \n",
    "> 2. 현재 삭제하려는 열 값을 참조하는 데이터를 수정한다.  \n",
    "> ex) EMP_FK 테이블의 DEPTNO가 10번인 데이터를 다른 부서 번호 또는 NULL로 변경한 후 DEPT_FK테이블의 10번 부서 삭제\n",
    ">  \n",
    ">  \n",
    "> 3. 현재 삭제하려는 열을 참조하는 자식 테이블의 FOREIGN KEY 제약 조건을 해제한다.\n",
    "- 하지만, 위 방법은 귀찮은 작업이며, 까다로운 작업이다.  \n",
    "따라서, 제약 조건을 처음 지정할 때 다음과 같이 추가 옵션을 지정하는 방법도 사용한다.  \n",
    "이 방법은 데이터 삭제와 더불어 삭제할 데이터를 참조하는 처리를 어떻게 할지 정할 수 있다."
   ]
  },
  {
   "cell_type": "markdown",
   "metadata": {},
   "source": [
    "#### (2-1) 열 데이터를 삭제할 때 이 데이터를 참조하고 있는 데이터도 함께 삭제\n",
    "- 기본형식 : 기존 형식에서 `ON DELETE CASCADE` 옵션 추가\n",
    "```SQL\n",
    "CONSTRAINT [제약 조건 이름] REFERENCES 참조 테이블(참조할 열) ON DELETE CASCADE\n",
    "```\n",
    "\n",
    "\n",
    "예시)  \n",
    "(STEP1) 부모 테이블인 DEPT_FK 테이블의 10번 부서를 삭제하게되면,  \n",
    "(STEP2) 자식 테이블인 EMP_FK 테이블에서 10번 부서에 속한 사원 데이터가 함께 삭제된다."
   ]
  },
  {
   "cell_type": "markdown",
   "metadata": {},
   "source": [
    "#### (2-2) 열 데이터를 삭제할 때 이 데이터를 참조하는 데이터를 NULL로 수정"
   ]
  },
  {
   "cell_type": "markdown",
   "metadata": {},
   "source": [
    "- 기본형식 : 기존 형식에서 `ON DELETE SET NULL` 옵션 추가\n",
    "```SQL\n",
    "CONSTRAINT [제약 조건 이름] REFERENCES 참조 테이블(참조할 열) ON DELETE SET NULL\n",
    "```\n",
    "\n",
    "\n",
    "예시)  \n",
    "(STEP1) 부모 테이블인 DEPT_FK테이블의 10번 부서를 삭제하게되면,  \n",
    "(STEP2) 자식 테이블인 EMP_FK테이블에서 10번 부서에 속한 사원의 DEPTNO 열 값을 NULL로 변경"
   ]
  },
  {
   "cell_type": "markdown",
   "metadata": {},
   "source": [
    "---\n",
    "### [ 6. 데이터 형태와 범위를 정하는 CHECK ]\n",
    "- `CHECK`제약조건 :\n",
    "    - 열에 저장할 수 있는 값의 범위 또는 패턴을 정의할 때 사용한다.\n",
    "    - ex) 시간을 저장할 열 데이터는 0에서 23까지의 숫자만 허용\n",
    "    \n",
    "#### (1) 테이블을 생성할 때 `CHECK` 제약 조건 설정하기"
   ]
  },
  {
   "cell_type": "code",
   "execution_count": null,
   "metadata": {},
   "outputs": [],
   "source": [
    "--- 14-45\n",
    "CREATE TABLE TABLE_CHECK(\n",
    "    LOGIN_ID  VARCHAR2(20) CONSTRAINT TBLCK_LOGINID_PK PRIMARY KEY,\n",
    "    LOGIN_PWD VARCHAR2(20) CONSTRAINT TBLCK_LOGNPW_CK CHECK (LENGTH(LOGIN_PWD)>3),\n",
    "    TEL       VARCHAR2(20)\n",
    ");"
   ]
  },
  {
   "cell_type": "markdown",
   "metadata": {},
   "source": [
    "- `CHECK`키워드 다음의 `LENGTH(LOGIN_PWD)>3`은  \n",
    "LOGIN_PWD 열 길이가 3 초과인 데이터만 저장 가능하다는 뜻이다.  \n",
    "즉, 비밀번호는 3글자 초과 이상만 저장할 수 있도록 제한을 둔 것이다.\n",
    "\n",
    "\n",
    "- 따라서, 다음의 INSERT문은 제약 조건에 맞지 않기 때문에 실행되지 않는다."
   ]
  },
  {
   "cell_type": "code",
   "execution_count": null,
   "metadata": {},
   "outputs": [],
   "source": [
    "--- 14-46\n",
    "\n",
    "INSERT INTO TABLE_CHECK\n",
    "VALUES('TEST_ID', '123', '010-1234-5678');"
   ]
  },
  {
   "cell_type": "markdown",
   "metadata": {},
   "source": [
    "결과 :\n",
    "![6-1(1)](https://user-images.githubusercontent.com/53929665/94997528-bd364700-05e6-11eb-9033-dca0995d65e9.JPG)"
   ]
  },
  {
   "cell_type": "markdown",
   "metadata": {},
   "source": [
    "- 하지만, 4자리로 설정하면 실행된다."
   ]
  },
  {
   "cell_type": "code",
   "execution_count": null,
   "metadata": {},
   "outputs": [],
   "source": [
    "--- 14-47\n",
    "\n",
    "INSERT INTO TABLE_CHECK\n",
    "VALUES('TEST_ID', '1234', '010-1234-5678');\n",
    "\n",
    "SELECT * FROM TABLE_CHECK;"
   ]
  },
  {
   "cell_type": "markdown",
   "metadata": {},
   "source": [
    "결과 : \n",
    "\n",
    "![6-1(2)](https://user-images.githubusercontent.com/53929665/94997529-be677400-05e6-11eb-80e1-7642efc494cd.JPG)"
   ]
  },
  {
   "cell_type": "markdown",
   "metadata": {},
   "source": [
    "- `CHECK`제약 조건은 모두 `C`로 다음과 같이 출력된다."
   ]
  },
  {
   "cell_type": "code",
   "execution_count": null,
   "metadata": {},
   "outputs": [],
   "source": [
    "--- 14-48\n",
    "\n",
    "SELECT OWNER, CONSTRAINT_NAME, CONSTRAINT_TYPE, TABLE_NAME\n",
    "    FROM USER_CONSTRAINTS\n",
    "    WHERE TABLE_NAME LIKE 'TABLE_CHECK';"
   ]
  },
  {
   "cell_type": "markdown",
   "metadata": {},
   "source": [
    "결과 :\n",
    "\n",
    "![6-1(3)](https://user-images.githubusercontent.com/53929665/94997530-be677400-05e6-11eb-93b8-15e5016e5787.JPG)"
   ]
  },
  {
   "cell_type": "markdown",
   "metadata": {},
   "source": [
    "---\n",
    "### [ 7. 기본값을 정하는 DEFAULT ]\n",
    "- `DEFAULT`제약조건 :\n",
    "    - 제약 조건과는 별개로 특정 열에 저장할 값이 지정되지 않았을 경우 사용"
   ]
  },
  {
   "cell_type": "markdown",
   "metadata": {},
   "source": [
    "#### (1) 테이블을 생성할 때 DEFAULT 제약 조건 설정하기"
   ]
  },
  {
   "cell_type": "code",
   "execution_count": null,
   "metadata": {},
   "outputs": [],
   "source": [
    "--- 14-49\n",
    "\n",
    "CREATE TABLE TABLE_DEFAULT(\n",
    "    LOGIN_ID  VARCHAR2(20) CONSTRAINT TBLCK2_LOGINID_PK PRIMARY KEY,\n",
    "    LOGIN_PWD VARCHAR2(20) DEFAULT '1234',\n",
    "    TEL       VARCHAR2(20)\n",
    ");\n",
    "\n",
    "DESC TABLE_DEFAULT;"
   ]
  },
  {
   "cell_type": "markdown",
   "metadata": {},
   "source": [
    "결과 :\n",
    "![7-1](https://user-images.githubusercontent.com/53929665/94997920-4babc800-05e9-11eb-8713-b21e4514209d.JPG)"
   ]
  },
  {
   "cell_type": "markdown",
   "metadata": {},
   "source": [
    "#### (2) DEFAULT로 지정한 기본값이 입력되는 INSERT문 확인하기"
   ]
  },
  {
   "cell_type": "code",
   "execution_count": null,
   "metadata": {},
   "outputs": [],
   "source": [
    "--- 14-50\n",
    "\n",
    "INSERT INTO TABLE_DEFAULT \n",
    "    VALUES('TEST_ID', NULL, '010-1234-5678');\n",
    "\n",
    "INSERT INTO TABLE_DEFAULT(LOGIN_ID, TEL)\n",
    "    VALUES('TEST_ID2', '010-1234-5678');\n",
    "    \n",
    "SELECT * FROM TABLE_DEFAULT;"
   ]
  },
  {
   "cell_type": "markdown",
   "metadata": {},
   "source": [
    "결과 :\n",
    "- 명시적으로 NULL을 지정한 첫 번째 INSERT문을 실행했을 때는 LOGIN_PWD열이 비어있다.\n",
    "- LOGIN_PWD 열 값을 지정하지 않은 두 번째 INSERT문을 실행했을 때는 기본값인 1234가 들어가 있다.\n",
    "\n",
    "![7-2](https://user-images.githubusercontent.com/53929665/94997922-4cdcf500-05e9-11eb-8ed3-5a4aec89bee2.JPG)"
   ]
  },
  {
   "cell_type": "markdown",
   "metadata": {},
   "source": [
    "---\n",
    "### [ 8. 제약 조건 비활성화, 활성화 ]\n",
    "> 제약 조건은 데이터 무결성을 보장하는 중요한 역할을 하지만,  \n",
    "> 신규 기능 개발 또는 테스트 같은 업무를 수행해야 할 때  \n",
    "> 제약 조건이 걸림돌이 되는 경우가 종종 있다.  \n",
    "> 이때 여러 필요에 의해 제약 조건을 비활성화하거나 비활성화시킨 제약 조건을 다시 활성화할 수 있다.\n",
    "\n",
    "- 참조 : docs.oracle.com/cd/E11882_01/server.112/e41084/clauses002.htm#SQLRF52180"
   ]
  },
  {
   "cell_type": "markdown",
   "metadata": {},
   "source": [
    "#### (1) DISABLE : 비활성화\n",
    "```SQL\n",
    "ALTER TABLE 테이블 이름\n",
    "DISABLE [NONVALIDATE/VALIDATE(선택)] CONSTRAINT 제약조건이름;\n",
    "```"
   ]
  },
  {
   "cell_type": "markdown",
   "metadata": {},
   "source": [
    "#### (2) ENABLE : 활성화\n",
    "```SQL\n",
    "ALTER TABLE 테이블 이름\n",
    "ENABLE [NONVALIDATE/VALIDATE(선택)] CONSTRAINT 제약조건이름;\n",
    "```"
   ]
  }
 ],
 "metadata": {
  "kernelspec": {
   "display_name": "Python 3",
   "language": "python",
   "name": "python3"
  },
  "language_info": {
   "codemirror_mode": {
    "name": "ipython",
    "version": 3
   },
   "file_extension": ".py",
   "mimetype": "text/x-python",
   "name": "python",
   "nbconvert_exporter": "python",
   "pygments_lexer": "ipython3",
   "version": "3.7.7"
  }
 },
 "nbformat": 4,
 "nbformat_minor": 4
}
