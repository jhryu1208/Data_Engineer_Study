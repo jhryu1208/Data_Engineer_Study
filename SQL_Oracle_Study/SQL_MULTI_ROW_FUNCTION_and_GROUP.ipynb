{
 "cells": [
  {
   "cell_type": "markdown",
   "metadata": {},
   "source": [
    "## <U>다중행 함수와 데이터 그룹화</u>\n",
    "---\n",
    "### [ 1. 다중행 함수 (Multi-Row-Function) ]\n",
    "- <U>여러 행을 바탕으로 하나의 결과 값을 도출해내기 위해 사용하는 함수</U>\n",
    "- 다중행 함수의 종류 : `SUM`, `COUNT`, `MAX`, `MIN`, `AVG`, ...\n",
    "\n",
    "\n",
    "- ex) `SUM`함수를 사용한 예시"
   ]
  },
  {
   "cell_type": "code",
   "execution_count": null,
   "metadata": {},
   "outputs": [],
   "source": [
    "SELECT SUM(SAL)\n",
    "FROM EMP;"
   ]
  },
  {
   "cell_type": "markdown",
   "metadata": {},
   "source": [
    "결과 : \n",
    "- `SUM`함수는 SELECT문으로 조회된 행에 지정한 열 값을 모두 더해준다.\n",
    "- SAL 열 값을 모두 합한 결과가 다음과 같이 하나의 행으로 출력된다.\n",
    "![1](https://user-images.githubusercontent.com/53929665/93601176-c080de80-f9fb-11ea-896c-d16e7a769c5a.JPG)"
   ]
  },
  {
   "cell_type": "markdown",
   "metadata": {},
   "source": [
    "- 또한, <U>다중행 함수를 사용한 SELECT절에는 기본적으로 여러 행이 결과로 나올 수 있는 열을 함께 사용할 수 없다.</U>\n",
    "\n",
    "\n",
    "- ex) 여러 행이 결과로 나올 수 있는 열과 같이 못 사용하는 다중행 함수"
   ]
  },
  {
   "cell_type": "code",
   "execution_count": null,
   "metadata": {},
   "outputs": [],
   "source": [
    "SELECT ENAME, SUM(SAL)\n",
    "FROM EMP;"
   ]
  },
  {
   "cell_type": "markdown",
   "metadata": {},
   "source": [
    "결과 :\n",
    "    ![1(2)](https://user-images.githubusercontent.com/53929665/93601172-bf4fb180-f9fb-11ea-97d6-2789d25b3023.JPG)\n"
   ]
  },
  {
   "cell_type": "markdown",
   "metadata": {},
   "source": [
    "#### (1) SUM 함수\n",
    "- 기본형태\n",
    "```\n",
    "SUM([DISTINCT, ALL 중 하나를 선택하거나 아무 값도 지정하지 않음(선택)]  \n",
    "      [합계를 구할 열이나 연산자, 함수를 사용한 데이터(필수)]\n",
    "```\n",
    "- 분석을 위한 용도의 `SUM`함수 문법\n",
    "```\n",
    "SUM([DISTINCT, ALL 중 하나를 선택하거나 아무 값도 지정하지 않음(선택)]  \n",
    "      [합계를 구할 열이나 연산자, 함수를 사용한 데이터(필수)]\n",
    "OVER(분석을 위한 여러문법을 지정)(선택)\n",
    "```"
   ]
  },
  {
   "cell_type": "markdown",
   "metadata": {},
   "source": [
    "#### (1-1) 합계 구하기"
   ]
  },
  {
   "cell_type": "code",
   "execution_count": null,
   "metadata": {},
   "outputs": [],
   "source": [
    "SELECT SUM(COMM)\n",
    "FROM EMP;"
   ]
  },
  {
   "cell_type": "markdown",
   "metadata": {},
   "source": [
    "결과 :\n",
    "\n",
    "![1-1-1](https://user-images.githubusercontent.com/53929665/93601177-c080de80-f9fb-11ea-869c-3d0ec617e315.JPG)"
   ]
  },
  {
   "cell_type": "markdown",
   "metadata": {},
   "source": [
    "#### (1-2) `SUM`함수와 `DISTINCT`, `ALL` 함께 사용하기"
   ]
  },
  {
   "cell_type": "code",
   "execution_count": null,
   "metadata": {},
   "outputs": [],
   "source": [
    "SELECT  SUM(DISTINCT SAL),\n",
    "        SUM(ALL SAL),\n",
    "        SUM(SAL)\n",
    "    FROM EMP;"
   ]
  },
  {
   "cell_type": "markdown",
   "metadata": {},
   "source": [
    "결과 :\n",
    "- `ALL`을 사용한 결과와 아무 옵션을 지정하지 않은 `SUM`함수의 결과는 같다.\n",
    "- `DISTINCT`를 지정한 SUM함수와 `SUM`함수의 결과는 다르다.\n",
    "    - `SUM`함수에 `DISTINCT`를 지정하면 <U>같은 결과 값을 가진 데이터는 합계에서 한번만 사용되기 때문이다.</U>\n",
    "\n",
    "![1-1-2](https://user-images.githubusercontent.com/53929665/93601179-c1197500-f9fb-11ea-87cc-8d7cb8dcc2a1.JPG)"
   ]
  },
  {
   "cell_type": "markdown",
   "metadata": {},
   "source": [
    "#### (2) COUNT 함수\n",
    "- 데이터 개수를 출력하는데 사용\n",
    "- `COUNT`함수에 `*`을 사용하면 SELECT문의 결과 값으로 나온 <U>행 데이터의 개수</U>를 반환해준다.\n",
    "\n",
    "\n",
    "- 기본형식\n",
    "```\n",
    "COUNT([DISTINCT, ALL 중 하나를 선택하거나 아무 값도 지정하지 않음(선택)]\n",
    "        [개수를 구할 열이나 연산자, 함수를 사용한 데이터(필수)]\n",
    "OVER(분석을 위한 여러 문법 지정)(선택)\n",
    "```"
   ]
  },
  {
   "cell_type": "markdown",
   "metadata": {},
   "source": [
    "#### (2-1) EMP 테이블의 데이터 개수 출력하기"
   ]
  },
  {
   "cell_type": "code",
   "execution_count": null,
   "metadata": {},
   "outputs": [],
   "source": [
    "SELECT COUNT(*)\n",
    "FROM EMP;"
   ]
  },
  {
   "cell_type": "markdown",
   "metadata": {},
   "source": [
    "결과 :\n",
    "\n",
    "![1-2-1](https://user-images.githubusercontent.com/53929665/93601181-c1b20b80-f9fb-11ea-8268-b24d4395998c.JPG)"
   ]
  },
  {
   "cell_type": "markdown",
   "metadata": {},
   "source": [
    "#### (2-2) `WHERE`조건절을 붙여 사용하기"
   ]
  },
  {
   "cell_type": "code",
   "execution_count": null,
   "metadata": {},
   "outputs": [],
   "source": [
    "SELECT COUNT(*)\n",
    "FROM EMP\n",
    "WHERE DEPTNO = 30;"
   ]
  },
  {
   "cell_type": "markdown",
   "metadata": {},
   "source": [
    "결과 :\n",
    "\n",
    "![1-2-2](https://user-images.githubusercontent.com/53929665/93601182-c1b20b80-f9fb-11ea-84bf-fa3bfa1f7629.JPG)"
   ]
  },
  {
   "cell_type": "markdown",
   "metadata": {},
   "source": [
    "#### (2-3) ` COUNT` : `DINSTICT`, `ALL` 옵션 사용 "
   ]
  },
  {
   "cell_type": "code",
   "execution_count": null,
   "metadata": {},
   "outputs": [],
   "source": [
    "SELECT  COUNT(DISTINCT SAL),\n",
    "        COUNT(ALL SAL),\n",
    "        COUNT(SAL)\n",
    "    FROM EMP"
   ]
  },
  {
   "cell_type": "markdown",
   "metadata": {},
   "source": [
    "결과 :\n",
    "\n",
    "![1-2-3](https://user-images.githubusercontent.com/53929665/93601183-c24aa200-f9fb-11ea-87fe-d221d4d6313d.JPG)"
   ]
  },
  {
   "cell_type": "markdown",
   "metadata": {},
   "source": [
    "#### (2-4) `COUNT` : `NULL`데이터 반환 개수 제외 예제 "
   ]
  },
  {
   "cell_type": "code",
   "execution_count": null,
   "metadata": {},
   "outputs": [],
   "source": [
    "SELECT  COUNT(COMM)\n",
    "    FROM EMP;"
   ]
  },
  {
   "cell_type": "markdown",
   "metadata": {},
   "source": [
    "결과 :\n",
    "\n",
    "![1-2-4](https://user-images.githubusercontent.com/53929665/93601185-c2e33880-f9fb-11ea-94dc-acfdc6904bad.JPG)"
   ]
  },
  {
   "cell_type": "markdown",
   "metadata": {},
   "source": [
    "#### (2-5) `COUNT` : NULL 이 아닌 데이터값의 개수 출력 예제"
   ]
  },
  {
   "cell_type": "code",
   "execution_count": null,
   "metadata": {},
   "outputs": [],
   "source": [
    "SELECT  COUNT(COMM)\n",
    "    FROM EMP\n",
    "    WHERE COMM IS NOT NULL;"
   ]
  },
  {
   "cell_type": "markdown",
   "metadata": {},
   "source": [
    "결과 :\n",
    "\n",
    "![1-2-5](https://user-images.githubusercontent.com/53929665/93601186-c2e33880-f9fb-11ea-9342-cf077bee835b.JPG)"
   ]
  },
  {
   "cell_type": "markdown",
   "metadata": {},
   "source": [
    "#### (3) MAX, MIN 함수\n",
    "- 최댓값과 최솟값을 반환하는 함수\n",
    "\n",
    "\n",
    "- 기본형식\n",
    "\n",
    "```\n",
    "MAX([DISTINCT, ALL 중 하나를 선택하거나 아무 값도 지정하지 않음(선택)]\n",
    "      [개수를 구할 열이나 연산자, 함수를 사용한 데이터(필수)]\n",
    "OVER(분석을 위한 여러 문법 지정)(선택)\n",
    "```\n",
    "\n",
    "\n",
    "```\n",
    "MIN([DISTINCT, ALL 중 하나를 선택하거나 아무 값도 지정하지 않음(선택)]\n",
    "      [개수를 구할 열이나 연산자, 함수를 사용한 데이터(필수)]\n",
    "OVER(분석을 위한 여러 문법 지정)(선택)\n",
    "```"
   ]
  },
  {
   "cell_type": "markdown",
   "metadata": {},
   "source": [
    "#### (3-1) 숫자 데이터에 `MAX`, `MIN` 함수 사용하기\n",
    "    - 부서 번호가 10번인 사원들의 최대 급여 출력하기"
   ]
  },
  {
   "cell_type": "code",
   "execution_count": null,
   "metadata": {},
   "outputs": [],
   "source": [
    "SELECT MAX(SAL)\n",
    "    FROM EMP\n",
    "    WHERE DEPTNO = 10;"
   ]
  },
  {
   "cell_type": "markdown",
   "metadata": {},
   "source": [
    "결과 :\n",
    "\n",
    "![1-3-1(1)](https://user-images.githubusercontent.com/53929665/93601187-c37bcf00-f9fb-11ea-9d14-ce8a9701b85d.JPG)"
   ]
  },
  {
   "cell_type": "markdown",
   "metadata": {},
   "source": [
    "    - 부서 번호가 10번인 사원들의 최소 급여 출력하기"
   ]
  },
  {
   "cell_type": "code",
   "execution_count": null,
   "metadata": {},
   "outputs": [],
   "source": [
    "SELECT MIN(SAL)\n",
    "    FROM EMP\n",
    "    WHERE DEPTNO = 10;"
   ]
  },
  {
   "cell_type": "markdown",
   "metadata": {},
   "source": [
    "결과 :\n",
    "\n",
    "![1-3-1(2)](https://user-images.githubusercontent.com/53929665/93601189-c4146580-f9fb-11ea-9e09-7f5ca4d5444b.JPG)"
   ]
  },
  {
   "cell_type": "markdown",
   "metadata": {},
   "source": [
    "#### (3-2) 날짜 데이터에 `MAX`, `MIN` 함수 사용하기\n",
    "    - 부서 번호가 20인 사원의 입사일 중 제일 최근 입사일 출력하기"
   ]
  },
  {
   "cell_type": "code",
   "execution_count": null,
   "metadata": {},
   "outputs": [],
   "source": [
    "SELECT MAX(HIREDATE)\n",
    "    FROM EMP\n",
    "    WHERE DEPTNO = 20;"
   ]
  },
  {
   "cell_type": "markdown",
   "metadata": {},
   "source": [
    "결과 :\n",
    "\n",
    "![1-3-2(1)](https://user-images.githubusercontent.com/53929665/93601191-c4146580-f9fb-11ea-9a48-7c43e1032eba.JPG)"
   ]
  },
  {
   "cell_type": "markdown",
   "metadata": {},
   "source": [
    "    - 부서 번호가 20인 사원의 입사일 중 제일 오래된 입사일 출력하기"
   ]
  },
  {
   "cell_type": "code",
   "execution_count": null,
   "metadata": {},
   "outputs": [],
   "source": [
    "SELECT MIN(HIREDATE)\n",
    "    FROM EMP\n",
    "    WHERE DEPTNO = 20;"
   ]
  },
  {
   "cell_type": "markdown",
   "metadata": {},
   "source": [
    "결과 :\n",
    "\n",
    "![1-3-2(2)](https://user-images.githubusercontent.com/53929665/93601192-c4acfc00-f9fb-11ea-9e15-2a05741d6f87.JPG)"
   ]
  },
  {
   "cell_type": "markdown",
   "metadata": {},
   "source": [
    "#### (4) AVG 함수\n",
    "- 입력 데이터의 평균 값을 구하는 함수\n",
    "- 숫자 또는 숫자로 암시적 형 변환이 가능한 데이터만 사용할 수 있다.\n",
    "\n",
    "\n",
    "- 기본형식\n",
    "```\n",
    "AVG([DISTINCT, ALL 중 하나를 선택하거나 아무 값도 지정하지 않음(선택)]\n",
    "    [개수를 구할 열이나 연산자, 함수를 사용한 데이터(필수)]\n",
    "OVER(분석을 위한 여러 문법 지정)(선택)\n",
    "```"
   ]
  },
  {
   "cell_type": "markdown",
   "metadata": {},
   "source": [
    "#### (4-1) `AVG` 함수 사용하기\n",
    "    - 부서 번호가 30인 사원들의 평균 급여 출력하기 "
   ]
  },
  {
   "cell_type": "code",
   "execution_count": null,
   "metadata": {},
   "outputs": [],
   "source": [
    "SELECT  AVG(SAL)\n",
    "    FROM EMP\n",
    "    WHERE DEPTNO = 30;"
   ]
  },
  {
   "cell_type": "markdown",
   "metadata": {},
   "source": [
    "결과 :\n",
    "\n",
    "![1-4-1](https://user-images.githubusercontent.com/53929665/93601193-c4acfc00-f9fb-11ea-9409-21eb80315864.JPG)"
   ]
  },
  {
   "cell_type": "markdown",
   "metadata": {},
   "source": [
    "#### (4-2) `AVG` : `DISTINCT` 옵션 적용\n",
    "    - `DISTINCT`로 중복을 제거한 급여 열의 평균 급여 구하기"
   ]
  },
  {
   "cell_type": "code",
   "execution_count": null,
   "metadata": {},
   "outputs": [],
   "source": [
    "SELECT AVG(DISTINCT SAL)\n",
    "    FROM EMP\n",
    "    WHERE DEPTNO = 30;"
   ]
  },
  {
   "cell_type": "markdown",
   "metadata": {},
   "source": [
    "결과 :\n",
    "\n",
    "![1-4-2](https://user-images.githubusercontent.com/53929665/93601196-c5459280-f9fb-11ea-9401-c27969a0f505.JPG)\n"
   ]
  },
  {
   "cell_type": "markdown",
   "metadata": {},
   "source": [
    "---\n",
    "### [ 2. GROUP BY 절 ]\n",
    "- SELECT문에서는 `GROUP BY`절을 작성하여 데이터를 그룹화할 수 있는데 다음과 같이 순서에 맞게 작성하며 그룹으로 묶을 기준 열을 지정한다.\n",
    "\n",
    "- 기본형식\n",
    "```\n",
    "SELECT     [조회할 열1 이름], [열2 이름], ..., [열N 이름]\n",
    "FROM       [조회할 테이블 이름]\n",
    "WHERE      [조회할 행을 선별하는 조건식]\n",
    "GROUP BY   [그룹화할 열을 지정(여러 개 지정 가능)]\n",
    "ORDER BY   [정렬하려는 열 지정]\n",
    "```"
   ]
  },
  {
   "cell_type": "markdown",
   "metadata": {},
   "source": [
    "#### (1) `GROUP BY` 절 사용하기\n",
    "\n",
    "- `GROUP BY`를 사용하여 부서별 평균 급여 출력하기"
   ]
  },
  {
   "cell_type": "code",
   "execution_count": null,
   "metadata": {},
   "outputs": [],
   "source": [
    "SELECT AVG(SAL), DEPTNO\n",
    "    FROM EMP\n",
    "    GROUP BY DEPTNO;"
   ]
  },
  {
   "cell_type": "markdown",
   "metadata": {},
   "source": [
    "결과 :\n",
    "![2-1(1)](https://user-images.githubusercontent.com/53929665/93604694-b0b7c900-fa00-11ea-98d3-59212c4be97c.JPG)"
   ]
  },
  {
   "cell_type": "markdown",
   "metadata": {},
   "source": [
    "- 부서 번호 및 직책별 평균 급여로 정렬하기"
   ]
  },
  {
   "cell_type": "code",
   "execution_count": null,
   "metadata": {},
   "outputs": [],
   "source": [
    "SELECT DEPTNO, JOB, AVG(SAL)\n",
    "    FROM EMP\n",
    "    GROUP BY(DEPTNO, JOB);"
   ]
  },
  {
   "cell_type": "markdown",
   "metadata": {},
   "source": [
    "결과 :\n",
    "\n",
    "![2-1(2)](https://user-images.githubusercontent.com/53929665/93604697-b1505f80-fa00-11ea-9511-f96894d845a9.JPG)"
   ]
  },
  {
   "cell_type": "markdown",
   "metadata": {},
   "source": [
    "#### (2) `GROUP BY`절을 사용할 때 유의점\n",
    "- 다중 행 함수를 사용하지 않은 일반 열은 `GROUP BY`절에 명시하지 않으면 SELECT절에서 사용할 수 없다.\n",
    "\n",
    "\n",
    "- ex) `GROUP BY`절에 없는 열을 SELECT절에 포함시킬 경우"
   ]
  },
  {
   "cell_type": "code",
   "execution_count": null,
   "metadata": {},
   "outputs": [],
   "source": [
    "SELECT ENAME, DEPTNO, AVG(SAL)\n",
    "    FROM EMP\n",
    "    GROUP BY DEPTNO;"
   ]
  },
  {
   "cell_type": "markdown",
   "metadata": {},
   "source": [
    "결과 :\n",
    "\n",
    "![2-2](https://user-images.githubusercontent.com/53929665/93604700-b1e8f600-fa00-11ea-970d-45530790bfd6.JPG)\n"
   ]
  },
  {
   "cell_type": "markdown",
   "metadata": {},
   "source": [
    "---\n",
    "### [ 3. HAVING 절 ]\n",
    "- SELECT문에 <U>`GROUP BY`절이 존재할 때만</U> 사용할 수 있다.\n",
    "- `GROUP BY`절을 통해 그룹화된 결과 값의 <U>범위를 제한</U>하는데 사용\n",
    "\n",
    "\n",
    "- 기본형식\n",
    "```\n",
    "SELECT     [조회할 열1 이름], [열2 이름], ..., [열N 이름]\n",
    "FROM       [조회할 테이블 이름]\n",
    "WHERE      [조회할 행을 선별하는 조건식]\n",
    "GROUP BY   [그룹화할 열을 지정(여러 개 지정 가능)]\n",
    "HAVING     [출력 그룹을 제한하는 조건식]\n",
    "ORDER BY   [정렬하려는 열 지정]\n",
    "```"
   ]
  },
  {
   "cell_type": "markdown",
   "metadata": {},
   "source": [
    "#### (1) `GROUP BY`절과 `HAVING`절 사용하기"
   ]
  },
  {
   "cell_type": "code",
   "execution_count": null,
   "metadata": {},
   "outputs": [],
   "source": [
    "SELECT DEPTNO, JOB, AVG(SAL)\n",
    "    FROM EMP\n",
    "    GROUP BY (DEPTNO, JOB)\n",
    "        HAVING AVG(SAL) >= 2000\n",
    "    ORDER BY DEPTNO, JOB;"
   ]
  },
  {
   "cell_type": "markdown",
   "metadata": {},
   "source": [
    "결과 :\n",
    "- `HAVING`절이 없을 경우\n",
    "![3-1(1)](https://user-images.githubusercontent.com/53929665/93607380-34bf8000-fa04-11ea-9544-052ceb1628d9.JPG)\n",
    "\n",
    "- `HAVING`절이 있을 경우\n",
    "![3-1(2)](https://user-images.githubusercontent.com/53929665/93607381-34bf8000-fa04-11ea-99eb-80817d47aa68.JPG)"
   ]
  },
  {
   "cell_type": "markdown",
   "metadata": {},
   "source": [
    "#### (2) `HAVING`절을 사용할 떄 유의점\n",
    "- `WHERE`절과 `HAVING`절은 비슷하지만 다르다!!!\n",
    "    - `WHERE` : 출력 대상 행을 제한\n",
    "    - `HAVING` : 그룹화된 대상을 출력에서 제한\n",
    "\n",
    "\n",
    "- 따라서, 출력결과를 제한하기 위해 `HAVING`절말고 `WHERE`절을 사용하려고하면 다음과 같은 오류가 발생한다."
   ]
  },
  {
   "cell_type": "code",
   "execution_count": null,
   "metadata": {},
   "outputs": [],
   "source": [
    "SELECT DEPTNO, JOB, AVG(SAL)\n",
    "    FROM EMP\n",
    "    WHERE AVG(SAL) >= 2000\n",
    "    GROUP BY DEPTNO, JOB\n",
    "    ORDER BY DEPTNO, JOB;"
   ]
  },
  {
   "cell_type": "markdown",
   "metadata": {},
   "source": [
    "결과 :\n",
    "\n",
    "![3-2](https://user-images.githubusercontent.com/53929665/93607383-35581680-fa04-11ea-87e3-34354ed7fcff.JPG)"
   ]
  },
  {
   "cell_type": "markdown",
   "metadata": {},
   "source": [
    "#### (3) `WHERE`절과 `HAVING`절의 차이점"
   ]
  },
  {
   "cell_type": "markdown",
   "metadata": {},
   "source": [
    "- `WHERE`절을 사용하지 않고 `HAVING`절만 사용한 경우"
   ]
  },
  {
   "cell_type": "code",
   "execution_count": null,
   "metadata": {},
   "outputs": [],
   "source": [
    "SELECT DEPTNO, JOB, AVG(SAL)\n",
    "    FROM EMP\n",
    "    GROUP BY DEPTNO, JOB\n",
    "        HAVING AVG(SAL) >= 2000\n",
    "    ORDER BY DEPTNO, JOB;"
   ]
  },
  {
   "cell_type": "markdown",
   "metadata": {},
   "source": [
    "결과 :\n",
    "![3-3(1)](https://user-images.githubusercontent.com/53929665/93607373-32f5bc80-fa04-11ea-8cbf-895e35be000e.JPG)\n"
   ]
  },
  {
   "cell_type": "markdown",
   "metadata": {},
   "source": [
    "- `WHERE`절과 `HAVING`절 모두 사용한 경우"
   ]
  },
  {
   "cell_type": "code",
   "execution_count": null,
   "metadata": {},
   "outputs": [],
   "source": [
    "SELECT DEPTNO, JOB, AVG(SAL)\n",
    "    FROM EMP\n",
    "    WHERE SAL <= 3000\n",
    "    GROUP BY DEPTNO, JOB\n",
    "        HAVING AVG(SAL) >= 2000\n",
    "    ORDER BY DEPTNO, JOB;"
   ]
  },
  {
   "cell_type": "markdown",
   "metadata": {},
   "source": [
    "결과 : SAL의 평균이 5000인 PRESIDENT행이 사라짐\n",
    "\n",
    "![3-3(2)](https://user-images.githubusercontent.com/53929665/93607378-3426e980-fa04-11ea-94d8-8c02095520a3.JPG)\n",
    "\n"
   ]
  },
  {
   "cell_type": "markdown",
   "metadata": {},
   "source": [
    "> (결론)  \n",
    "> - 위의 결과를 통해, `WHERE`절이 `GROUP BY`절, `HAVING`절 보다 먼저 실행되는 것을 알 수 있다."
   ]
  },
  {
   "cell_type": "markdown",
   "metadata": {},
   "source": [
    "---\n",
    "### [ 4. 그룹화와 관련된 여러 함수 ]"
   ]
  },
  {
   "cell_type": "markdown",
   "metadata": {},
   "source": [
    "#### (1) ROLLUP, CUBE, GROUPING SETS 함수"
   ]
  },
  {
   "cell_type": "code",
   "execution_count": null,
   "metadata": {},
   "outputs": [],
   "source": []
  },
  {
   "cell_type": "markdown",
   "metadata": {},
   "source": [
    "#### (2) 그룹화 함수"
   ]
  },
  {
   "cell_type": "code",
   "execution_count": null,
   "metadata": {},
   "outputs": [],
   "source": []
  },
  {
   "cell_type": "markdown",
   "metadata": {},
   "source": [
    "#### (3) LISTAGG 함수"
   ]
  },
  {
   "cell_type": "code",
   "execution_count": null,
   "metadata": {},
   "outputs": [],
   "source": []
  },
  {
   "cell_type": "markdown",
   "metadata": {},
   "source": [
    "#### (4) PIVOT, UNPIVOT 함수"
   ]
  },
  {
   "cell_type": "code",
   "execution_count": null,
   "metadata": {},
   "outputs": [],
   "source": []
  }
 ],
 "metadata": {
  "kernelspec": {
   "display_name": "Python 3",
   "language": "python",
   "name": "python3"
  },
  "language_info": {
   "codemirror_mode": {
    "name": "ipython",
    "version": 3
   },
   "file_extension": ".py",
   "mimetype": "text/x-python",
   "name": "python",
   "nbconvert_exporter": "python",
   "pygments_lexer": "ipython3",
   "version": "3.7.7"
  }
 },
 "nbformat": 4,
 "nbformat_minor": 4
}
